{
 "cells": [
  {
   "cell_type": "code",
   "execution_count": 2,
   "id": "01fedcd4",
   "metadata": {},
   "outputs": [],
   "source": [
    "import selenium\n",
    "import pandas as pd\n",
    "from selenium import webdriver\n",
    "import warnings\n",
    "warnings.filterwarnings('ignore')\n",
    "from selenium.common.exceptions import StaleElementReferenceException, NoSuchElementException\n",
    "from selenium.webdriver.common.by import By\n",
    "import time\n",
    "from selenium.webdriver.common.by import By\n",
    "from selenium.webdriver.support.ui import WebDriverWait\n",
    "from selenium.webdriver.support import expected_conditions as EC\n",
    "from bs4 import BeautifulSoup\n",
    "import requests"
   ]
  },
  {
   "cell_type": "code",
   "execution_count": 5,
   "id": "1adf1393",
   "metadata": {},
   "outputs": [],
   "source": [
    "driver=webdriver.Chrome(r\"C:\\Users\\cws\\Desktop\\chromedriver_win32\\chromedriver.exe\")"
   ]
  },
  {
   "cell_type": "code",
   "execution_count": 10,
   "id": "101d2261",
   "metadata": {},
   "outputs": [
    {
     "name": "stdout",
     "output_type": "stream",
     "text": [
      "*******QUESTION NO 1*************\n"
     ]
    }
   ],
   "source": [
    "print (\"*******QUESTION NO 1*************\")"
   ]
  },
  {
   "cell_type": "code",
   "execution_count": 55,
   "id": "54479abb",
   "metadata": {},
   "outputs": [],
   "source": [
    "driver.get(\"https://www.amazon.in/\")"
   ]
  },
  {
   "cell_type": "code",
   "execution_count": 5,
   "id": "3dde6174",
   "metadata": {},
   "outputs": [
    {
     "name": "stdout",
     "output_type": "stream",
     "text": [
      "Enter the product name: Guitar\n"
     ]
    }
   ],
   "source": [
    "product_name = input('Enter the product name: ')"
   ]
  },
  {
   "cell_type": "code",
   "execution_count": 56,
   "id": "5ffa6236",
   "metadata": {},
   "outputs": [],
   "source": [
    "search_bar=driver.find_element(By.XPATH, '/html/body/div[1]/header/div/div[1]/div[2]/div/form/div[2]/div[1]/input')\n",
    "search_bar.send_keys('Guitar')"
   ]
  },
  {
   "cell_type": "code",
   "execution_count": 57,
   "id": "70c2ee39",
   "metadata": {},
   "outputs": [],
   "source": [
    "search_button=driver.find_element(By.CLASS_NAME,\"nav-right\")\n",
    "search_button.click()"
   ]
  },
  {
   "cell_type": "code",
   "execution_count": 14,
   "id": "4597ece8",
   "metadata": {},
   "outputs": [
    {
     "name": "stdout",
     "output_type": "stream",
     "text": [
      "*******QUESTION NO 1 COMPLETE**********\n"
     ]
    }
   ],
   "source": [
    "print (\"*******QUESTION NO 1 COMPLETE**********\")"
   ]
  },
  {
   "cell_type": "code",
   "execution_count": 15,
   "id": "d8294e90",
   "metadata": {},
   "outputs": [
    {
     "name": "stdout",
     "output_type": "stream",
     "text": [
      "*******QUESTION NO 2*************\n"
     ]
    }
   ],
   "source": [
    "print (\"*******QUESTION NO 2*************\")"
   ]
  },
  {
   "cell_type": "code",
   "execution_count": 58,
   "id": "2d526465",
   "metadata": {},
   "outputs": [],
   "source": [
    "product_urls = []\n",
    "start = 0\n",
    "end = 3\n",
    "\n",
    "for page in range(start, end):\n",
    "    url = driver.find_elements(By.XPATH, '//a[@class=\"a-link-normal s-underline-text s-underline-link-text s-link-style a-text-normal\"]')\n",
    "    for i in url:\n",
    "        product_urls.append(i.get_attribute('href'))\n",
    "    nxt_button = driver.find_element(By.XPATH, '//a[contains(@class, \"s-pagination-item\") and contains(@class, \"s-pagination-next\") and contains(@class, \"s-pagination-button\") and contains(@class, \"s-pagination-separator\")]')\n",
    "    nxt_button.click()\n",
    "    time.sleep(2)"
   ]
  },
  {
   "cell_type": "code",
   "execution_count": 59,
   "id": "bc4ed5eb",
   "metadata": {},
   "outputs": [],
   "source": [
    "for url in product_urls:\n",
    "    driver.get(url)\n",
    "    time.sleep(2)\n",
    "    \n",
    "\n",
    "brand = []\n",
    "product = []\n",
    "price = []\n",
    "exchange = []\n",
    "expected_delivery = []\n",
    "availability = []\n",
    "ProductURL = []\n",
    "\n",
    "\n",
    "for url in product_urls:\n",
    "    driver.get(url)\n",
    "    time.sleep(2)\n",
    "    \n",
    "    try:\n",
    "        brand_element = driver.find_element(By.XPATH, '//span[@class=\"a-size-base po-break-word\"]')\n",
    "        brand.append(brand_element.text)\n",
    "    except NoSuchElementException:\n",
    "        brand.append('N/A')\n",
    "    \n",
    "    try:\n",
    "        product_element = driver.find_element(By.XPATH, '//span[@class=\"a-size-large product-title-word-break\"]')\n",
    "        product.append(product_element.text)\n",
    "    except NoSuchElementException:\n",
    "        product.append('N/A')\n",
    "    \n",
    "    try:\n",
    "        price_element = driver.find_element(By.XPATH, '//span[@class=\"a-price-whole\"]')\n",
    "        price.append(price_element.text)\n",
    "    except NoSuchElementException:\n",
    "        price.append('N/A')\n",
    "\n",
    "    try:\n",
    "        exchange_element = driver.find_element(By.XPATH, '//div[@class=\"a-section a-spacing-none icon-content\"]')\n",
    "        exchange.append(exchange_element.text)\n",
    "    except NoSuchElementException:\n",
    "        exchange.append('N/A')\n",
    "    \n",
    "    try:\n",
    "        availability_element = driver.find_element(By.XPATH, '//span[@class=\"a-size-medium a-color-success\"]')\n",
    "        availability.append(availability_element.text)\n",
    "    except NoSuchElementException:\n",
    "        availability.append('N/A')\n",
    "    \n",
    "    try:\n",
    "        ProductURL_element = driver.find_element(By.XPATH, '/html/body/div[2]/div[2]/div[5]/div[3]/div[4]/div[3]/div/a')\n",
    "        ProductURL.append(ProductURL_element.text)\n",
    "    except NoSuchElementException:\n",
    "        ProductURL.append('N/A')\n"
   ]
  },
  {
   "cell_type": "code",
   "execution_count": 60,
   "id": "6228932e",
   "metadata": {},
   "outputs": [],
   "source": [
    "data = {\n",
    "    'Brand': brand,\n",
    "    'Product': product,\n",
    "    'Price': price,\n",
    "    'Exchange': exchange,\n",
    "    'Availability': availability,\n",
    "    'ProductURL': ProductURL\n",
    "}\n",
    "df = pd.DataFrame(data)\n"
   ]
  },
  {
   "cell_type": "code",
   "execution_count": 61,
   "id": "22838daa",
   "metadata": {},
   "outputs": [],
   "source": [
    "df.to_csv('List.csv', index=False)"
   ]
  },
  {
   "cell_type": "code",
   "execution_count": 1,
   "id": "f8e4fc54",
   "metadata": {},
   "outputs": [
    {
     "name": "stdout",
     "output_type": "stream",
     "text": [
      "************END OF QUESTION NO 2************\n"
     ]
    }
   ],
   "source": [
    "print (\"************END OF QUESTION NO 2************\")"
   ]
  },
  {
   "cell_type": "code",
   "execution_count": 14,
   "id": "3b036a18",
   "metadata": {},
   "outputs": [
    {
     "name": "stdout",
     "output_type": "stream",
     "text": [
      "************QUESTION NO 3************\n"
     ]
    }
   ],
   "source": [
    "print (\"************QUESTION NO 3************\")"
   ]
  },
  {
   "cell_type": "code",
   "execution_count": 22,
   "id": "d665ea54",
   "metadata": {},
   "outputs": [],
   "source": [
    "driver=webdriver.Chrome(r\"C:\\Users\\cws\\Desktop\\chromedriver_win32\\chromedriver.exe\")"
   ]
  },
  {
   "cell_type": "code",
   "execution_count": 23,
   "id": "525b3127",
   "metadata": {},
   "outputs": [],
   "source": [
    "driver.get(\"https://images.google.com\")"
   ]
  },
  {
   "cell_type": "code",
   "execution_count": 30,
   "id": "311fea80",
   "metadata": {},
   "outputs": [
    {
     "name": "stdout",
     "output_type": "stream",
     "text": [
      "****DOWNLOADING IMAGES OF CARS********\n"
     ]
    }
   ],
   "source": [
    "print (\"****DOWNLOADING IMAGES OF CARS********\")"
   ]
  },
  {
   "cell_type": "code",
   "execution_count": 24,
   "id": "8a374b4c",
   "metadata": {},
   "outputs": [],
   "source": [
    "search_bar=driver.find_element(By.XPATH, '//textarea[@class=\"gLFyf\"]')\n",
    "search_bar.send_keys('Cars')\n",
    "search_button=driver.find_element(By.CLASS_NAME, 'zgAlFc')\n",
    "search_button.click()"
   ]
  },
  {
   "cell_type": "code",
   "execution_count": 29,
   "id": "0fd67271",
   "metadata": {},
   "outputs": [
    {
     "name": "stdout",
     "output_type": "stream",
     "text": [
      "Downloading image 1\n",
      "Downloading image 2\n",
      "Downloading image 3\n",
      "Downloading image 4\n",
      "Downloading image 5\n",
      "Downloading image 6\n",
      "Downloading image 7\n",
      "Downloading image 8\n",
      "Downloading image 9\n",
      "Downloading image 10\n",
      "Downloading image 11\n"
     ]
    }
   ],
   "source": [
    "for _ in range(20):\n",
    "    driver.execute_script(\"window.scrollBy(0,1000)\")\n",
    "\n",
    "images = driver.find_elements(By.XPATH, '//div[@class=\" bRMDJf islir\"]//img')\n",
    "\n",
    "img_urls = []\n",
    "for image in images:\n",
    "    source = image.get_attribute('src')\n",
    "    if source is not None and source[0:4] == 'http':\n",
    "        img_urls.append(source)\n",
    "\n",
    "for i in range(len(img_urls)):\n",
    "    if i > 10:\n",
    "        break\n",
    "\n",
    "    print(\"Downloading image {}\".format(i + 1))\n",
    "    response = requests.get(img_urls[i])\n",
    "    file_path = r\"C:\\Users\\cws\\Desktop\\Google Images\\cars\\image{}.jpg\".format(i + 1)\n",
    "    with open(file_path, \"wb\") as file:\n",
    "        file.write(response.content)"
   ]
  },
  {
   "cell_type": "code",
   "execution_count": 31,
   "id": "8755c189",
   "metadata": {},
   "outputs": [
    {
     "name": "stdout",
     "output_type": "stream",
     "text": [
      "****DOWNLOADING IMAGES OF CAKES********\n"
     ]
    }
   ],
   "source": [
    "print (\"****DOWNLOADING IMAGES OF CAKES********\")"
   ]
  },
  {
   "cell_type": "code",
   "execution_count": 20,
   "id": "2d42e09a",
   "metadata": {},
   "outputs": [],
   "source": [
    "search_bar=driver.find_element(By.XPATH, '//textarea[@class=\"gLFyf\"]')\n",
    "search_bar.send_keys('cakes')\n",
    "search_button=driver.find_element(By.CLASS_NAME, 'zgAlFc')\n",
    "search_button.click()"
   ]
  },
  {
   "cell_type": "code",
   "execution_count": 21,
   "id": "98e0d832",
   "metadata": {},
   "outputs": [
    {
     "name": "stdout",
     "output_type": "stream",
     "text": [
      "Downloading image 1\n",
      "Downloading image 2\n",
      "Downloading image 3\n",
      "Downloading image 4\n",
      "Downloading image 5\n",
      "Downloading image 6\n",
      "Downloading image 7\n",
      "Downloading image 8\n"
     ]
    }
   ],
   "source": [
    "for _ in range(20):\n",
    "    driver.execute_script(\"window.scrollBy(0,1000)\")\n",
    "\n",
    "images = driver.find_elements(By.XPATH, '//div[@class=\" bRMDJf islir\"]//img')\n",
    "\n",
    "img_urls = []\n",
    "for image in images:\n",
    "    source = image.get_attribute('src')\n",
    "    if source is not None and source[0:4] == 'http':\n",
    "        img_urls.append(source)\n",
    "\n",
    "for i in range(len(img_urls)):\n",
    "    if i > 10:\n",
    "        break\n",
    "\n",
    "    print(\"Downloading image {}\".format(i + 1))\n",
    "    response = requests.get(img_urls[i])\n",
    "    file_path = r\"C:\\Users\\cws\\Desktop\\Google Images\\cakes\\image{}.jpg\".format(i + 1)\n",
    "    with open(file_path, \"wb\") as file:\n",
    "        file.write(response.content)"
   ]
  },
  {
   "cell_type": "code",
   "execution_count": 32,
   "id": "2b45215e",
   "metadata": {},
   "outputs": [
    {
     "name": "stdout",
     "output_type": "stream",
     "text": [
      "****DOWNLOADING IMAGES OF MACHINE LEARNING********\n"
     ]
    }
   ],
   "source": [
    "print (\"****DOWNLOADING IMAGES OF MACHINE LEARNING********\")"
   ]
  },
  {
   "cell_type": "code",
   "execution_count": 7,
   "id": "fd503605",
   "metadata": {},
   "outputs": [],
   "source": [
    "search_bar=driver.find_element(By.XPATH, '//textarea[@class=\"gLFyf\"]')\n",
    "search_bar.send_keys('Machine Learning')\n",
    "search_button=driver.find_element(By.CLASS_NAME, 'zgAlFc')\n",
    "search_button.click()"
   ]
  },
  {
   "cell_type": "code",
   "execution_count": 9,
   "id": "635e4c86",
   "metadata": {},
   "outputs": [
    {
     "name": "stdout",
     "output_type": "stream",
     "text": [
      "Downloading image 1\n",
      "Downloading image 2\n",
      "Downloading image 3\n",
      "Downloading image 4\n",
      "Downloading image 5\n",
      "Downloading image 6\n",
      "Downloading image 7\n",
      "Downloading image 8\n",
      "Downloading image 9\n",
      "Downloading image 10\n",
      "Downloading image 11\n"
     ]
    }
   ],
   "source": [
    "for _ in range(20):\n",
    "    driver.execute_script(\"window.scrollBy(0,1000)\")\n",
    "\n",
    "images = driver.find_elements(By.XPATH, '//div[@class=\" bRMDJf islir\"]//img')\n",
    "\n",
    "img_urls = []\n",
    "for image in images:\n",
    "    source = image.get_attribute('src')\n",
    "    if source is not None and source[0:4] == 'http':\n",
    "        img_urls.append(source)\n",
    "\n",
    "for i in range(len(img_urls)):\n",
    "    if i > 10:\n",
    "        break\n",
    "\n",
    "    print(\"Downloading image {}\".format(i + 1))\n",
    "    response = requests.get(img_urls[i])\n",
    "    file_path = r\"C:\\Users\\cws\\Desktop\\Google Images\\image{}.jpg\".format(i + 1)\n",
    "    with open(file_path, \"wb\") as file:\n",
    "        file.write(response.content)"
   ]
  },
  {
   "cell_type": "code",
   "execution_count": 33,
   "id": "188c2fa9",
   "metadata": {},
   "outputs": [
    {
     "name": "stdout",
     "output_type": "stream",
     "text": [
      "****DOWNLOADING IMAGES OF GUITAR********\n"
     ]
    }
   ],
   "source": [
    "print (\"****DOWNLOADING IMAGES OF GUITAR********\")"
   ]
  },
  {
   "cell_type": "code",
   "execution_count": 12,
   "id": "1675e4e5",
   "metadata": {},
   "outputs": [],
   "source": [
    "search_bar=driver.find_element(By.XPATH, '//textarea[@class=\"gLFyf\"]')\n",
    "search_bar.send_keys('Guitar')\n",
    "search_button=driver.find_element(By.CLASS_NAME, 'zgAlFc')\n",
    "search_button.click()"
   ]
  },
  {
   "cell_type": "code",
   "execution_count": 13,
   "id": "69d819fa",
   "metadata": {},
   "outputs": [
    {
     "name": "stdout",
     "output_type": "stream",
     "text": [
      "Downloading image 1\n",
      "Downloading image 2\n",
      "Downloading image 3\n",
      "Downloading image 4\n",
      "Downloading image 5\n",
      "Downloading image 6\n",
      "Downloading image 7\n",
      "Downloading image 8\n",
      "Downloading image 9\n",
      "Downloading image 10\n",
      "Downloading image 11\n"
     ]
    }
   ],
   "source": [
    "for _ in range(20):\n",
    "    driver.execute_script(\"window.scrollBy(0,1000)\")\n",
    "\n",
    "images = driver.find_elements(By.XPATH, '//div[@class=\" bRMDJf islir\"]//img')\n",
    "\n",
    "img_urls = []\n",
    "for image in images:\n",
    "    source = image.get_attribute('src')\n",
    "    if source is not None and source[0:4] == 'http':\n",
    "        img_urls.append(source)\n",
    "\n",
    "for i in range(len(img_urls)):\n",
    "    if i > 10:\n",
    "        break\n",
    "\n",
    "    print(\"Downloading image {}\".format(i + 1))\n",
    "    response = requests.get(img_urls[i])\n",
    "    file_path = r\"C:\\Users\\cws\\Desktop\\Google Images\\image{}.jpg\".format(i + 1)\n",
    "    with open(file_path, \"wb\") as file:\n",
    "        file.write(response.content)"
   ]
  },
  {
   "cell_type": "code",
   "execution_count": 34,
   "id": "19c3ade2",
   "metadata": {},
   "outputs": [
    {
     "name": "stdout",
     "output_type": "stream",
     "text": [
      "****DOWNLOADING IMAGES OF FRUITS********\n"
     ]
    }
   ],
   "source": [
    "print (\"****DOWNLOADING IMAGES OF FRUITS********\")"
   ]
  },
  {
   "cell_type": "code",
   "execution_count": 16,
   "id": "1560dbf7",
   "metadata": {},
   "outputs": [],
   "source": [
    "search_bar=driver.find_element(By.XPATH, '//textarea[@class=\"gLFyf\"]')\n",
    "search_bar.send_keys('fruits')\n",
    "search_button=driver.find_element(By.CLASS_NAME, 'zgAlFc')\n",
    "search_button.click()"
   ]
  },
  {
   "cell_type": "code",
   "execution_count": 17,
   "id": "e88dfc06",
   "metadata": {},
   "outputs": [
    {
     "name": "stdout",
     "output_type": "stream",
     "text": [
      "Downloading image 1\n",
      "Downloading image 2\n",
      "Downloading image 3\n",
      "Downloading image 4\n",
      "Downloading image 5\n",
      "Downloading image 6\n",
      "Downloading image 7\n",
      "Downloading image 8\n",
      "Downloading image 9\n",
      "Downloading image 10\n",
      "Downloading image 11\n"
     ]
    }
   ],
   "source": [
    "for _ in range(20):\n",
    "    driver.execute_script(\"window.scrollBy(0,1000)\")\n",
    "\n",
    "images = driver.find_elements(By.XPATH, '//div[@class=\" bRMDJf islir\"]//img')\n",
    "\n",
    "img_urls = []\n",
    "for image in images:\n",
    "    source = image.get_attribute('src')\n",
    "    if source is not None and source[0:4] == 'http':\n",
    "        img_urls.append(source)\n",
    "\n",
    "for i in range(len(img_urls)):\n",
    "    if i > 10:\n",
    "        break\n",
    "\n",
    "    print(\"Downloading image {}\".format(i + 1))\n",
    "    response = requests.get(img_urls[i])\n",
    "    file_path = r\"C:\\Users\\cws\\Desktop\\Google Images\\fruits\\image{}.jpg\".format(i + 1)\n",
    "    with open(file_path, \"wb\") as file:\n",
    "        file.write(response.content)"
   ]
  },
  {
   "cell_type": "code",
   "execution_count": 35,
   "id": "6fc87865",
   "metadata": {},
   "outputs": [
    {
     "name": "stdout",
     "output_type": "stream",
     "text": [
      "****END OF QUESTION 03********\n"
     ]
    }
   ],
   "source": [
    "print (\"****END OF QUESTION 03********\")"
   ]
  },
  {
   "cell_type": "code",
   "execution_count": 36,
   "id": "7f4dc324",
   "metadata": {},
   "outputs": [
    {
     "name": "stdout",
     "output_type": "stream",
     "text": [
      "****QUESTION 4********\n"
     ]
    }
   ],
   "source": [
    "print (\"****QUESTION 4********\")"
   ]
  },
  {
   "cell_type": "code",
   "execution_count": 2,
   "id": "a266123a",
   "metadata": {},
   "outputs": [],
   "source": [
    "driver=webdriver.Chrome(r\"C:\\Users\\cws\\Desktop\\chromedriver_win32\\chromedriver.exe\")"
   ]
  },
  {
   "cell_type": "code",
   "execution_count": 3,
   "id": "b75f1b7c",
   "metadata": {},
   "outputs": [],
   "source": [
    "driver.get(\"https://www.flipkart.com/\")"
   ]
  },
  {
   "cell_type": "code",
   "execution_count": 4,
   "id": "de51a988",
   "metadata": {},
   "outputs": [],
   "source": [
    "search_bar=driver.find_element(By.CLASS_NAME,\"_3704LK\")\n",
    "search_bar.send_keys('oneplus Nord')\n",
    "search_button=driver.find_element(By.CLASS_NAME,\"L0Z3Pu\")\n",
    "search_button.click()"
   ]
  },
  {
   "cell_type": "code",
   "execution_count": 7,
   "id": "fb3913d4",
   "metadata": {},
   "outputs": [
    {
     "name": "stdout",
     "output_type": "stream",
     "text": [
      "Getting URLs from page 0\n",
      "Appended URL: https://www.flipkart.com/oneplus-nord-ce-2-lite-5g-blue-tide-128-gb/p/itm7acae55b999e6?pid=MOBGMFREBAHZQGY9&lid=LSTMOBGMFREBAHZQGY9HACYLB&marketplace=FLIPKART&q=oneplus+Nord&store=tyy%2F4io&spotlightTagId=BestsellerId_tyy%2F4io&srno=s_1_1&otracker=search&otracker1=search&fm=Search&iid=06571ba1-bdbf-4719-9763-9a30057fe551.MOBGMFREBAHZQGY9.SEARCH&ppt=sp&ppn=sp&ssid=j7e0c2z2o00000001684394054957&qH=cb8dd548b47d984f\n",
      "Appended URL: https://www.flipkart.com/oneplus-nord-ce-2-lite-5g-black-dusk-128-gb/p/itm537fc2aa73747?pid=MOBGHBZHB7YJT5HF&lid=LSTMOBGHBZHB7YJT5HFRDCRQX&marketplace=FLIPKART&q=oneplus+Nord&store=tyy%2F4io&srno=s_1_2&otracker=search&otracker1=search&fm=organic&iid=06571ba1-bdbf-4719-9763-9a30057fe551.MOBGHBZHB7YJT5HF.SEARCH&ppt=hp&ppn=homepage&ssid=j7e0c2z2o00000001684394054957&qH=cb8dd548b47d984f\n",
      "Appended URL: https://www.flipkart.com/oneplus-nord-2t-5g-jade-fog-128-gb/p/itm31ac32e308282?pid=MOBGHBZHFAUYKH3U&lid=LSTMOBGHBZHFAUYKH3U3U3AX9&marketplace=FLIPKART&q=oneplus+Nord&store=tyy%2F4io&srno=s_1_3&otracker=search&otracker1=search&fm=organic&iid=06571ba1-bdbf-4719-9763-9a30057fe551.MOBGHBZHFAUYKH3U.SEARCH&ppt=hp&ppn=homepage&ssid=j7e0c2z2o00000001684394054957&qH=cb8dd548b47d984f\n",
      "Appended URL: https://www.flipkart.com/oneplus-nord-2t-5g-jade-fog-128-gb/p/itm38fc98b1d0cbc?pid=MOBGNQHZ7V2GPFKG&lid=LSTMOBGNQHZ7V2GPFKGMJH7ZK&marketplace=FLIPKART&q=oneplus+Nord&store=tyy%2F4io&srno=s_1_4&otracker=search&otracker1=search&fm=organic&iid=06571ba1-bdbf-4719-9763-9a30057fe551.MOBGNQHZ7V2GPFKG.SEARCH&ppt=hp&ppn=homepage&ssid=j7e0c2z2o00000001684394054957&qH=cb8dd548b47d984f\n",
      "Appended URL: https://www.flipkart.com/oneplus-nord-2t-5g-gray-shadow-128-gb/p/itmeadf76c1e8943?pid=MOBGHBZH2S8MWQGQ&q=oneplus+Nord&store=tyy%2F4io&srno=s_1_5&otracker=search&otracker1=search&fm=organic&iid=06571ba1-bdbf-4719-9763-9a30057fe551.MOBGHBZH2S8MWQGQ.SEARCH&ppt=hp&ppn=homepage&ssid=j7e0c2z2o00000001684394054957&qH=cb8dd548b47d984f\n",
      "Appended URL: https://www.flipkart.com/oneplus-nord-2t-5g-gray-shadow-256-gb/p/itm97eda8b1a1566?pid=MOBGHBZHNPGQGXJY&lid=LSTMOBGHBZHNPGQGXJYJF2ZRV&marketplace=FLIPKART&q=oneplus+Nord&store=tyy%2F4io&srno=s_1_6&otracker=search&otracker1=search&fm=organic&iid=06571ba1-bdbf-4719-9763-9a30057fe551.MOBGHBZHNPGQGXJY.SEARCH&ppt=hp&ppn=homepage&ssid=j7e0c2z2o00000001684394054957&qH=cb8dd548b47d984f\n",
      "Appended URL: https://www.flipkart.com/oneplus-nord-2t-5g-gray-shadow-128-gb/p/itmd6fae876845b9?pid=MOBGZKM5XBXSJYZT&lid=LSTMOBGZKM5XBXSJYZTFD9DMO&marketplace=FLIPKART&q=oneplus+Nord&store=tyy%2F4io&srno=s_1_7&otracker=search&otracker1=search&fm=organic&iid=06571ba1-bdbf-4719-9763-9a30057fe551.MOBGZKM5XBXSJYZT.SEARCH&ppt=hp&ppn=homepage&ssid=j7e0c2z2o00000001684394054957&qH=cb8dd548b47d984f\n",
      "Appended URL: https://www.flipkart.com/oneplus-nord-ce-2-lite-5g-blue-tide-128-gb/p/itm7acae55b999e6?pid=MOBGHBNGY5NDH3GV&lid=LSTMOBGHBNGY5NDH3GVUBMFLF&marketplace=FLIPKART&q=oneplus+Nord&store=tyy%2F4io&srno=s_1_8&otracker=search&otracker1=search&fm=organic&iid=06571ba1-bdbf-4719-9763-9a30057fe551.MOBGHBNGY5NDH3GV.SEARCH&ppt=hp&ppn=homepage&ssid=j7e0c2z2o00000001684394054957&qH=cb8dd548b47d984f\n",
      "Appended URL: https://www.flipkart.com/oneplus-nord-ce-2-5g-gray-mirror-128-gb/p/itm2a9883679c57c?pid=MOBGDBYUNZZ2ZKFM&lid=LSTMOBGDBYUNZZ2ZKFMHFGKS4&marketplace=FLIPKART&q=oneplus+Nord&store=tyy%2F4io&srno=s_1_9&otracker=search&otracker1=search&fm=organic&iid=06571ba1-bdbf-4719-9763-9a30057fe551.MOBGDBYUNZZ2ZKFM.SEARCH&ppt=hp&ppn=homepage&ssid=j7e0c2z2o00000001684394054957&qH=cb8dd548b47d984f\n",
      "Appended URL: https://www.flipkart.com/oneplus-nord-ce-2-5g-bahama-blue-128-gb/p/itm2a9883679c57c?pid=MOBGHHZ2CKB5D4WU&lid=LSTMOBGHHZ2CKB5D4WUNWQ8W2&marketplace=FLIPKART&q=oneplus+Nord&store=tyy%2F4io&srno=s_1_10&otracker=search&otracker1=search&fm=organic&iid=06571ba1-bdbf-4719-9763-9a30057fe551.MOBGHHZ2CKB5D4WU.SEARCH&ppt=hp&ppn=homepage&ssid=j7e0c2z2o00000001684394054957&qH=cb8dd548b47d984f\n",
      "Appended URL: https://www.flipkart.com/oneplus-nord-2t-5g-jade-fog-256-gb/p/itm97eda8b1a1566?pid=MOBGHBZHF4YCMGZY&lid=LSTMOBGHBZHF4YCMGZYCC7MAF&marketplace=FLIPKART&q=oneplus+Nord&store=tyy%2F4io&srno=s_1_11&otracker=search&otracker1=search&fm=organic&iid=06571ba1-bdbf-4719-9763-9a30057fe551.MOBGHBZHF4YCMGZY.SEARCH&ppt=hp&ppn=homepage&ssid=j7e0c2z2o00000001684394054957&qH=cb8dd548b47d984f\n",
      "Appended URL: https://www.flipkart.com/oneplus-nord-ce-2-5g-bahama-blue-128-gb/p/itm2a9883679c57c?pid=MOBGDBYZ2HVZAHZD&lid=LSTMOBGDBYZ2HVZAHZDGR3CZ0&marketplace=FLIPKART&q=oneplus+Nord&store=tyy%2F4io&srno=s_1_12&otracker=search&otracker1=search&fm=organic&iid=06571ba1-bdbf-4719-9763-9a30057fe551.MOBGDBYZ2HVZAHZD.SEARCH&ppt=hp&ppn=homepage&ssid=j7e0c2z2o00000001684394054957&qH=cb8dd548b47d984f\n",
      "Appended URL: https://www.flipkart.com/oneplus-nord-ce-2-5g-bahama-blue-128-gb/p/itm2a9883679c57c?pid=MOBGJMUH64MTF6PK&lid=LSTMOBGJMUH64MTF6PKN9ZM2Z&marketplace=FLIPKART&q=oneplus+Nord&store=tyy%2F4io&srno=s_1_13&otracker=search&otracker1=search&fm=organic&iid=06571ba1-bdbf-4719-9763-9a30057fe551.MOBGJMUH64MTF6PK.SEARCH&ppt=hp&ppn=homepage&ssid=j7e0c2z2o00000001684394054957&qH=cb8dd548b47d984f\n",
      "Appended URL: https://www.flipkart.com/oneplus-nord-ce-2-5g-bahama-blue-128-gb/p/itm2a9883679c57c?pid=MOBGDBYGG6PPNFD9&lid=LSTMOBGDBYGG6PPNFD9RG9OQU&marketplace=FLIPKART&q=oneplus+Nord&store=tyy%2F4io&srno=s_1_14&otracker=search&otracker1=search&fm=organic&iid=06571ba1-bdbf-4719-9763-9a30057fe551.MOBGDBYGG6PPNFD9.SEARCH&ppt=hp&ppn=homepage&ssid=j7e0c2z2o00000001684394054957&qH=cb8dd548b47d984f\n",
      "Appended URL: https://www.flipkart.com/oneplus-nord-ce-2-lite-5g-black-dusk-128-gb/p/itmc56272cceee9d?pid=MOBGHBZHQMNV4KKS&lid=LSTMOBGHBZHQMNV4KKSHAWS63&marketplace=FLIPKART&q=oneplus+Nord&store=tyy%2F4io&srno=s_1_15&otracker=search&otracker1=search&fm=organic&iid=06571ba1-bdbf-4719-9763-9a30057fe551.MOBGHBZHQMNV4KKS.SEARCH&ppt=hp&ppn=homepage&ssid=j7e0c2z2o00000001684394054957&qH=cb8dd548b47d984f\n",
      "Appended URL: https://www.flipkart.com/oneplus-nord-2-5g-green-wood-256-gb/p/itmd16c63dadf5c5?pid=MOBGE7D9U2RVQPH7&lid=LSTMOBGE7D9U2RVQPH7FBPASZ&marketplace=FLIPKART&q=oneplus+Nord&store=tyy%2F4io&srno=s_1_16&otracker=search&otracker1=search&fm=organic&iid=06571ba1-bdbf-4719-9763-9a30057fe551.MOBGE7D9U2RVQPH7.SEARCH&ppt=hp&ppn=homepage&ssid=j7e0c2z2o00000001684394054957&qH=cb8dd548b47d984f\n",
      "Appended URL: https://www.flipkart.com/oneplus-nord-ce-2-5g-gray-mirror-128-gb/p/itm2a9883679c57c?pid=MOBGDHWMFQBKFV5F&q=oneplus+Nord&store=tyy%2F4io&srno=s_1_17&otracker=search&otracker1=search&fm=organic&iid=06571ba1-bdbf-4719-9763-9a30057fe551.MOBGDHWMFQBKFV5F.SEARCH&ppt=hp&ppn=homepage&ssid=j7e0c2z2o00000001684394054957&qH=cb8dd548b47d984f\n",
      "Appended URL: https://www.flipkart.com/oneplus-nord-2-5g-pac-man-256-gb/p/itmd16c63dadf5c5?pid=MOBGEYH6EJGAWMFT&lid=LSTMOBGEYH6EJGAWMFT2SBWWV&marketplace=FLIPKART&q=oneplus+Nord&store=tyy%2F4io&srno=s_1_18&otracker=search&otracker1=search&fm=organic&iid=06571ba1-bdbf-4719-9763-9a30057fe551.MOBGEYH6EJGAWMFT.SEARCH&ppt=hp&ppn=homepage&ssid=j7e0c2z2o00000001684394054957&qH=cb8dd548b47d984f\n",
      "Appended URL: https://www.flipkart.com/oneplus-nord-ce-3-lite-5g-pastel-lime-128-gb/p/itm2cd5a4e659035?pid=MOBGZJ3WM5SGTGVZ&lid=LSTMOBGZJ3WM5SGTGVZF4K9WH&marketplace=FLIPKART&q=oneplus+Nord&store=tyy%2F4io&srno=s_1_19&otracker=search&otracker1=search&fm=organic&iid=06571ba1-bdbf-4719-9763-9a30057fe551.MOBGZJ3WM5SGTGVZ.SEARCH&ppt=hp&ppn=homepage&ssid=j7e0c2z2o00000001684394054957&qH=cb8dd548b47d984f\n",
      "Appended URL: https://www.flipkart.com/oneplus-nord-ce-5g-charcoal-ink-128-gb/p/itmc4c02029d9c90?pid=MOBGDM4D6RNZR2SA&lid=LSTMOBGDM4D6RNZR2SAKRYTR6&marketplace=FLIPKART&q=oneplus+Nord&store=tyy%2F4io&srno=s_1_20&otracker=search&otracker1=search&fm=organic&iid=06571ba1-bdbf-4719-9763-9a30057fe551.MOBGDM4D6RNZR2SA.SEARCH&ppt=hp&ppn=homepage&ssid=j7e0c2z2o00000001684394054957&qH=cb8dd548b47d984f\n",
      "Appended URL: https://www.flipkart.com/oneplus-nord-ce-5g-silver-ray-256-gb/p/itmc4c02029d9c90?pid=MOBGDM5SUVH9VMZD&lid=LSTMOBGDM5SUVH9VMZDZEWPOH&marketplace=FLIPKART&q=oneplus+Nord&store=tyy%2F4io&spotlightTagId=TrendingId_tyy%2F4io&srno=s_1_21&otracker=search&otracker1=search&fm=organic&iid=06571ba1-bdbf-4719-9763-9a30057fe551.MOBGDM5SUVH9VMZD.SEARCH&ppt=hp&ppn=homepage&ssid=j7e0c2z2o00000001684394054957&qH=cb8dd548b47d984f\n"
     ]
    },
    {
     "name": "stdout",
     "output_type": "stream",
     "text": [
      "Appended URL: https://www.flipkart.com/oneplus-nord-ce-5g-blue-void-256-gb/p/itmc4c02029d9c90?pid=MOBGDTZ8HJVDQZSN&lid=LSTMOBGDTZ8HJVDQZSNE7TRY2&marketplace=FLIPKART&q=oneplus+Nord&store=tyy%2F4io&srno=s_1_22&otracker=search&otracker1=search&fm=organic&iid=06571ba1-bdbf-4719-9763-9a30057fe551.MOBGDTZ8HJVDQZSN.SEARCH&ppt=hp&ppn=homepage&ssid=j7e0c2z2o00000001684394054957&qH=cb8dd548b47d984f\n",
      "Appended URL: https://www.flipkart.com/oneplus-nord-ce-5g-silver-ray-128-gb/p/itmc4c02029d9c90?pid=MOBGDM57QA9WVYBK&lid=LSTMOBGDM57QA9WVYBK9RKH07&marketplace=FLIPKART&q=oneplus+Nord&store=tyy%2F4io&srno=s_1_23&otracker=search&otracker1=search&fm=organic&iid=06571ba1-bdbf-4719-9763-9a30057fe551.MOBGDM57QA9WVYBK.SEARCH&ppt=hp&ppn=homepage&ssid=j7e0c2z2o00000001684394054957&qH=cb8dd548b47d984f\n",
      "Appended URL: https://www.flipkart.com/oneplus-nord-ce-5g-silver-gray-128-gb/p/itmc4c02029d9c90?pid=MOBGDM5FDYUKKJQG&lid=LSTMOBGDM5FDYUKKJQGBNI7XK&marketplace=FLIPKART&q=oneplus+Nord&store=tyy%2F4io&srno=s_1_24&otracker=search&otracker1=search&fm=organic&iid=06571ba1-bdbf-4719-9763-9a30057fe551.MOBGDM5FDYUKKJQG.SEARCH&ppt=hp&ppn=homepage&ssid=j7e0c2z2o00000001684394054957&qH=cb8dd548b47d984f\n",
      "Finished processing page 0\n"
     ]
    }
   ],
   "source": [
    "mobile_urls = []\n",
    "start = 0\n",
    "end = 1\n",
    "\n",
    "for page in range(start, end):\n",
    "    print(\"Getting URLs from page\", page)\n",
    "    urls = driver.find_elements(By.XPATH, '//a[@class=\"_1fQZEK\"]')\n",
    "    for url in urls:\n",
    "        mobile_urls.append(url.get_attribute('href'))\n",
    "        print(\"Appended URL:\", url.get_attribute('href'))\n",
    "        time.sleep(2)\n",
    "    print(\"Finished processing page\", page)"
   ]
  },
  {
   "cell_type": "code",
   "execution_count": 8,
   "id": "866946e6",
   "metadata": {},
   "outputs": [],
   "source": [
    "for url in mobile_urls:\n",
    "    driver.get(url)\n",
    "    time.sleep(2)\n",
    "    \n",
    "\n",
    "brand = []\n",
    "Smartphone = []\n",
    "RAM = []\n",
    "ROM = []\n",
    "p_camera = []\n",
    "s_camera = []\n",
    "Display = []\n",
    "Battery = []\n",
    "Price = []"
   ]
  },
  {
   "cell_type": "code",
   "execution_count": 9,
   "id": "189e5c01",
   "metadata": {},
   "outputs": [],
   "source": [
    "for url in mobile_urls:\n",
    "    driver.get(url)\n",
    "    time.sleep(2)\n",
    "\n",
    "    try:\n",
    "        brand_element = driver.find_element(By.XPATH, '//span[@class=\"B_NuCI\"]')\n",
    "        brand.append(brand_element.text)\n",
    "    except NoSuchElementException:\n",
    "        brand.append('N/A')\n",
    "\n",
    "    try:\n",
    "        smartphone_element = driver.find_element(By.XPATH, '//span[@class=\"B_NuCI\"]')\n",
    "        Smartphone.append(smartphone_element.text)\n",
    "    except NoSuchElementException:\n",
    "        Smartphone.append('N/A')\n",
    "\n",
    "    try:\n",
    "        RAM_element = driver.find_element(By.XPATH, '//div[@class=\"_2418kt\"]/li')\n",
    "        RAM.append(RAM_element.text)\n",
    "    except NoSuchElementException:\n",
    "        RAM.append('N/A')\n",
    "\n",
    "    try:\n",
    "        ROM_element = driver.find_element(By.XPATH, '//div[@class=\"_2418kt\"]/ul/li[@class]')\n",
    "        ROM.append(ROM_element.text)\n",
    "    except NoSuchElementException:\n",
    "        ROM.append('N/A')\n",
    "\n",
    "    try:\n",
    "        p_camera_element = driver.find_element(By.XPATH, '//div[@class=\"_2418kt\"]/div[@class=\"_21Ahn-\"]/div[@class=\"_21Ahn-\"]')\n",
    "        p_camera.append(p_camera_element.text)\n",
    "    except NoSuchElementException:\n",
    "        p_camera.append('N/A')\n",
    "\n",
    "    try:\n",
    "        s_camera_element = driver.find_element(By.XPATH, '//div[@class=\"_2418kt\"]/div[@class=\"_21Ahn-\"]/div[@class=\"_21Ahn-\"]')\n",
    "        s_camera.append(s_camera_element.text)\n",
    "    except NoSuchElementException:\n",
    "        s_camera.append('N/A')\n",
    "\n",
    "    try:\n",
    "        Display_element = driver.find_element(By.XPATH, '//div[@class=\"_1AtVbE col-6-12\"]/div[@class=\"_1AtVbE col-6-12\"]/div[@class=\"_3a9CI2\"]/div[@class=\"_2418kt\"]/ul/div[@class=\"_21Ahn-\"]/div[@class=\"_21Ahn-\"]')\n",
    "        Display.append(Display_element.text)\n",
    "    except NoSuchElementException:\n",
    "        Display.append('N/A')\n",
    "\n",
    "    try:\n",
    "        Battery_element = driver.find_element(By.XPATH, '//div[@class=\"_1AtVbE col-6-12\"]/div[@class=\"_1AtVbE col-6-12\"]/div[@class=\"_3a9CI2\"]/div[@class=\"_2418kt\"]/ul/li[4]')\n",
    "        Battery.append(Battery_element.text)\n",
    "    except NoSuchElementException:\n",
    "        Battery.append('N/A')\n",
    "\n",
    "    try:\n",
    "        price_element = driver.find_element(By.CLASS_NAME, 'CEmiEU')\n",
    "        Price.append(price_element.text)\n",
    "    except NoSuchElementException:\n",
    "        Price.append('N/A')"
   ]
  },
  {
   "cell_type": "code",
   "execution_count": 10,
   "id": "43f9af19",
   "metadata": {},
   "outputs": [],
   "source": [
    "data = {\n",
    "    'Brand': brand,\n",
    "    'Smartphone': Smartphone,\n",
    "    'RAM': RAM,\n",
    "    'ROM': ROM,\n",
    "    'Primary Camera': p_camera,\n",
    "    'Secondary Camera': s_camera,\n",
    "    'Display': Display,\n",
    "    'Battery': Battery,\n",
    "    'Price': Price\n",
    "}\n",
    "df = pd.DataFrame(data)\n",
    "df.to_csv('mobile_data.csv', index=False)"
   ]
  },
  {
   "cell_type": "code",
   "execution_count": 11,
   "id": "5eaa0edd",
   "metadata": {},
   "outputs": [
    {
     "name": "stdout",
     "output_type": "stream",
     "text": [
      "***************END OF QUESTION 5***************\n"
     ]
    }
   ],
   "source": [
    "print (\"***************END OF QUESTION 4***************\")"
   ]
  },
  {
   "cell_type": "code",
   "execution_count": 12,
   "id": "457c6d12",
   "metadata": {},
   "outputs": [
    {
     "name": "stdout",
     "output_type": "stream",
     "text": [
      "***************QUESTION 5***************\n"
     ]
    }
   ],
   "source": [
    "print (\"***************QUESTION 5***************\")"
   ]
  },
  {
   "cell_type": "code",
   "execution_count": 31,
   "id": "f6a6e0f6",
   "metadata": {},
   "outputs": [],
   "source": [
    "driver=webdriver.Chrome(r\"C:\\Users\\cws\\Desktop\\chromedriver_win32\\chromedriver.exe\")"
   ]
  },
  {
   "cell_type": "code",
   "execution_count": 32,
   "id": "d1ff9c42",
   "metadata": {},
   "outputs": [],
   "source": [
    "driver.get(\"https://maps.google.com\")"
   ]
  },
  {
   "cell_type": "code",
   "execution_count": 33,
   "id": "dd6c778f",
   "metadata": {},
   "outputs": [],
   "source": [
    "search_bar=driver.find_element(By.XPATH, '//input[@class=\"searchboxinput xiQnY\"]')\n",
    "search_bar.send_keys('Jabalpur')\n",
    "search_button = driver.find_element(By.CLASS_NAME, \"mL3xi\")\n",
    "search_button.click()"
   ]
  },
  {
   "cell_type": "code",
   "execution_count": 35,
   "id": "c7a81b9d",
   "metadata": {},
   "outputs": [],
   "source": [
    "url_string = driver.current_url"
   ]
  },
  {
   "cell_type": "code",
   "execution_count": 36,
   "id": "1793dd65",
   "metadata": {},
   "outputs": [
    {
     "data": {
      "text/plain": [
       "'https://www.google.com/maps/place/Jabalpur,+Madhya+Pradesh/@23.175925,79.803935,11z/data=!3m1!4b1!4m6!3m5!1s0x3981ae1a0fb6a97d:0x44020616bc43e3b9!8m2!3d23.1685786!4d79.9338798!16zL20vMDJkcm5r'"
      ]
     },
     "execution_count": 36,
     "metadata": {},
     "output_type": "execute_result"
    }
   ],
   "source": [
    "url_string"
   ]
  },
  {
   "cell_type": "code",
   "execution_count": 38,
   "id": "ee792ec5",
   "metadata": {},
   "outputs": [
    {
     "name": "stdout",
     "output_type": "stream",
     "text": [
      "URL Extracted: https://www.google.com/maps/place/Jabalpur,+Madhya+Pradesh/@23.175925,79.803935,11z/data=!3m1!4b1!4m6!3m5!1s0x3981ae1a0fb6a97d:0x44020616bc43e3b9!8m2!3d23.1685786!4d79.9338798!16zL20vMDJkcm5r\n"
     ]
    }
   ],
   "source": [
    "print(\"URL Extracted:\", url_string)"
   ]
  },
  {
   "cell_type": "code",
   "execution_count": 41,
   "id": "47fae984",
   "metadata": {},
   "outputs": [],
   "source": [
    "latitude_longitude = re.findall(r'@(.*)data', url_string)"
   ]
  },
  {
   "cell_type": "code",
   "execution_count": 43,
   "id": "85158c65",
   "metadata": {},
   "outputs": [
    {
     "name": "stdout",
     "output_type": "stream",
     "text": [
      "******latitude/longitude for Jabalpur city :- ****** ['23.175925,79.803935,11z/']\n"
     ]
    }
   ],
   "source": [
    "print(\"******latitude/longitude for Jabalpur city :- ******\", latitude_longitude)"
   ]
  },
  {
   "cell_type": "code",
   "execution_count": 44,
   "id": "2d181619",
   "metadata": {},
   "outputs": [
    {
     "name": "stdout",
     "output_type": "stream",
     "text": [
      "********END OF QUESTION 5*************\n"
     ]
    }
   ],
   "source": [
    "print(\"********END OF QUESTION 5*************\")"
   ]
  },
  {
   "cell_type": "code",
   "execution_count": 45,
   "id": "f42c2fb0",
   "metadata": {},
   "outputs": [
    {
     "name": "stdout",
     "output_type": "stream",
     "text": [
      "********QUESTION 6*************\n"
     ]
    }
   ],
   "source": [
    "print(\"********QUESTION 6*************\")"
   ]
  },
  {
   "cell_type": "code",
   "execution_count": 46,
   "id": "79d6e5ea",
   "metadata": {},
   "outputs": [
    {
     "name": "stdout",
     "output_type": "stream",
     "text": [
      "***Required data to be scrapped is not present on website trak.in***\n"
     ]
    }
   ],
   "source": [
    "print(\"***Required data to be scrapped is not present on website trak.in***\")"
   ]
  },
  {
   "cell_type": "code",
   "execution_count": 47,
   "id": "8212a7ba",
   "metadata": {},
   "outputs": [
    {
     "name": "stdout",
     "output_type": "stream",
     "text": [
      "********END OF QUESTION 6*************\n"
     ]
    }
   ],
   "source": [
    "print(\"********END OF QUESTION 6*************\")"
   ]
  },
  {
   "cell_type": "code",
   "execution_count": 48,
   "id": "2fe958ec",
   "metadata": {},
   "outputs": [
    {
     "name": "stdout",
     "output_type": "stream",
     "text": [
      "********QUESTION 7************\n"
     ]
    }
   ],
   "source": [
    "print(\"********QUESTION 7************\")"
   ]
  },
  {
   "cell_type": "code",
   "execution_count": 23,
   "id": "4985c1c0",
   "metadata": {},
   "outputs": [],
   "source": [
    "driver=webdriver.Chrome(r\"C:\\Users\\cws\\Desktop\\chromedriver_win32\\chromedriver.exe\")"
   ]
  },
  {
   "cell_type": "code",
   "execution_count": 24,
   "id": "4bf4b1f0",
   "metadata": {},
   "outputs": [],
   "source": [
    "driver.get(\"https://www.digit.in/laptops/\")"
   ]
  },
  {
   "cell_type": "code",
   "execution_count": 26,
   "id": "a9d733f5",
   "metadata": {},
   "outputs": [],
   "source": [
    "click_button = driver.find_element(By.XPATH, '/html/body/div[7]/div/div/div[2]/div[1]/ul/li[9]/a')\n",
    "click_button.click()"
   ]
  },
  {
   "cell_type": "code",
   "execution_count": 25,
   "id": "e8fc49be",
   "metadata": {},
   "outputs": [
    {
     "name": "stdout",
     "output_type": "stream",
     "text": [
      "Getting URLs from page 0\n",
      "Appended URL: https://www.digit.in/top-products/best-gaming-laptops-40.html\n",
      "Finished processing page 0\n"
     ]
    }
   ],
   "source": [
    "laptop_urls = []\n",
    "start = 0\n",
    "end = 1\n",
    "\n",
    "for page in range(start, end):\n",
    "\n",
    "    print(\"Getting URLs from page\", page)\n",
    "    urls = driver.find_elements(By.XPATH, '/html/body/div[7]/div/div/div[2]/div[1]/ul/li[9]/a')\n",
    "    for url in urls:\n",
    "        laptop_urls.append(url.get_attribute('href'))\n",
    "        print(\"Appended URL:\", url.get_attribute('href'))\n",
    "        time.sleep(2)\n",
    "    print(\"Finished processing page\", page)"
   ]
  },
  {
   "cell_type": "code",
   "execution_count": 27,
   "id": "6e8eada3",
   "metadata": {},
   "outputs": [],
   "source": [
    "for url in laptop_urls:\n",
    "    driver.get(url)\n",
    "    time.sleep(2)\n",
    "    \n",
    "\n",
    "brand = []\n",
    "processor = []\n",
    "display = []\n",
    "os = []\n",
    "memory = []\n",
    "graphic = []\n",
    "price = []"
   ]
  },
  {
   "cell_type": "code",
   "execution_count": 28,
   "id": "e0d7f538",
   "metadata": {},
   "outputs": [],
   "source": [
    "for url in laptop_urls:\n",
    "    driver.get(url)\n",
    "    driver.execute_script(\"window.scrollBy(0,1000)\")\n",
    "    time.sleep(2)\n",
    "\n",
    "    try:\n",
    "        brand_element = driver.find_element(By.XPATH, '//span[@class=\"datahreflink\"]')\n",
    "        brand.append(brand_element.text)\n",
    "    except NoSuchElementException:\n",
    "        brand.append('N/A')\n",
    "        \n",
    "    try:\n",
    "        processor_element = driver.find_element(By.XPATH, '/html/body/div[9]/div[1]/div[3]/div[2]/div[1]/div[3]/div[3]/table/tbody/tr[2]/td[3]')\n",
    "        processor.append(processor_element.text)\n",
    "    except NoSuchElementException:\n",
    "        processor.append('N/A')\n",
    "        \n",
    "    try:\n",
    "        display_element = driver.find_element(By.XPATH, '/html/body/div[9]/div[1]/div[3]/div[2]/div[1]/div[3]/div[3]/table/tbody/tr[3]/td[3]')\n",
    "        display.append(display_element.text)\n",
    "    except NoSuchElementException:\n",
    "        display.append('N/A')\n",
    "        \n",
    "    try:\n",
    "        os_element = driver.find_element(By.XPATH, '/html/body/div[9]/div[1]/div[3]/div[2]/div[1]/div[3]/div[3]/table/tbody/tr[4]/td[3]')\n",
    "        os.append(os_element.text)\n",
    "    except NoSuchElementException:\n",
    "        os.append('N/A')\n",
    "        \n",
    "    try:\n",
    "        memory_element = driver.find_element(By.XPATH, '/html/body/div[9]/div[1]/div[3]/div[2]/div[1]/div[3]/div[3]/table/tbody/tr[5]/td[3]')\n",
    "        memory.append(memory_element.text)\n",
    "    except NoSuchElementException:\n",
    "        memory.append('N/A')\n",
    "        \n",
    "    try:\n",
    "        graphic_element = driver.find_element(By.XPATH, '/html/body/div[9]/div[1]/div[3]/div[2]/div[1]/div[3]/div[3]/table/tbody/tr[6]/td[3]')\n",
    "        graphic.append(graphic_element.text)\n",
    "    except NoSuchElementException:\n",
    "        graphic.append('N/A')\n",
    "        \n",
    "    try:\n",
    "        price_element = driver.find_element(By.XPATH, '/html/body/div[9]/div[1]/div[3]/div[2]/div[1]/div[3]/div[3]/table/tbody/tr[8]/td[3]')\n",
    "        price.append(price_element.text)\n",
    "    except NoSuchElementException:\n",
    "        price.append('N/A')"
   ]
  },
  {
   "cell_type": "code",
   "execution_count": 29,
   "id": "861ab3aa",
   "metadata": {},
   "outputs": [
    {
     "name": "stdout",
     "output_type": "stream",
     "text": [
      "               Brand                                          Processor  \\\n",
      "0  HP OMEN 17 (2023)  13th Gen Intel Core i7-13700HX 16 core process...   \n",
      "\n",
      "                                           Display               OS  \\\n",
      "0  17.3″ (2560 x 1440) screen, 165 Hz refresh rate  Windows 11 Home   \n",
      "\n",
      "                        Memory  \\\n",
      "0  16 GB DDR5GB RAM & 1 TB SSD   \n",
      "\n",
      "                                            Graphic      Price  \n",
      "0  12 GB DDR6 NVIDIA GeForce RTX 4080 Graphics card  ₹ 269,777  \n"
     ]
    }
   ],
   "source": [
    "data = {\n",
    "    'Brand': brand,\n",
    "    'Processor': processor,\n",
    "    'Display': display,\n",
    "    'OS': os,\n",
    "    'Memory': memory,\n",
    "    'Graphic': graphic,\n",
    "    'Price': price\n",
    "}\n",
    "df = pd.DataFrame(data)\n",
    "column_order = ['Brand', 'Processor', 'Display', 'OS', 'Memory', 'Graphic', 'Price']\n",
    "df = df.reindex(columns=column_order)\n",
    "print(df)"
   ]
  },
  {
   "cell_type": "code",
   "execution_count": 90,
   "id": "8e9cfef8",
   "metadata": {},
   "outputs": [
    {
     "name": "stdout",
     "output_type": "stream",
     "text": [
      "************END OF QUESTION 7************\n"
     ]
    }
   ],
   "source": [
    "print(\"************END OF QUESTION 7************\")"
   ]
  },
  {
   "cell_type": "code",
   "execution_count": 91,
   "id": "5036caac",
   "metadata": {},
   "outputs": [
    {
     "name": "stdout",
     "output_type": "stream",
     "text": [
      "************QUESTION 8************\n"
     ]
    }
   ],
   "source": [
    "print(\"************QUESTION 8************\")"
   ]
  },
  {
   "cell_type": "code",
   "execution_count": 57,
   "id": "3703f51a",
   "metadata": {},
   "outputs": [],
   "source": [
    "driver=webdriver.Chrome(r\"C:\\Users\\cws\\Desktop\\chromedriver_win32\\chromedriver.exe\")"
   ]
  },
  {
   "cell_type": "code",
   "execution_count": 58,
   "id": "63311d18",
   "metadata": {},
   "outputs": [],
   "source": [
    "driver.get(\"https://www.forbes.com/billionaires/\")"
   ]
  },
  {
   "cell_type": "code",
   "execution_count": 42,
   "id": "f3d6b92c",
   "metadata": {},
   "outputs": [],
   "source": [
    "start = 0\n",
    "end = 1\n",
    "\n",
    "rank_element = []\n",
    "name_element = []\n",
    "networth_element = []\n",
    "age_element = []\n",
    "country_element = []\n",
    "category_element = []\n",
    "\n",
    "driver.execute_script(\"window.scrollBy(0,1000)\")\n",
    "\n",
    "for page in range(start, end):\n",
    "    rank_elements = driver.find_elements(By.XPATH, '/html/body/div[1]/div[2]/div[3]/div[2]/div[2]/div[2]/div[1]/div[1]/div[1]/div[2]/div[1]/div[1]/div[1]/div')\n",
    "    for element in rank_elements:\n",
    "        rank = element.text\n",
    "        rank_element.append(rank)\n",
    "        \n",
    "    name_elements = driver.find_elements(By.XPATH, '/html/body/div[1]/div[2]/div[3]/div[2]/div[2]/div[2]/div[1]/div[1]/div[1]/div[2]/div[1]/div[1]/div[2]/div')\n",
    "    for element in name_elements:\n",
    "        name = element.text\n",
    "        name_element.append(name)\n",
    "        \n",
    "    networth_elements = driver.find_elements(By.XPATH, '/html/body/div[1]/div[2]/div[3]/div[2]/div[2]/div[2]/div[1]/div[1]/div[1]/div[2]/div[1]/div[1]/div[3]/div')\n",
    "    for element in networth_elements:\n",
    "        networth = element.text\n",
    "        networth_element.append(networth)\n",
    "        \n",
    "    age_elements = driver.find_elements(By.XPATH, '/html/body/div[1]/div[2]/div[3]/div[2]/div[2]/div[2]/div[1]/div[1]/div[1]/div[2]/div[1]/div[1]/div[4]/div')\n",
    "    for element in age_elements:\n",
    "        age = element.text\n",
    "        age_element.append(age)\n",
    "        \n",
    "    country_elements = driver.find_elements(By.XPATH, '/html/body/div[1]/div[2]/div[3]/div[2]/div[2]/div[2]/div[1]/div[1]/div[1]/div[2]/div[1]/div[1]/div[5]')\n",
    "    for element in country_elements:\n",
    "        country = element.text\n",
    "        country_element.append(country)\n",
    "        \n",
    "    category_elements = driver.find_elements(By.XPATH, '/html/body/div[1]/div[2]/div[3]/div[2]/div[2]/div[2]/div[1]/div[1]/div[1]/div[2]/div[1]/div[1]/div[6]/div/span')\n",
    "    for element in category_elements:\n",
    "        category = element.text\n",
    "        category_element.append(category)\n",
    "        \n",
    "    if len(rank_element) >= 11:\n",
    "        break\n",
    " \n",
    "df4 = pd.DataFrame(list(zip(rank_element, name_element, networth_element, age_element, country_element, category_element)),\n",
    "                  columns=['RANK', 'NAME', 'NETWORTH', 'AGE', 'COUNTRY', 'CATEGORY'])"
   ]
  },
  {
   "cell_type": "code",
   "execution_count": 43,
   "id": "66fe2df9",
   "metadata": {},
   "outputs": [
    {
     "name": "stdout",
     "output_type": "stream",
     "text": [
      "  RANK                      NAME NETWORTH AGE COUNTRY CATEGORY\n",
      "0    1  Bernard Arnault & family   $211 B  74  France     LVMH\n"
     ]
    }
   ],
   "source": [
    "print (df4)"
   ]
  },
  {
   "cell_type": "code",
   "execution_count": 44,
   "id": "13d744bd",
   "metadata": {},
   "outputs": [
    {
     "name": "stdout",
     "output_type": "stream",
     "text": [
      "*********END OF QUESTION 8*****************)\n"
     ]
    }
   ],
   "source": [
    "print(\"*********END OF QUESTION 8*****************)\")"
   ]
  },
  {
   "cell_type": "code",
   "execution_count": 45,
   "id": "18397e37",
   "metadata": {},
   "outputs": [
    {
     "name": "stdout",
     "output_type": "stream",
     "text": [
      "*********QUESTION 9*****************)\n"
     ]
    }
   ],
   "source": [
    "print(\"*********QUESTION 9*****************)\")"
   ]
  },
  {
   "cell_type": "code",
   "execution_count": 73,
   "id": "edb7c061",
   "metadata": {},
   "outputs": [],
   "source": [
    "driver=webdriver.Chrome(r\"C:\\Users\\cws\\Desktop\\chromedriver_win32\\chromedriver.exe\")"
   ]
  },
  {
   "cell_type": "code",
   "execution_count": 74,
   "id": "aeb24154",
   "metadata": {},
   "outputs": [],
   "source": [
    "driver.get(\"https://youtube.com\")"
   ]
  },
  {
   "cell_type": "code",
   "execution_count": 75,
   "id": "c03c224a",
   "metadata": {},
   "outputs": [],
   "source": [
    "video_url = \"https://www.youtube.com/watch?v=scNmYjoR-qM\"\n",
    "driver.get(video_url)\n",
    "time.sleep(5)"
   ]
  },
  {
   "cell_type": "code",
   "execution_count": 76,
   "id": "b0232e2b",
   "metadata": {},
   "outputs": [
    {
     "name": "stdout",
     "output_type": "stream",
     "text": [
      "Comment: एक ही नारा, एक ही नाम \n",
      "\n",
      "जय श्रीराम, जय श्रीराम\n",
      "\n",
      " बोल सियापति रामचंद्र की जय \n",
      "Upvotes: 65K\n",
      "Time Posted: 10 days ago\n",
      "---\n",
      "Comment: Adipurush\n",
      "Upvotes: 45K\n",
      "Time Posted: 9 days ago\n",
      "---\n",
      "Comment: The starting with “MANGAL BHAVAN AMANGAL HARI “ gave me goosebumps \n",
      "Upvotes: 618\n",
      "Time Posted: 4 days ago\n",
      "---\n",
      "Comment: The sight of Lord Rama and Mata Sabri moved me to tears, evoking a profound sense of awe and reverence. Their divine presence stirred deep emotions within, reminding me of the virtues they embody and the lessons they impart. Tears became a testament to the power of spirituality and the connection we can forge with higher beings. It was a poignant reminder of the impact these revered figures can have on our lives and the potential for personal transformation through devotion and righteousness. Jai Shre Ram.\n",
      "Upvotes: 34\n",
      "Time Posted: 15 hours ago\n",
      "---\n",
      "Comment: That \"Mangal bhavan\" goosebumps guaranteed \n",
      "Upvotes: 134\n",
      "Time Posted: 1 day ago\n",
      "---\n",
      "Comment: The song in background \"jai shree ram raja ram\"...is literally giving goosebumps \n",
      "Upvotes: 937\n",
      "Time Posted: 5 days ago (edited)\n",
      "---\n",
      "Comment: The improvement made by the team of Adipurush is epic\n",
      "Upvotes: 119\n",
      "Time Posted: 1 day ago\n",
      "---\n",
      "Comment: इतनी आलोचना के झेलने के बाद जिस तरह आदिपुरूष ने वापसी की है वो अदभुद है।\n",
      "ये विलक्षण है। \n",
      "Upvotes: 5.9K\n",
      "Time Posted: 9 days ago\n",
      "---\n",
      "Comment: The line  \" ब्रह्मांड में जो भी पाने लायक है वह तु पा चुका है फिर भी तू राक्षस ही है \" लक्ष्मी को पाले नारायण हो जाएगा .               \n",
      "Totally goosebump On this line.\n",
      "Upvotes: 292\n",
      "Time Posted: 2 days ago (edited)\n",
      "---\n",
      "Comment: You can ignore prabhas voice but you can't ignore  Sharad Kelkar voice \n",
      "Upvotes: 800\n",
      "Time Posted: 4 days ago\n",
      "---\n",
      "Comment: the three minutes full of Goosebumps  , a must watch movie ️ waiting for release on big screen\n",
      "Upvotes: 32\n",
      "Time Posted: 1 day ago\n",
      "---\n",
      "Comment: \"Mangal bhavan amangal hari\" that tune gave me goosebumps jai shree ram\n",
      "Upvotes: 429\n",
      "Time Posted: 5 days ago\n",
      "---\n",
      "Comment: That line: हम जन्म से नहीं कर्म से छोटे - बड़े होते हैं That line gives Us Goosebumps \n",
      "Upvotes: 13\n",
      "Time Posted: 1 day ago\n",
      "---\n",
      "Comment: The bgm is awesome.. Jai shree ram.. Raja ram\n",
      "Upvotes: 11K\n",
      "Time Posted: 9 days ago\n",
      "---\n",
      "Comment: The Line \"गाढ़ दो अहंकार की छाती में विजय का भगवा ध्वज \".\n",
      "Goosebump on this Line \n",
      "Upvotes: 145\n",
      "Time Posted: 2 days ago\n",
      "---\n",
      "Comment: Prabhas + Sharad Kelkar voice = Totally Goosebump \n",
      "Upvotes: 435\n",
      "Time Posted: 4 days ago\n",
      "---\n",
      "Comment: Goosebumps \n",
      "Upvotes: 18\n",
      "Time Posted: 1 day ago\n",
      "---\n",
      "Comment: The Scenes with Bajrangbali.. gave me chills.. really great portrayal of Prabhu Shri Ram and Bajarangbali. \n",
      "Upvotes: 117\n",
      "Time Posted: 5 days ago\n",
      "---\n",
      "Comment: 3 min of goosebumps.... will definitely watch for 3 hours of goosebumps\n",
      "Upvotes: 23\n",
      "Time Posted: 1 day ago\n",
      "---\n",
      "Comment: epic trailer, many interesting details, beautiful scene footage, just released the trailer, but it has made viewers excited like this, surely the film will be very successful, this is the pride of the people. India , and also a big thank you to the people of India you are the main audience watching my videos ️ sincerely\n",
      "Upvotes: 954\n",
      "Time Posted: 8 days ago\n",
      "---\n",
      "Comment: एक ही नारा, एक ही नाम \n",
      "\n",
      "जय श्रीराम, जय श्रीराम\n",
      "\n",
      " बोल सियापति रामचंद्र की जय \n",
      "Upvotes: 65K\n",
      "Time Posted: 10 days ago\n",
      "---\n",
      "Comment: Adipurush\n",
      "Upvotes: 45K\n",
      "Time Posted: 9 days ago\n",
      "---\n",
      "Comment: The sight of Lord Rama and Mata Sabri moved me to tears, evoking a profound sense of awe and reverence. Their divine presence stirred deep emotions within, reminding me of the virtues they embody and the lessons they impart. Tears became a testament to the power of spirituality and the connection we can forge with higher beings. It was a poignant reminder of the impact these revered figures can have on our lives and the potential for personal transformation through devotion and righteousness. Jai Shre Ram.\n",
      "Upvotes: 43\n",
      "Time Posted: 18 hours ago\n",
      "---\n",
      "Comment: The starting with “MANGAL BHAVAN AMANGAL HARI “ gave me goosebumps \n",
      "Upvotes: 636\n",
      "Time Posted: 4 days ago\n",
      "---\n",
      "Comment: That \"Mangal bhavan\" goosebumps guaranteed \n",
      "Upvotes: 142\n",
      "Time Posted: 1 day ago\n",
      "---\n",
      "Comment: The song in background \"jai shree ram raja ram\"...is literally giving goosebumps \n",
      "Upvotes: 943\n",
      "Time Posted: 5 days ago (edited)\n",
      "---\n",
      "Comment: The improvement made by the team of Adipurush is epic\n",
      "Upvotes: 125\n",
      "Time Posted: 1 day ago\n",
      "---\n",
      "Comment: इतनी आलोचना के झेलने के बाद जिस तरह आदिपुरूष ने वापसी की है वो अदभुद है।\n",
      "ये विलक्षण है। \n",
      "Upvotes: 5.9K\n",
      "Time Posted: 9 days ago\n",
      "---\n",
      "Comment: The line  \" ब्रह्मांड में जो भी पाने लायक है वह तु पा चुका है फिर भी तू राक्षस ही है \" लक्ष्मी को पाले नारायण हो जाएगा .               \n",
      "Totally goosebump On this line.\n",
      "Upvotes: 295\n",
      "Time Posted: 2 days ago (edited)\n",
      "---\n",
      "Comment: You can ignore prabhas voice but you can't ignore  Sharad Kelkar voice \n",
      "Upvotes: 805\n",
      "Time Posted: 4 days ago\n",
      "---\n",
      "Comment: the three minutes full of Goosebumps  , a must watch movie ️ waiting for release on big screen\n",
      "Upvotes: 32\n",
      "Time Posted: 1 day ago\n",
      "---\n",
      "Comment: \"Mangal bhavan amangal hari\" that tune gave me goosebumps jai shree ram\n",
      "Upvotes: 429\n",
      "Time Posted: 5 days ago\n",
      "---\n",
      "Comment: Goosebumps \n",
      "Upvotes: 18\n",
      "Time Posted: 1 day ago\n",
      "---\n",
      "Comment: The bgm is awesome.. Jai shree ram.. Raja ram\n",
      "Upvotes: 11K\n",
      "Time Posted: 9 days ago\n",
      "---\n",
      "Comment: The Line \"गाढ़ दो अहंकार की छाती में विजय का भगवा ध्वज \".\n",
      "Goosebump on this Line \n",
      "Upvotes: 146\n",
      "Time Posted: 2 days ago\n",
      "---\n",
      "Comment: Prabhas + Sharad Kelkar voice = Totally Goosebump \n",
      "Upvotes: 437\n",
      "Time Posted: 4 days ago\n",
      "---\n",
      "Comment: Goosebumps at its peak..\n",
      "Upvotes: \n",
      "Time Posted: 9 minutes ago\n",
      "---\n",
      "Comment: The Scenes with Bajrangbali.. gave me chills.. really great portrayal of Prabhu Shri Ram and Bajarangbali. \n",
      "Upvotes: 117\n",
      "Time Posted: 5 days ago\n",
      "---\n",
      "Comment: Goosebumps \n",
      "Upvotes: 4\n",
      "Time Posted: 16 hours ago\n",
      "---\n",
      "Comment: epic trailer, many interesting details, beautiful scene footage, just released the trailer, but it has made viewers excited like this, surely the film will be very successful, this is the pride of the people. India , and also a big thank you to the people of India you are the main audience watching my videos ️ sincerely\n",
      "Upvotes: 954\n",
      "Time Posted: 9 days ago\n",
      "---\n",
      "Comment: Wow, this trailer for Adipurush has left me speechless! The epic visuals, the stunning cinematography, and the powerful background score all come together to create an immersive experience that takes my breath away. The attention to detail in the costumes and set design is truly remarkable, and the way the characters have been brought to life is simply amazing. The intensity of the battle scenes is so palpable that I found myself holding my breath at times. I can't wait to see the full movie and immerse myself in this incredible world of mythology and action. Kudos to the entire team for creating a masterpiece that is sure to leave audiences spellbound!\n",
      "Upvotes: 49\n",
      "Time Posted: 4 days ago\n",
      "---\n",
      "Comment: This gave me GooseBumps, and the BG Music is extremely Beautiful  Truly a Timeless Tale... Jai Siya Raam....\n",
      "Upvotes: 91\n",
      "Time Posted: 4 days ago\n",
      "---\n",
      "Comment: That line: हम जन्म से नहीं कर्म से छोटे - बड़े होते हैं That line gives Us Goosebumps \n",
      "Upvotes: 15\n",
      "Time Posted: 1 day ago\n",
      "---\n",
      "Comment: I dont know if this happens to you or not but whenever i hear the story or even the nam of shri ram in songs and bhajans i instantly start crying and i dont know why this happens i m not sad or anything like that tears just comes out jai shree ram ️\n",
      "Upvotes: 104\n",
      "Time Posted: 3 days ago\n",
      "---\n",
      "Comment: Sharad Kelkar is not just a word, it's emotion for millions of peoples across the world\n",
      "Upvotes: 2\n",
      "Time Posted: 1 day ago\n",
      "---\n",
      "Comment: Adipurush then \n",
      "Vs\n",
      "Adipurush now ️️️\n",
      "Upvotes: 4.9K\n",
      "Time Posted: 9 days ago\n",
      "---\n",
      "Comment: Loved it Its really difficult to bring such emotions on screen\n",
      "Upvotes: 63\n",
      "Time Posted: 5 days ago\n",
      "---\n",
      "Comment: That starting with \"Mangal bhavan amangal haari\" was unexpected loved it and it gave me goosebumps .\n",
      "Upvotes: 31\n",
      "Time Posted: 5 days ago\n",
      "---\n",
      "Comment: It's gonna be a blast in box office ️️️\n",
      "Upvotes: 8\n",
      "Time Posted: 21 hours ago\n",
      "---\n",
      "Comment: \"संसार में जो भी पाने लायक है,वो तू पा चुका है। फिर भी तू एक राक्षस है, लक्ष्मी को पा ले नारायण हो जायेगा।\"epic line....\n",
      "Upvotes: 72\n",
      "Time Posted: 2 days ago\n",
      "---\n",
      "Comment: We were waiting for this masterpiece ️‍️‍...this proves that future of Bollywood is in right hands ..\n",
      "Jai shree ram ️\n",
      "Upvotes: 3\n",
      "Time Posted: 1 day ago\n",
      "---\n",
      "Comment: \"गाढ दो अहंकार की छाती मे विजय का भगवा ध्वज \" Literally goosebumps\n",
      "Upvotes: 105\n",
      "Time Posted: 5 days ago\n",
      "---\n",
      "Comment: Literally 3 minutes of goosebumps now I will go to theatre\n",
      "Upvotes: 342\n",
      "Time Posted: 5 days ago\n",
      "---\n",
      "Comment: Goosebumps \n",
      "Upvotes: 8\n",
      "Time Posted: 1 day ago\n",
      "---\n",
      "Comment: Every time I see the last past of trailer. My eyes fills with tears. Those dialogues and scenes of raavan. Total goosebumps\n",
      "Upvotes: 34\n",
      "Time Posted: 5 days ago (edited)\n",
      "---\n",
      "Comment: Ravan Last Scene is Epic. Also, Kriti senon acting \n",
      "Upvotes: 3\n",
      "Time Posted: 1 day ago\n",
      "---\n",
      "Comment: a lot of improvements. looking forward to a great Hindu EPIC and the story of Lord Ram told with cinematics!\n",
      "Upvotes: 2.6K\n",
      "Time Posted: 8 days ago\n",
      "---\n",
      "Comment: That moving of Mountain literally gave me goosebumps.\n",
      "Upvotes: 155\n",
      "Time Posted: 5 days ago\n",
      "---\n",
      "Comment: I watch this trailer atleast 10 times in a day..after SHIVAAY i m doing it again after 8 yrs...\n",
      "Upvotes: 3\n",
      "Time Posted: 2 days ago\n",
      "---\n",
      "Comment: 16 June movie release of my fav prabhas, on the same day it's my 2nd marriage anniversary feeling very happy\n",
      "Upvotes: 3\n",
      "Time Posted: 22 hours ago\n",
      "---\n",
      "Comment: एक ही नारा, एक ही नाम \n",
      "\n",
      "जय श्रीराम, जय श्रीराम\n",
      "\n",
      " बोल सियापति रामचंद्र की जय \n",
      "Upvotes: 65K\n",
      "Time Posted: 10 days ago\n",
      "---\n",
      "Comment: Adipurush\n",
      "Upvotes: 45K\n",
      "Time Posted: 9 days ago\n",
      "---\n",
      "Comment: The sight of Lord Rama and Mata Sabri moved me to tears, evoking a profound sense of awe and reverence. Their divine presence stirred deep emotions within, reminding me of the virtues they embody and the lessons they impart. Tears became a testament to the power of spirituality and the connection we can forge with higher beings. It was a poignant reminder of the impact these revered figures can have on our lives and the potential for personal transformation through devotion and righteousness. Jai Shre Ram.\n",
      "Upvotes: 43\n",
      "Time Posted: 18 hours ago\n",
      "---\n",
      "Comment: The starting with “MANGAL BHAVAN AMANGAL HARI “ gave me goosebumps \n",
      "Upvotes: 636\n",
      "Time Posted: 4 days ago\n",
      "---\n",
      "Comment: That \"Mangal bhavan\" goosebumps guaranteed \n",
      "Upvotes: 142\n",
      "Time Posted: 1 day ago\n",
      "---\n",
      "Comment: The song in background \"jai shree ram raja ram\"...is literally giving goosebumps \n",
      "Upvotes: 943\n",
      "Time Posted: 5 days ago (edited)\n",
      "---\n",
      "Comment: The improvement made by the team of Adipurush is epic\n",
      "Upvotes: 125\n",
      "Time Posted: 1 day ago\n",
      "---\n",
      "Comment: इतनी आलोचना के झेलने के बाद जिस तरह आदिपुरूष ने वापसी की है वो अदभुद है।\n",
      "ये विलक्षण है। \n",
      "Upvotes: 5.9K\n",
      "Time Posted: 9 days ago\n",
      "---\n",
      "Comment: The line  \" ब्रह्मांड में जो भी पाने लायक है वह तु पा चुका है फिर भी तू राक्षस ही है \" लक्ष्मी को पाले नारायण हो जाएगा .               \n",
      "Totally goosebump On this line.\n",
      "Upvotes: 295\n",
      "Time Posted: 2 days ago (edited)\n",
      "---\n",
      "Comment: You can ignore prabhas voice but you can't ignore  Sharad Kelkar voice \n",
      "Upvotes: 805\n",
      "Time Posted: 4 days ago\n",
      "---\n",
      "Comment: the three minutes full of Goosebumps  , a must watch movie ️ waiting for release on big screen\n",
      "Upvotes: 32\n",
      "Time Posted: 1 day ago\n",
      "---\n",
      "Comment: \"Mangal bhavan amangal hari\" that tune gave me goosebumps jai shree ram\n",
      "Upvotes: 429\n",
      "Time Posted: 5 days ago\n",
      "---\n",
      "Comment: Goosebumps \n",
      "Upvotes: 18\n",
      "Time Posted: 1 day ago\n",
      "---\n",
      "Comment: The bgm is awesome.. Jai shree ram.. Raja ram\n",
      "Upvotes: 11K\n",
      "Time Posted: 9 days ago\n",
      "---\n",
      "Comment: The Line \"गाढ़ दो अहंकार की छाती में विजय का भगवा ध्वज \".\n",
      "Goosebump on this Line \n",
      "Upvotes: 146\n",
      "Time Posted: 2 days ago\n",
      "---\n",
      "Comment: Prabhas + Sharad Kelkar voice = Totally Goosebump \n",
      "Upvotes: 437\n",
      "Time Posted: 4 days ago\n",
      "---\n",
      "Comment: Goosebumps at its peak..\n",
      "Upvotes: \n",
      "Time Posted: 9 minutes ago\n",
      "---\n",
      "Comment: The Scenes with Bajrangbali.. gave me chills.. really great portrayal of Prabhu Shri Ram and Bajarangbali. \n",
      "Upvotes: 117\n",
      "Time Posted: 5 days ago\n",
      "---\n",
      "Comment: Goosebumps \n",
      "Upvotes: 4\n",
      "Time Posted: 16 hours ago\n",
      "---\n",
      "Comment: epic trailer, many interesting details, beautiful scene footage, just released the trailer, but it has made viewers excited like this, surely the film will be very successful, this is the pride of the people. India , and also a big thank you to the people of India you are the main audience watching my videos ️ sincerely\n",
      "Upvotes: 954\n",
      "Time Posted: 9 days ago\n",
      "---\n",
      "Comment: Wow, this trailer for Adipurush has left me speechless! The epic visuals, the stunning cinematography, and the powerful background score all come together to create an immersive experience that takes my breath away. The attention to detail in the costumes and set design is truly remarkable, and the way the characters have been brought to life is simply amazing. The intensity of the battle scenes is so palpable that I found myself holding my breath at times. I can't wait to see the full movie and immerse myself in this incredible world of mythology and action. Kudos to the entire team for creating a masterpiece that is sure to leave audiences spellbound!\n",
      "Upvotes: 49\n",
      "Time Posted: 4 days ago\n",
      "---\n",
      "Comment: This gave me GooseBumps, and the BG Music is extremely Beautiful  Truly a Timeless Tale... Jai Siya Raam....\n",
      "Upvotes: 91\n",
      "Time Posted: 4 days ago\n",
      "---\n",
      "Comment: That line: हम जन्म से नहीं कर्म से छोटे - बड़े होते हैं That line gives Us Goosebumps \n",
      "Upvotes: 15\n",
      "Time Posted: 1 day ago\n",
      "---\n",
      "Comment: I dont know if this happens to you or not but whenever i hear the story or even the nam of shri ram in songs and bhajans i instantly start crying and i dont know why this happens i m not sad or anything like that tears just comes out jai shree ram ️\n",
      "Upvotes: 104\n",
      "Time Posted: 3 days ago\n",
      "---\n",
      "Comment: Sharad Kelkar is not just a word, it's emotion for millions of peoples across the world\n",
      "Upvotes: 2\n",
      "Time Posted: 1 day ago\n",
      "---\n",
      "Comment: Adipurush then \n",
      "Vs\n",
      "Adipurush now ️️️\n",
      "Upvotes: 4.9K\n",
      "Time Posted: 9 days ago\n",
      "---\n",
      "Comment: Loved it Its really difficult to bring such emotions on screen\n",
      "Upvotes: 63\n",
      "Time Posted: 5 days ago\n",
      "---\n",
      "Comment: That starting with \"Mangal bhavan amangal haari\" was unexpected loved it and it gave me goosebumps .\n",
      "Upvotes: 31\n",
      "Time Posted: 5 days ago\n",
      "---\n",
      "Comment: It's gonna be a blast in box office ️️️\n",
      "Upvotes: 8\n",
      "Time Posted: 21 hours ago\n",
      "---\n",
      "Comment: \"संसार में जो भी पाने लायक है,वो तू पा चुका है। फिर भी तू एक राक्षस है, लक्ष्मी को पा ले नारायण हो जायेगा।\"epic line....\n",
      "Upvotes: 72\n",
      "Time Posted: 2 days ago\n",
      "---\n",
      "Comment: We were waiting for this masterpiece ️‍️‍...this proves that future of Bollywood is in right hands ..\n",
      "Jai shree ram ️\n",
      "Upvotes: 3\n",
      "Time Posted: 1 day ago\n",
      "---\n",
      "Comment: \"गाढ दो अहंकार की छाती मे विजय का भगवा ध्वज \" Literally goosebumps\n",
      "Upvotes: 105\n",
      "Time Posted: 5 days ago\n",
      "---\n",
      "Comment: Literally 3 minutes of goosebumps now I will go to theatre\n",
      "Upvotes: 342\n",
      "Time Posted: 5 days ago\n",
      "---\n",
      "Comment: Goosebumps \n",
      "Upvotes: 8\n",
      "Time Posted: 1 day ago\n",
      "---\n",
      "Comment: Every time I see the last past of trailer. My eyes fills with tears. Those dialogues and scenes of raavan. Total goosebumps\n",
      "Upvotes: 34\n",
      "Time Posted: 5 days ago (edited)\n",
      "---\n",
      "Comment: Ravan Last Scene is Epic. Also, Kriti senon acting \n",
      "Upvotes: 3\n",
      "Time Posted: 1 day ago\n",
      "---\n",
      "Comment: a lot of improvements. looking forward to a great Hindu EPIC and the story of Lord Ram told with cinematics!\n",
      "Upvotes: 2.6K\n",
      "Time Posted: 8 days ago\n",
      "---\n",
      "Comment: That moving of Mountain literally gave me goosebumps.\n",
      "Upvotes: 155\n",
      "Time Posted: 5 days ago\n",
      "---\n",
      "Comment: I watch this trailer atleast 10 times in a day..after SHIVAAY i m doing it again after 8 yrs...\n",
      "Upvotes: 3\n",
      "Time Posted: 2 days ago\n",
      "---\n",
      "Comment: 16 June movie release of my fav prabhas, on the same day it's my 2nd marriage anniversary feeling very happy\n",
      "Upvotes: 3\n",
      "Time Posted: 22 hours ago\n",
      "---\n",
      "Comment: I am very excited to watch this masterpiece in theatre \n",
      "Upvotes: 167\n",
      "Time Posted: 5 days ago\n",
      "---\n",
      "Comment: Omg Sharad Kelkar’s voice goosebumbs \n",
      "Upvotes: 2\n",
      "Time Posted: 1 day ago\n",
      "---\n",
      "Comment: Waiting for this masterpiece \n",
      "\n",
      "Another history to be created by indian film industry....  and the reason is prabhas sir. If I am not wrong the fact is this kind of movies are incomplete without prabhas, the goosebumps is coming out only for prabhas, you all have been witnessed of the movie 'Bahubali' it doesn't seem like a movie, it seems like only reality, there was no sign of acting..... And it has been possible only for prabhas, You can't deny this.Prabhas sir can make acting into reality. I am sure if prabhas sir were not in 'Bahubal' if there were another actor this movie was not supposed to get worldwide popularity.\n",
      "Upvotes: 38\n",
      "Time Posted: 2 days ago (edited)\n",
      "---\n",
      "Comment: Ooohh, God, Already getting Goosebumps. Hope Film Will be a Blockbuster.\n",
      "Upvotes: 2\n",
      "Time Posted: 2 days ago\n",
      "---\n",
      "Comment: Goosebumps \n",
      "Upvotes: 9\n",
      "Time Posted: 1 day ago\n",
      "---\n",
      "Comment: Bgm is  eagerly waiting for it to come out  Having goosebumps ️\n",
      "Upvotes: 58\n",
      "Time Posted: 3 days ago (edited)\n",
      "---\n",
      "Comment: 3 min of goosebumps.... will definitely watch for 3 hours of goosebumps\n",
      "Upvotes: 24\n",
      "Time Posted: 1 day ago\n",
      "---\n",
      "Comment: Can't even imagine how it's going to be in watching a theatre . The whole theatre is gonna resonate with the sounds of JAI SHREE RAM \n",
      "Upvotes: 76\n",
      "Time Posted: 3 days ago\n",
      "---\n",
      "Comment: Goosebumps guaranteed ️\n",
      "Upvotes: 56\n",
      "Time Posted: 5 days ago\n",
      "---\n",
      "Comment: Will be the biggest blockbuster for the next decade \n",
      "Upvotes: 2\n",
      "Time Posted: 17 hours ago\n",
      "---\n",
      "Comment: Goosebomps are non stoping...\n",
      "Upvotes: 50\n",
      "Time Posted: 4 days ago\n",
      "---\n",
      "Comment: Totally goosebumps\n",
      "Upvotes: 7\n",
      "Time Posted: 1 day ago\n",
      "---\n",
      "Comment: Jai shree ram\n",
      "Now that’s called adipurush\n",
      "Upvotes: 456\n",
      "Time Posted: 9 days ago\n",
      "---\n",
      "Comment: Just marvelous , hats off to Sharad Kelkar and Saif Ali Khan ,hope to be greatest hit in bollywood\n",
      "Upvotes: 199\n",
      "Time Posted: 5 days ago (edited)\n",
      "---\n",
      "Comment: 1:19 This song is just \n",
      "Its like those title tracks from serials based on purana\n",
      "Upvotes: 97\n",
      "Time Posted: 5 days ago\n",
      "---\n",
      "Comment: That \"mangal bhavan \" was best ️‍\n",
      "Upvotes: 4\n",
      "Time Posted: 1 day ago\n",
      "---\n",
      "Comment: Make sure this breaks all the records of box office so far in the history of bollywood \n",
      "Upvotes: 95\n",
      "Time Posted: 5 days ago\n",
      "---\n",
      "Comment: Adipurush is just not a movie, it's a masterpiece ️\n",
      "Upvotes: 16\n",
      "Time Posted: 1 day ago\n",
      "---\n",
      "Comment: That line: हम जन्म से नही कर्म से‌ छोटे-बड़े होते हैं।\n",
      "That line gives Us Goosebumps ️\n",
      "Upvotes: 1.3K\n",
      "Time Posted: 6 days ago (edited)\n",
      "---\n",
      "Comment: एक ही नारा, एक ही नाम \n",
      "\n",
      "जय श्रीराम, जय श्रीराम\n",
      "\n",
      " बोल सियापति रामचंद्र की जय \n",
      "Upvotes: 65K\n",
      "Time Posted: 10 days ago\n",
      "---\n",
      "Comment: Adipurush\n",
      "Upvotes: 45K\n",
      "Time Posted: 9 days ago\n",
      "---\n",
      "Comment: The sight of Lord Rama and Mata Sabri moved me to tears, evoking a profound sense of awe and reverence. Their divine presence stirred deep emotions within, reminding me of the virtues they embody and the lessons they impart. Tears became a testament to the power of spirituality and the connection we can forge with higher beings. It was a poignant reminder of the impact these revered figures can have on our lives and the potential for personal transformation through devotion and righteousness. Jai Shre Ram.\n",
      "Upvotes: 43\n",
      "Time Posted: 18 hours ago\n",
      "---\n",
      "Comment: The starting with “MANGAL BHAVAN AMANGAL HARI “ gave me goosebumps \n",
      "Upvotes: 636\n",
      "Time Posted: 4 days ago\n",
      "---\n",
      "Comment: That \"Mangal bhavan\" goosebumps guaranteed \n",
      "Upvotes: 142\n",
      "Time Posted: 1 day ago\n",
      "---\n",
      "Comment: The song in background \"jai shree ram raja ram\"...is literally giving goosebumps \n",
      "Upvotes: 943\n",
      "Time Posted: 5 days ago (edited)\n",
      "---\n",
      "Comment: The improvement made by the team of Adipurush is epic\n",
      "Upvotes: 125\n",
      "Time Posted: 1 day ago\n",
      "---\n",
      "Comment: इतनी आलोचना के झेलने के बाद जिस तरह आदिपुरूष ने वापसी की है वो अदभुद है।\n",
      "ये विलक्षण है। \n",
      "Upvotes: 5.9K\n",
      "Time Posted: 9 days ago\n",
      "---\n",
      "Comment: The line  \" ब्रह्मांड में जो भी पाने लायक है वह तु पा चुका है फिर भी तू राक्षस ही है \" लक्ष्मी को पाले नारायण हो जाएगा .               \n",
      "Totally goosebump On this line.\n",
      "Upvotes: 295\n",
      "Time Posted: 2 days ago (edited)\n",
      "---\n",
      "Comment: You can ignore prabhas voice but you can't ignore  Sharad Kelkar voice \n",
      "Upvotes: 805\n",
      "Time Posted: 4 days ago\n",
      "---\n",
      "Comment: the three minutes full of Goosebumps  , a must watch movie ️ waiting for release on big screen\n",
      "Upvotes: 32\n",
      "Time Posted: 1 day ago\n",
      "---\n",
      "Comment: \"Mangal bhavan amangal hari\" that tune gave me goosebumps jai shree ram\n",
      "Upvotes: 429\n",
      "Time Posted: 5 days ago\n",
      "---\n",
      "Comment: Goosebumps \n",
      "Upvotes: 18\n",
      "Time Posted: 1 day ago\n",
      "---\n",
      "Comment: The bgm is awesome.. Jai shree ram.. Raja ram\n",
      "Upvotes: 11K\n",
      "Time Posted: 9 days ago\n",
      "---\n",
      "Comment: The Line \"गाढ़ दो अहंकार की छाती में विजय का भगवा ध्वज \".\n",
      "Goosebump on this Line \n",
      "Upvotes: 146\n",
      "Time Posted: 2 days ago\n",
      "---\n",
      "Comment: Prabhas + Sharad Kelkar voice = Totally Goosebump \n",
      "Upvotes: 437\n",
      "Time Posted: 4 days ago\n",
      "---\n",
      "Comment: Goosebumps at its peak..\n",
      "Upvotes: \n",
      "Time Posted: 9 minutes ago\n",
      "---\n",
      "Comment: The Scenes with Bajrangbali.. gave me chills.. really great portrayal of Prabhu Shri Ram and Bajarangbali. \n",
      "Upvotes: 117\n",
      "Time Posted: 5 days ago\n",
      "---\n",
      "Comment: Goosebumps \n",
      "Upvotes: 4\n",
      "Time Posted: 16 hours ago\n",
      "---\n",
      "Comment: epic trailer, many interesting details, beautiful scene footage, just released the trailer, but it has made viewers excited like this, surely the film will be very successful, this is the pride of the people. India , and also a big thank you to the people of India you are the main audience watching my videos ️ sincerely\n",
      "Upvotes: 954\n",
      "Time Posted: 9 days ago\n",
      "---\n",
      "Comment: Wow, this trailer for Adipurush has left me speechless! The epic visuals, the stunning cinematography, and the powerful background score all come together to create an immersive experience that takes my breath away. The attention to detail in the costumes and set design is truly remarkable, and the way the characters have been brought to life is simply amazing. The intensity of the battle scenes is so palpable that I found myself holding my breath at times. I can't wait to see the full movie and immerse myself in this incredible world of mythology and action. Kudos to the entire team for creating a masterpiece that is sure to leave audiences spellbound!\n",
      "Upvotes: 49\n",
      "Time Posted: 4 days ago\n",
      "---\n",
      "Comment: This gave me GooseBumps, and the BG Music is extremely Beautiful  Truly a Timeless Tale... Jai Siya Raam....\n",
      "Upvotes: 91\n",
      "Time Posted: 4 days ago\n",
      "---\n",
      "Comment: That line: हम जन्म से नहीं कर्म से छोटे - बड़े होते हैं That line gives Us Goosebumps \n",
      "Upvotes: 15\n",
      "Time Posted: 1 day ago\n",
      "---\n",
      "Comment: I dont know if this happens to you or not but whenever i hear the story or even the nam of shri ram in songs and bhajans i instantly start crying and i dont know why this happens i m not sad or anything like that tears just comes out jai shree ram ️\n",
      "Upvotes: 104\n",
      "Time Posted: 3 days ago\n",
      "---\n",
      "Comment: Sharad Kelkar is not just a word, it's emotion for millions of peoples across the world\n",
      "Upvotes: 2\n",
      "Time Posted: 1 day ago\n",
      "---\n",
      "Comment: Adipurush then \n",
      "Vs\n",
      "Adipurush now ️️️\n",
      "Upvotes: 4.9K\n",
      "Time Posted: 9 days ago\n",
      "---\n",
      "Comment: Loved it Its really difficult to bring such emotions on screen\n",
      "Upvotes: 63\n",
      "Time Posted: 5 days ago\n",
      "---\n",
      "Comment: That starting with \"Mangal bhavan amangal haari\" was unexpected loved it and it gave me goosebumps .\n",
      "Upvotes: 31\n",
      "Time Posted: 5 days ago\n",
      "---\n",
      "Comment: It's gonna be a blast in box office ️️️\n",
      "Upvotes: 8\n",
      "Time Posted: 21 hours ago\n",
      "---\n",
      "Comment: \"संसार में जो भी पाने लायक है,वो तू पा चुका है। फिर भी तू एक राक्षस है, लक्ष्मी को पा ले नारायण हो जायेगा।\"epic line....\n",
      "Upvotes: 72\n",
      "Time Posted: 2 days ago\n",
      "---\n",
      "Comment: We were waiting for this masterpiece ️‍️‍...this proves that future of Bollywood is in right hands ..\n",
      "Jai shree ram ️\n",
      "Upvotes: 3\n",
      "Time Posted: 1 day ago\n",
      "---\n",
      "Comment: \"गाढ दो अहंकार की छाती मे विजय का भगवा ध्वज \" Literally goosebumps\n",
      "Upvotes: 105\n",
      "Time Posted: 5 days ago\n",
      "---\n",
      "Comment: Literally 3 minutes of goosebumps now I will go to theatre\n",
      "Upvotes: 342\n",
      "Time Posted: 5 days ago\n",
      "---\n",
      "Comment: Goosebumps \n",
      "Upvotes: 8\n",
      "Time Posted: 1 day ago\n",
      "---\n",
      "Comment: Every time I see the last past of trailer. My eyes fills with tears. Those dialogues and scenes of raavan. Total goosebumps\n",
      "Upvotes: 34\n",
      "Time Posted: 5 days ago (edited)\n",
      "---\n",
      "Comment: Ravan Last Scene is Epic. Also, Kriti senon acting \n",
      "Upvotes: 3\n",
      "Time Posted: 1 day ago\n",
      "---\n",
      "Comment: a lot of improvements. looking forward to a great Hindu EPIC and the story of Lord Ram told with cinematics!\n",
      "Upvotes: 2.6K\n",
      "Time Posted: 8 days ago\n",
      "---\n",
      "Comment: That moving of Mountain literally gave me goosebumps.\n",
      "Upvotes: 155\n",
      "Time Posted: 5 days ago\n",
      "---\n",
      "Comment: I watch this trailer atleast 10 times in a day..after SHIVAAY i m doing it again after 8 yrs...\n",
      "Upvotes: 3\n",
      "Time Posted: 2 days ago\n",
      "---\n",
      "Comment: 16 June movie release of my fav prabhas, on the same day it's my 2nd marriage anniversary feeling very happy\n",
      "Upvotes: 3\n",
      "Time Posted: 22 hours ago\n",
      "---\n",
      "Comment: I am very excited to watch this masterpiece in theatre \n",
      "Upvotes: 167\n",
      "Time Posted: 5 days ago\n",
      "---\n",
      "Comment: Omg Sharad Kelkar’s voice goosebumbs \n",
      "Upvotes: 2\n",
      "Time Posted: 1 day ago\n",
      "---\n",
      "Comment: Waiting for this masterpiece \n",
      "\n",
      "Another history to be created by indian film industry....  and the reason is prabhas sir. If I am not wrong the fact is this kind of movies are incomplete without prabhas, the goosebumps is coming out only for prabhas, you all have been witnessed of the movie 'Bahubali' it doesn't seem like a movie, it seems like only reality, there was no sign of acting..... And it has been possible only for prabhas, You can't deny this.Prabhas sir can make acting into reality. I am sure if prabhas sir were not in 'Bahubal' if there were another actor this movie was not supposed to get worldwide popularity.\n",
      "Upvotes: 38\n",
      "Time Posted: 2 days ago (edited)\n",
      "---\n",
      "Comment: Ooohh, God, Already getting Goosebumps. Hope Film Will be a Blockbuster.\n",
      "Upvotes: 2\n",
      "Time Posted: 2 days ago\n",
      "---\n",
      "Comment: Goosebumps \n",
      "Upvotes: 9\n",
      "Time Posted: 1 day ago\n",
      "---\n",
      "Comment: Bgm is  eagerly waiting for it to come out  Having goosebumps ️\n",
      "Upvotes: 58\n",
      "Time Posted: 3 days ago (edited)\n",
      "---\n",
      "Comment: 3 min of goosebumps.... will definitely watch for 3 hours of goosebumps\n",
      "Upvotes: 24\n",
      "Time Posted: 1 day ago\n",
      "---\n",
      "Comment: Can't even imagine how it's going to be in watching a theatre . The whole theatre is gonna resonate with the sounds of JAI SHREE RAM \n",
      "Upvotes: 76\n",
      "Time Posted: 3 days ago\n",
      "---\n",
      "Comment: Goosebumps guaranteed ️\n",
      "Upvotes: 56\n",
      "Time Posted: 5 days ago\n",
      "---\n",
      "Comment: Will be the biggest blockbuster for the next decade \n",
      "Upvotes: 2\n",
      "Time Posted: 17 hours ago\n",
      "---\n",
      "Comment: Goosebomps are non stoping...\n",
      "Upvotes: 50\n",
      "Time Posted: 4 days ago\n",
      "---\n",
      "Comment: Totally goosebumps\n",
      "Upvotes: 7\n",
      "Time Posted: 1 day ago\n",
      "---\n",
      "Comment: Jai shree ram\n",
      "Now that’s called adipurush\n",
      "Upvotes: 456\n",
      "Time Posted: 9 days ago\n",
      "---\n",
      "Comment: Just marvelous , hats off to Sharad Kelkar and Saif Ali Khan ,hope to be greatest hit in bollywood\n",
      "Upvotes: 199\n",
      "Time Posted: 5 days ago (edited)\n",
      "---\n",
      "Comment: 1:19 This song is just \n",
      "Its like those title tracks from serials based on purana\n",
      "Upvotes: 97\n",
      "Time Posted: 5 days ago\n",
      "---\n",
      "Comment: That \"mangal bhavan \" was best ️‍\n",
      "Upvotes: 4\n",
      "Time Posted: 1 day ago\n",
      "---\n",
      "Comment: Make sure this breaks all the records of box office so far in the history of bollywood \n",
      "Upvotes: 95\n",
      "Time Posted: 5 days ago\n",
      "---\n",
      "Comment: Adipurush is just not a movie, it's a masterpiece ️\n",
      "Upvotes: 16\n",
      "Time Posted: 1 day ago\n",
      "---\n",
      "Comment: That line: हम जन्म से नही कर्म से‌ छोटे-बड़े होते हैं।\n",
      "That line gives Us Goosebumps ️\n",
      "Upvotes: 1.3K\n",
      "Time Posted: 6 days ago (edited)\n",
      "---\n",
      "Comment: Goosebumps every  moment \n",
      "Upvotes: 36\n",
      "Time Posted: 5 days ago\n",
      "---\n",
      "Comment: Goosebumps \n",
      "Upvotes: 4\n",
      "Time Posted: 1 day ago\n",
      "---\n",
      "Comment: Bestttt cinematography can see in this trailer than the last one now getting goosebumps \n",
      "Upvotes: 5\n",
      "Time Posted: 3 days ago\n",
      "---\n",
      "Comment: Waiting for this movie eagerly! thrilled beyond words \n",
      "Upvotes: 9\n",
      "Time Posted: 1 day ago\n",
      "---\n",
      "Comment: Honestly speaking, this looks far more realistic than the teaser.. Great applause for Adipurush team for considering the feedback of the audience and for bring out such a masterpiece of a trailer.. Hoping the movie would be far better and wishing it a big success.. \n",
      "Upvotes: 1.5K\n",
      "Time Posted: 9 days ago\n",
      "---\n",
      "Comment: Adipurush is going to be a blockbuster off the charts️\n",
      "Upvotes: 94\n",
      "Time Posted: 5 days ago\n",
      "---\n",
      "Comment: No one noticed jatayu's energetic entry.. mind-blowing \n",
      "Upvotes: 19\n",
      "Time Posted: 2 days ago\n",
      "---\n",
      "Comment: This man born to make history \n",
      "Upvotes: 39\n",
      "Time Posted: 4 days ago\n",
      "---\n",
      "Comment: Wow it's totally goosebumps \n",
      "Upvotes: 4\n",
      "Time Posted: 22 hours ago\n",
      "---\n",
      "Comment: This looks so much better than what we saw previously. Should be released all over the world.\n",
      "Upvotes: 1.2K\n",
      "Time Posted: 8 days ago\n",
      "---\n",
      "Comment: Waiting For All Album Songs Jay Shree Ram\n",
      "Upvotes: 7\n",
      "Time Posted: 3 days ago\n",
      "---\n",
      "Comment: Tears fell down from my eyes \" Jai shree Ram Raja Ram \"\n",
      "Upvotes: 3\n",
      "Time Posted: 4 days ago\n",
      "---\n",
      "Comment: This will be next level movie of  Indian cinema throughout the history.\n",
      "Upvotes: 2\n",
      "Time Posted: 13 hours ago\n",
      "---\n",
      "Comment: Adipurush is going to be a hit in bollywood \n",
      "Upvotes: 27\n",
      "Time Posted: 4 days ago\n",
      "---\n",
      "Comment: Watched the trailer in 3D when I went to guardians of the galaxy movie. It's really looking great in 3D .I thought they we doing injustice to this epic indian historical  venture , but seems like they will prove everyone wrong once the movie is released and it will be a big blockbuster.\n",
      "Upvotes: 8\n",
      "Time Posted: 4 days ago (edited)\n",
      "---\n",
      "Comment: that last dialogue from ravan gaved me goosebumps \" laxmi ko pa le narayan ban jayega.\"\n",
      "Upvotes: 1\n",
      "Time Posted: 1 hour ago (edited)\n",
      "---\n",
      "Comment: Goosebumps in every single second ️️..\n",
      " Jai shree ram\n",
      "Upvotes: 12\n",
      "Time Posted: 4 days ago\n",
      "---\n",
      "Comment: Lets appreciate this effort atleast someone is trying to make this generation tp realise greatness of lord ram.. Don't become critic rather we must go and watch in theatre on release.. Jai shree ram.. \n",
      "Upvotes: 13\n",
      "Time Posted: 1 day ago\n",
      "---\n",
      "Comment: We are waiting \n",
      "Upvotes: 1.3K\n",
      "Time Posted: 9 days ago\n",
      "---\n",
      "Comment: The line ( Jay shree ram) literally goosebumps \n",
      "Upvotes: 35\n",
      "Time Posted: 4 days ago\n",
      "---\n",
      "Comment: एक ही नारा, एक ही नाम \n",
      "\n",
      "जय श्रीराम, जय श्रीराम\n",
      "\n",
      " बोल सियापति रामचंद्र की जय \n",
      "Upvotes: 65K\n",
      "Time Posted: 10 days ago\n",
      "---\n",
      "Comment: Adipurush\n",
      "Upvotes: 45K\n",
      "Time Posted: 9 days ago\n",
      "---\n"
     ]
    }
   ],
   "source": [
    "LIMIT = 200  \n",
    "\n",
    "for _ in range(20):\n",
    "    driver.execute_script(\"window.scrollBy(0,1000)\")\n",
    "scroll_pause_time = 5\n",
    "last_height = driver.execute_script(\"return document.documentElement.scrollHeight\")\n",
    "while len(comments) < LIMIT:\n",
    "    driver.execute_script(\"window.scrollTo(0, document.documentElement.scrollHeight);\")\n",
    "    time.sleep(scroll_pause_time)\n",
    "    new_height = driver.execute_script(\"return document.documentElement.scrollHeight\")\n",
    "    if new_height == last_height:\n",
    "        break\n",
    "    last_height = new_height\n",
    "    comment_elements = driver.find_elements(By.CSS_SELECTOR, '#content-text')\n",
    "    upvote_elements = driver.find_elements(By.CSS_SELECTOR, '#vote-count-middle')\n",
    "    time_elements = driver.find_elements(By.CSS_SELECTOR, 'yt-formatted-string.published-time-text a')\n",
    "    for i in range(len(comment_elements)):\n",
    "        comment_text = comment_elements[i].text\n",
    "        comment_upvotes = upvote_elements[i].text\n",
    "        time_posted_element = time_elements[i]\n",
    "        comment_time = time_posted_element.get_attribute(\"innerText\")\n",
    "        comments.append((comment_text, comment_upvotes, comment_time))\n",
    "\n",
    "\n",
    "comments = comments[:LIMIT]\n",
    "\n",
    "\n",
    "for comment in comments:\n",
    "    print('Comment:', comment[0])\n",
    "    print('Upvotes:', comment[1])\n",
    "    print('Time Posted:', comment[2])\n",
    "    print('---')"
   ]
  },
  {
   "cell_type": "code",
   "execution_count": 77,
   "id": "98474dfb",
   "metadata": {},
   "outputs": [
    {
     "name": "stdout",
     "output_type": "stream",
     "text": [
      "                                               Comment Upvotes   Time Posted\n",
      "0    एक ही नारा, एक ही नाम \\n\\nजय श्रीराम, जय श्रीर...     65K   10 days ago\n",
      "1                                            Adipurush     45K    9 days ago\n",
      "2    The starting with “MANGAL BHAVAN AMANGAL HARI ...     618    4 days ago\n",
      "3    The sight of Lord Rama and Mata Sabri moved me...      34  15 hours ago\n",
      "4          That \"Mangal bhavan\" goosebumps guaranteed      134     1 day ago\n",
      "..                                                 ...     ...           ...\n",
      "195  Lets appreciate this effort atleast someone is...      13     1 day ago\n",
      "196                                    We are waiting     1.3K    9 days ago\n",
      "197    The line ( Jay shree ram) literally goosebumps       35    4 days ago\n",
      "198  एक ही नारा, एक ही नाम \\n\\nजय श्रीराम, जय श्रीर...     65K   10 days ago\n",
      "199                                          Adipurush     45K    9 days ago\n",
      "\n",
      "[200 rows x 3 columns]\n"
     ]
    }
   ],
   "source": [
    "df = pd.DataFrame(comments, columns=['Comment', 'Upvotes', 'Time Posted'])\n",
    "\n",
    "# Print the dataframe\n",
    "print(df)"
   ]
  },
  {
   "cell_type": "code",
   "execution_count": 78,
   "id": "7aa25f3d",
   "metadata": {},
   "outputs": [
    {
     "name": "stdout",
     "output_type": "stream",
     "text": [
      "*****END OF QUESTION 9(have limited comments to 200 due to slow internet connection at my end)*************\n"
     ]
    }
   ],
   "source": [
    "print(\"*****END OF QUESTION 9(have limited comments to 200 due to slow internet connection at my end)*************\")"
   ]
  },
  {
   "cell_type": "code",
   "execution_count": 9,
   "id": "d481b892",
   "metadata": {},
   "outputs": [
    {
     "name": "stdout",
     "output_type": "stream",
     "text": [
      "*****QUESTION 10*******\n"
     ]
    }
   ],
   "source": [
    "print(\"*****QUESTION 10*******\")"
   ]
  },
  {
   "cell_type": "code",
   "execution_count": 40,
   "id": "3e8c4a90",
   "metadata": {},
   "outputs": [],
   "source": [
    "driver=webdriver.Chrome(r\"C:\\Users\\cws\\Desktop\\chromedriver_win32\\chromedriver.exe\")"
   ]
  },
  {
   "cell_type": "code",
   "execution_count": 41,
   "id": "5dc02f20",
   "metadata": {},
   "outputs": [],
   "source": [
    "driver.get(\"https://www.hostelworld.com/\")"
   ]
  },
  {
   "cell_type": "code",
   "execution_count": 48,
   "id": "60d2df1d",
   "metadata": {},
   "outputs": [],
   "source": [
    "search_bar=driver.find_element(By.XPATH, '/html/body/div[3]/div/div/div[2]/div[2]/div[2]/div/div/div/div[1]/div[1]/div/div[2]/input')\n",
    "search_bar.send_keys('London')"
   ]
  },
  {
   "cell_type": "code",
   "execution_count": 50,
   "id": "bc7f9169",
   "metadata": {},
   "outputs": [],
   "source": [
    "click_button = driver.find_element(By.XPATH, '/html/body/div[3]/div/div/div[2]/div[2]/div[2]/div/div/div/div[1]/div[2]/div/ul/li[2]/button/div[2]/div[1]')\n",
    "click_button.click()"
   ]
  },
  {
   "cell_type": "code",
   "execution_count": 53,
   "id": "a068394c",
   "metadata": {},
   "outputs": [],
   "source": [
    "click_search= driver.find_element(By.XPATH, '//button[@class=\"btn-content large-button\"]')\n",
    "click_search.click()"
   ]
  },
  {
   "cell_type": "code",
   "execution_count": 55,
   "id": "90114ace",
   "metadata": {},
   "outputs": [
    {
     "name": "stdout",
     "output_type": "stream",
     "text": [
      "Getting URLs from page 0\n",
      "Appended URL: https://www.hostelworld.com/pwa/hosteldetails.php/St-Christopher-s-Village/London/502?from=2023-05-20&to=2023-05-23&guests=2\n",
      "Appended URL: https://www.hostelworld.com/pwa/hosteldetails.php/St%20Christopher's%20Village/London/502?from=2023-05-20&to=2023-05-23&guests=2\n",
      "Appended URL: https://www.hostelworld.com/pwa/hosteldetails.php/Wombat-s-City-Hostel-London/London/88047?from=2023-05-20&to=2023-05-23&guests=2\n",
      "Appended URL: https://www.hostelworld.com/pwa/hosteldetails.php/Wombat's%20City%20Hostel%20London/London/88047?from=2023-05-20&to=2023-05-23&guests=2\n",
      "Appended URL: https://www.hostelworld.com/pwa/hosteldetails.php/Hostel-One-Notting-Hill/London/291433?from=2023-05-20&to=2023-05-23&guests=2\n",
      "Appended URL: https://www.hostelworld.com/pwa/hosteldetails.php/Hostel%20One%20Notting%20Hill/London/291433?from=2023-05-20&to=2023-05-23&guests=2\n",
      "Appended URL: https://www.hostelworld.com/pwa/hosteldetails.php/St-Christopher-s-Village/London/502?from=2023-05-20&to=2023-05-23&guests=2\n",
      "Appended URL: https://www.hostelworld.com/pwa/hosteldetails.php/St%20Christopher's%20Village/London/502?from=2023-05-20&to=2023-05-23&guests=2\n",
      "Appended URL: https://www.hostelworld.com/pwa/hosteldetails.php/Generator-London/London/510?from=2023-05-20&to=2023-05-23&guests=2\n",
      "Appended URL: https://www.hostelworld.com/pwa/hosteldetails.php/Generator%20London/London/510?from=2023-05-20&to=2023-05-23&guests=2\n",
      "Appended URL: https://www.hostelworld.com/pwa/hosteldetails.php/Urbany-Hostel-London/London/303427?from=2023-05-20&to=2023-05-23&guests=2\n",
      "Appended URL: https://www.hostelworld.com/pwa/hosteldetails.php/Urbany%20Hostel%20London/London/303427?from=2023-05-20&to=2023-05-23&guests=2\n",
      "Appended URL: https://www.hostelworld.com/pwa/hosteldetails.php/Safestay-London-Elephant-Castle/London/55551?from=2023-05-20&to=2023-05-23&guests=2\n",
      "Appended URL: https://www.hostelworld.com/pwa/hosteldetails.php/Safestay%20London%20Elephant%20&%20Castle/London/55551?from=2023-05-20&to=2023-05-23&guests=2\n",
      "Appended URL: https://www.hostelworld.com/pwa/hosteldetails.php/No-8-Willesden-Hostel-London/London/18420?from=2023-05-20&to=2023-05-23&guests=2\n",
      "Appended URL: https://www.hostelworld.com/pwa/hosteldetails.php/No.8%20Willesden%20Hostel%20London/London/18420?from=2023-05-20&to=2023-05-23&guests=2\n",
      "Appended URL: https://www.hostelworld.com/pwa/hosteldetails.php/London-Backpackers/London/527?from=2023-05-20&to=2023-05-23&guests=2\n",
      "Appended URL: https://www.hostelworld.com/pwa/hosteldetails.php/London%20Backpackers/London/527?from=2023-05-20&to=2023-05-23&guests=2\n",
      "Appended URL: https://www.hostelworld.com/pwa/hosteldetails.php/St-Christopher-s-Camden/London/505?from=2023-05-20&to=2023-05-23&guests=2\n",
      "Appended URL: https://www.hostelworld.com/pwa/hosteldetails.php/St%20Christopher's%20Camden/London/505?from=2023-05-20&to=2023-05-23&guests=2\n",
      "Appended URL: https://www.hostelworld.com/pwa/hosteldetails.php/St-Christopher-s-Hammersmith/London/20976?from=2023-05-20&to=2023-05-23&guests=2\n",
      "Appended URL: https://www.hostelworld.com/pwa/hosteldetails.php/St%20Christopher's%20Hammersmith/London/20976?from=2023-05-20&to=2023-05-23&guests=2\n",
      "Appended URL: https://www.hostelworld.com/pwa/hosteldetails.php/PubLove-The-Steam-Engine-Waterloo/London/29389?from=2023-05-20&to=2023-05-23&guests=2\n",
      "Appended URL: https://www.hostelworld.com/pwa/hosteldetails.php/PubLove%20@%20The%20Steam%20Engine,%20Waterloo/London/29389?from=2023-05-20&to=2023-05-23&guests=2\n",
      "Appended URL: https://www.hostelworld.com/pwa/hosteldetails.php/Saint-James-Backpackers/London/70909?from=2023-05-20&to=2023-05-23&guests=2\n",
      "Appended URL: https://www.hostelworld.com/pwa/hosteldetails.php/Saint%20James%20Backpackers/London/70909?from=2023-05-20&to=2023-05-23&guests=2\n",
      "Appended URL: https://www.hostelworld.com/pwa/hosteldetails.php/Selina-Camden/London/310274?from=2023-05-20&to=2023-05-23&guests=2\n",
      "Appended URL: https://www.hostelworld.com/pwa/hosteldetails.php/Selina%20Camden/London/310274?from=2023-05-20&to=2023-05-23&guests=2\n",
      "Appended URL: https://www.hostelworld.com/pwa/hosteldetails.php/St-Christopher-s-Shepherds-Bush/London/506?from=2023-05-20&to=2023-05-23&guests=2\n",
      "Appended URL: https://www.hostelworld.com/pwa/hosteldetails.php/St%20Christopher's%20Shepherds%20Bush/London/506?from=2023-05-20&to=2023-05-23&guests=2\n",
      "Appended URL: https://www.hostelworld.com/pwa/hosteldetails.php/Hostelle-London/London/316723?from=2023-05-20&to=2023-05-23&guests=2\n",
      "Appended URL: https://www.hostelworld.com/pwa/hosteldetails.php/Hostelle%20London/London/316723?from=2023-05-20&to=2023-05-23&guests=2\n",
      "Appended URL: https://www.hostelworld.com/pwa/hosteldetails.php/PubLove-The-Crown-Battersea/London/60336?from=2023-05-20&to=2023-05-23&guests=2\n",
      "Appended URL: https://www.hostelworld.com/pwa/hosteldetails.php/PubLove%20@%20The%20Crown,%20Battersea/London/60336?from=2023-05-20&to=2023-05-23&guests=2\n",
      "Appended URL: https://www.hostelworld.com/pwa/hosteldetails.php/PubLove-The-White-Ferry-Victoria/London/39761?from=2023-05-20&to=2023-05-23&guests=2\n",
      "Appended URL: https://www.hostelworld.com/pwa/hosteldetails.php/PubLove%20@%20The%20White%20Ferry,%20Victoria/London/39761?from=2023-05-20&to=2023-05-23&guests=2\n",
      "Appended URL: https://www.hostelworld.com/pwa/hosteldetails.php/Elmwood-Hotel/London/34338?from=2023-05-20&to=2023-05-23&guests=2\n",
      "Appended URL: https://www.hostelworld.com/pwa/hosteldetails.php/Elmwood%20Hotel/London/34338?from=2023-05-20&to=2023-05-23&guests=2\n",
      "Appended URL: https://www.hostelworld.com/pwa/hosteldetails.php/London-Waterloo-Hostel/London/39493?from=2023-05-20&to=2023-05-23&guests=2\n",
      "Appended URL: https://www.hostelworld.com/pwa/hosteldetails.php/London%20Waterloo%20Hostel/London/39493?from=2023-05-20&to=2023-05-23&guests=2\n",
      "Appended URL: https://www.hostelworld.com/pwa/hosteldetails.php/Tony-s-House-Hotel/London/8503?from=2023-05-20&to=2023-05-23&guests=2\n",
      "Appended URL: https://www.hostelworld.com/pwa/hosteldetails.php/Tony's%20House%20Hotel/London/8503?from=2023-05-20&to=2023-05-23&guests=2\n",
      "Appended URL: https://www.hostelworld.com/pwa/hosteldetails.php/PubLove-The-Exmouth-Arms-Euston/London/93796?from=2023-05-20&to=2023-05-23&guests=2\n",
      "Appended URL: https://www.hostelworld.com/pwa/hosteldetails.php/PubLove%20@%20The%20Exmouth%20Arms,%20Euston/London/93796?from=2023-05-20&to=2023-05-23&guests=2\n",
      "Appended URL: https://www.hostelworld.com/pwa/hosteldetails.php/PubLove-The-Green-Man-Paddington/London/21953?from=2023-05-20&to=2023-05-23&guests=2\n",
      "Appended URL: https://www.hostelworld.com/pwa/hosteldetails.php/PubLove%20@%20The%20Green%20Man,%20Paddington/London/21953?from=2023-05-20&to=2023-05-23&guests=2\n",
      "Appended URL: https://www.hostelworld.com/pwa/hosteldetails.php/London-House-Hotel/London/529?from=2023-05-20&to=2023-05-23&guests=2\n",
      "Appended URL: https://www.hostelworld.com/pwa/hosteldetails.php/London%20House%20Hotel/London/529?from=2023-05-20&to=2023-05-23&guests=2\n",
      "Appended URL: https://www.hostelworld.com/pwa/hosteldetails.php/Hyde-Park-Court-Hotel/London/5107?from=2023-05-20&to=2023-05-23&guests=2\n",
      "Appended URL: https://www.hostelworld.com/pwa/hosteldetails.php/Hyde%20Park%20Court%20Hotel/London/5107?from=2023-05-20&to=2023-05-23&guests=2\n",
      "Appended URL: https://www.hostelworld.com/pwa/hosteldetails.php/Park-Hotel/London/295852?from=2023-05-20&to=2023-05-23&guests=2\n",
      "Appended URL: https://www.hostelworld.com/pwa/hosteldetails.php/Park%20Hotel/London/295852?from=2023-05-20&to=2023-05-23&guests=2\n",
      "Finished processing page 0\n"
     ]
    }
   ],
   "source": [
    "hostle_urls = []\n",
    "start = 0\n",
    "end = 1\n",
    "\n",
    "for page in range(start, end):\n",
    "    print(\"Getting URLs from page\", page)\n",
    "    urls = driver.find_elements(By.XPATH, '//div[@class=\"property-card\"]//a')\n",
    "    for url in urls:\n",
    "        hostle_urls.append(url.get_attribute('href'))\n",
    "        print(\"Appended URL:\", url.get_attribute('href'))\n",
    "        time.sleep(2)\n",
    "    print(\"Finished processing page\", page)"
   ]
  },
  {
   "cell_type": "code",
   "execution_count": 56,
   "id": "71611891",
   "metadata": {},
   "outputs": [],
   "source": [
    "for url in hostle_urls:\n",
    "    driver.get(url)\n",
    "    time.sleep(2)\n",
    "\n",
    "hostel_name=[]\n",
    "distance=[]\n",
    "ratings=[]\n",
    "total_review=[]\n",
    "overall_review=[]\n",
    "privates_price=[]\n",
    "dorm_price=[]\n",
    "facility=[]\n",
    "property_description=[]"
   ]
  },
  {
   "cell_type": "code",
   "execution_count": null,
   "id": "925b8e11",
   "metadata": {},
   "outputs": [],
   "source": [
    "for url in hostel_urls:\n",
    "    driver.get(url)\n",
    "    time.sleep(2)\n",
    "\n",
    "    try:\n",
    "        name_element = driver.find_element(By.XPATH, '//div[@class=\"title-2\"]')\n",
    "        hostel_name.append(name_element.text)\n",
    "    except NoSuchElementException:\n",
    "        hostel_name.append('N/A')\n",
    "\n",
    "    try:\n",
    "        ratings_element = driver.find_element(By.XPATH, '//div[@class=\"score orange big\"]')\n",
    "        ratings.append(ratings_element.text)\n",
    "    except NoSuchElementException:\n",
    "        ratings.append('N/A')\n",
    "\n",
    "    try:\n",
    "        totalreview_element = driver.find_element(By.XPATH, '//div[@class=\"reviews\"]')\n",
    "        total_review.append(totalreview_element.text)\n",
    "    except NoSuchElementException:\n",
    "        total_review.append('N/A')\n",
    "\n",
    "    try:\n",
    "        overallreview_element = driver.find_element(By.XPATH, '//div[@class=\"keyword\"]')\n",
    "        overall_review.append(overallreview_element.text)\n",
    "    except NoSuchElementException:\n",
    "        overall_review.append('N/A')\n",
    "\n",
    "    try:\n",
    "        privatesprice_element = driver.find_element(By.XPATH, '//div[@class=\"price\"]')\n",
    "        privates_price.append(privatesprice_element.text)\n",
    "    except NoSuchElementException:\n",
    "        privates_price.append('N/A')\n",
    "\n",
    "    try:\n",
    "        dormprice_element = driver.find_element(By.XPATH, '//div[@class=\"price\"]')\n",
    "        dorm_price.append(dormprice_element.text)\n",
    "    except NoSuchElementException:\n",
    "        Display.append('N/A')\n",
    "\n",
    "    try:\n",
    "        facility_element = driver.find_element(By.XPATH, '//ul[@class=\"facility-sections\"]//li')\n",
    "        facility.append(facility_element.text)\n",
    "    except NoSuchElementException:\n",
    "        facility.append('N/A')\n",
    "\n",
    "    try:\n",
    "        propertydescription_element = driver.find_element(By.XPATH, '//div[@class=\"content collapse-content\"]')\n",
    "        property_description.append(propertydescription_element.text)\n",
    "    except NoSuchElementException:\n",
    "        property_description.append('N/A')"
   ]
  },
  {
   "cell_type": "code",
   "execution_count": 63,
   "id": "8981f42a",
   "metadata": {},
   "outputs": [],
   "source": [
    "data = {\n",
    "    'Hostel Name': hostel_name,\n",
    "    'Ratings': ratings,\n",
    "    'Total Review': total_review,\n",
    "    'Overall Review': overall_review,\n",
    "    'Privates Price': privates_price,\n",
    "    'Dorm Price': dorm_price,\n",
    "    'Facility': facility,\n",
    "    'Property Description': property_description\n",
    "}\n",
    "\n",
    "df = pd.DataFrame(data)"
   ]
  },
  {
   "cell_type": "code",
   "execution_count": 39,
   "id": "77f1c5cb",
   "metadata": {},
   "outputs": [
    {
     "name": "stdout",
     "output_type": "stream",
     "text": [
      "***************END OF QUESTION 10**************\n"
     ]
    }
   ],
   "source": [
    "print(\"***************END OF QUESTION 10**************\")"
   ]
  },
  {
   "cell_type": "code",
   "execution_count": null,
   "id": "6f717bb0",
   "metadata": {},
   "outputs": [],
   "source": []
  }
 ],
 "metadata": {
  "kernelspec": {
   "display_name": "Python 3 (ipykernel)",
   "language": "python",
   "name": "python3"
  },
  "language_info": {
   "codemirror_mode": {
    "name": "ipython",
    "version": 3
   },
   "file_extension": ".py",
   "mimetype": "text/x-python",
   "name": "python",
   "nbconvert_exporter": "python",
   "pygments_lexer": "ipython3",
   "version": "3.9.12"
  }
 },
 "nbformat": 4,
 "nbformat_minor": 5
}
