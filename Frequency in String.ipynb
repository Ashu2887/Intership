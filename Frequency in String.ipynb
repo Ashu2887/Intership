{
 "cells": [
  {
   "cell_type": "code",
   "execution_count": 1,
   "id": "c2b72e9e",
   "metadata": {},
   "outputs": [
    {
     "name": "stdout",
     "output_type": "stream",
     "text": [
      "ENTER A STRING:-1122334567\n",
      "1 : 1\n",
      "1 : 2\n",
      "1 : 2\n",
      "2 : 1\n",
      "1 : 2\n",
      "2 : 2\n",
      "1 : 2\n",
      "2 : 2\n",
      "3 : 1\n",
      "1 : 2\n",
      "2 : 2\n",
      "3 : 2\n",
      "1 : 2\n",
      "2 : 2\n",
      "3 : 2\n",
      "4 : 1\n",
      "1 : 2\n",
      "2 : 2\n",
      "3 : 2\n",
      "4 : 1\n",
      "5 : 1\n",
      "1 : 2\n",
      "2 : 2\n",
      "3 : 2\n",
      "4 : 1\n",
      "5 : 1\n",
      "6 : 1\n",
      "1 : 2\n",
      "2 : 2\n",
      "3 : 2\n",
      "4 : 1\n",
      "5 : 1\n",
      "6 : 1\n",
      "7 : 1\n"
     ]
    }
   ],
   "source": [
    "string = input(\"ENTER A STRING:-\")\n",
    "DICT = {}\n",
    "for char in string:\n",
    "    if char in DICT:\n",
    "        DICT[char] += 1\n",
    "    else:\n",
    "        DICT[char] = 1\n",
    "    for char, freq in DICT.items():\n",
    "        print(char, \":\", freq)\n",
    "        \n",
    "        "
   ]
  },
  {
   "cell_type": "code",
   "execution_count": null,
   "id": "defb7c23",
   "metadata": {},
   "outputs": [],
   "source": []
  }
 ],
 "metadata": {
  "kernelspec": {
   "display_name": "Python 3 (ipykernel)",
   "language": "python",
   "name": "python3"
  },
  "language_info": {
   "codemirror_mode": {
    "name": "ipython",
    "version": 3
   },
   "file_extension": ".py",
   "mimetype": "text/x-python",
   "name": "python",
   "nbconvert_exporter": "python",
   "pygments_lexer": "ipython3",
   "version": "3.9.12"
  }
 },
 "nbformat": 4,
 "nbformat_minor": 5
}
