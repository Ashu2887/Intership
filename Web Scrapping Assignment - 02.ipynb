{
 "cells": [
  {
   "cell_type": "code",
   "execution_count": 25,
   "id": "a9c37734",
   "metadata": {},
   "outputs": [],
   "source": [
    "import selenium\n",
    "import pandas as pd\n",
    "from selenium import webdriver\n",
    "import warnings\n",
    "warnings.filterwarnings('ignore')\n",
    "from selenium.common.exceptions import StaleElementReferenceException, NoSuchElementException\n",
    "from selenium.webdriver.common.by import By\n",
    "import time"
   ]
  },
  {
   "cell_type": "code",
   "execution_count": 55,
   "id": "108c9762",
   "metadata": {},
   "outputs": [],
   "source": [
    "driver=webdriver.Chrome(r\"C:\\Users\\cws\\Desktop\\chromedriver_win32\\chromedriver.exe\")"
   ]
  },
  {
   "cell_type": "code",
   "execution_count": 56,
   "id": "bf56fe01",
   "metadata": {},
   "outputs": [],
   "source": [
    "driver.get(\"https://www.naukri.com/\")"
   ]
  },
  {
   "cell_type": "code",
   "execution_count": 57,
   "id": "65b27eb2",
   "metadata": {},
   "outputs": [],
   "source": [
    "designation=driver.find_element(By.CLASS_NAME,\"suggestor-input\")\n",
    "designation.send_keys('Data Analyst')"
   ]
  },
  {
   "cell_type": "code",
   "execution_count": 58,
   "id": "e90c4634",
   "metadata": {},
   "outputs": [],
   "source": [
    "location=driver.find_element(By.XPATH,\"/html/body/div[1]/div[7]/div/div/div[5]/div/div/div/div[1]/div/input\")\n",
    "location.send_keys('Bangalore')"
   ]
  },
  {
   "cell_type": "code",
   "execution_count": 59,
   "id": "c57f19bd",
   "metadata": {},
   "outputs": [],
   "source": [
    "search=driver.find_element(By.CLASS_NAME,\"qsbSubmit\")\n",
    "search.click()"
   ]
  },
  {
   "cell_type": "code",
   "execution_count": 68,
   "id": "1b0d4c76",
   "metadata": {},
   "outputs": [],
   "source": [
    "job_title=[]\n",
    "job_location=[]\n",
    "company_name=[]\n",
    "experience_required=[]"
   ]
  },
  {
   "cell_type": "code",
   "execution_count": 69,
   "id": "6fd399ab",
   "metadata": {},
   "outputs": [],
   "source": [
    "j_t = driver.find_elements(By.XPATH, '/html/body/div[1]/div[4]/div/div/section[2]/div[2]/article[1]/div[1]/div[1]/a')\n",
    "for i in j_t:\n",
    "    JT = i.text\n",
    "    job_title.append(JT)\n",
    "\n",
    "j_l = driver.find_elements(By.XPATH, '/html/body/div[1]/div[4]/div/div/section[2]/div[2]/article[1]/div[1]/ul/li[3]/span')\n",
    "for i in j_l:\n",
    "    JL = i.text\n",
    "    job_location.append(JL)\n",
    "\n",
    "c_n = driver.find_elements(By.XPATH, '/html/body/div[1]/div[4]/div/div/section[2]/div[2]/article[1]/div[1]/div[1]/div/a[1]')\n",
    "for i in c_n:\n",
    "    CN = i.text\n",
    "    company_name.append(CN)\n",
    "    \n",
    "e_r = driver.find_elements(By.XPATH, '/html/body/div[1]/div[4]/div/div/section[2]/div[2]/article[1]/div[1]/ul/li[1]/span[1]')\n",
    "for i in e_r:\n",
    "    ER = i.text\n",
    "    experience_required.append(ER)\n",
    "\n",
    "\n",
    "df1 = pd.DataFrame(list(zip(job_title, job_location, company_name, experience_required)),\n",
    "          columns=['TITLE', 'LOC', 'ORG NAME', 'EXP'])"
   ]
  },
  {
   "cell_type": "code",
   "execution_count": 68,
   "id": "d9aa8f84",
   "metadata": {},
   "outputs": [
    {
     "name": "stdout",
     "output_type": "stream",
     "text": [
      "*********ANSWER FOR QUESTION 1***********\n"
     ]
    },
    {
     "data": {
      "text/html": [
       "<div>\n",
       "<style scoped>\n",
       "    .dataframe tbody tr th:only-of-type {\n",
       "        vertical-align: middle;\n",
       "    }\n",
       "\n",
       "    .dataframe tbody tr th {\n",
       "        vertical-align: top;\n",
       "    }\n",
       "\n",
       "    .dataframe thead th {\n",
       "        text-align: right;\n",
       "    }\n",
       "</style>\n",
       "<table border=\"1\" class=\"dataframe\">\n",
       "  <thead>\n",
       "    <tr style=\"text-align: right;\">\n",
       "      <th></th>\n",
       "      <th>LOCATION</th>\n",
       "      <th>COMAPNY NAME</th>\n",
       "      <th>EXPERIENCE REQ</th>\n",
       "    </tr>\n",
       "  </thead>\n",
       "  <tbody>\n",
       "    <tr>\n",
       "      <th>0</th>\n",
       "      <td>Bangalore/Bengaluru</td>\n",
       "      <td>ANZ</td>\n",
       "      <td>6-9 Yrs</td>\n",
       "    </tr>\n",
       "    <tr>\n",
       "      <th>1</th>\n",
       "      <td>Bangalore/Bengaluru</td>\n",
       "      <td>ANZ</td>\n",
       "      <td>6-10 Yrs</td>\n",
       "    </tr>\n",
       "    <tr>\n",
       "      <th>2</th>\n",
       "      <td>Bangalore/Bengaluru</td>\n",
       "      <td>AVE Promagne</td>\n",
       "      <td>1-5 Yrs</td>\n",
       "    </tr>\n",
       "    <tr>\n",
       "      <th>3</th>\n",
       "      <td>Bangalore/Bengaluru, Mumbai, Hyderabad/Secunde...</td>\n",
       "      <td>Primo Hiring</td>\n",
       "      <td>1-2 Yrs</td>\n",
       "    </tr>\n",
       "    <tr>\n",
       "      <th>4</th>\n",
       "      <td>Bangalore/Bengaluru, Kolkata, Mumbai, Hyderaba...</td>\n",
       "      <td>Primo Hiring</td>\n",
       "      <td>1-2 Yrs</td>\n",
       "    </tr>\n",
       "    <tr>\n",
       "      <th>5</th>\n",
       "      <td>Bangalore/Bengaluru, Kolkata, Mumbai, Hyderaba...</td>\n",
       "      <td>Primo Hiring</td>\n",
       "      <td>1-2 Yrs</td>\n",
       "    </tr>\n",
       "    <tr>\n",
       "      <th>6</th>\n",
       "      <td>Bangalore/Bengaluru</td>\n",
       "      <td>AVE Promagne</td>\n",
       "      <td>1-5 Yrs</td>\n",
       "    </tr>\n",
       "    <tr>\n",
       "      <th>7</th>\n",
       "      <td>Bangalore/Bengaluru, Hyderabad/Secunderabad, G...</td>\n",
       "      <td>Coforge</td>\n",
       "      <td>5-10 Yrs</td>\n",
       "    </tr>\n",
       "    <tr>\n",
       "      <th>8</th>\n",
       "      <td>Bangalore/Bengaluru</td>\n",
       "      <td>Dpdzero</td>\n",
       "      <td>1-3 Yrs</td>\n",
       "    </tr>\n",
       "    <tr>\n",
       "      <th>9</th>\n",
       "      <td>Bangalore/Bengaluru</td>\n",
       "      <td>First American</td>\n",
       "      <td>1-4 Yrs</td>\n",
       "    </tr>\n",
       "  </tbody>\n",
       "</table>\n",
       "</div>"
      ],
      "text/plain": [
       "                                            LOCATION    COMAPNY NAME  \\\n",
       "0                                Bangalore/Bengaluru             ANZ   \n",
       "1                                Bangalore/Bengaluru             ANZ   \n",
       "2                                Bangalore/Bengaluru    AVE Promagne   \n",
       "3  Bangalore/Bengaluru, Mumbai, Hyderabad/Secunde...    Primo Hiring   \n",
       "4  Bangalore/Bengaluru, Kolkata, Mumbai, Hyderaba...    Primo Hiring   \n",
       "5  Bangalore/Bengaluru, Kolkata, Mumbai, Hyderaba...    Primo Hiring   \n",
       "6                                Bangalore/Bengaluru    AVE Promagne   \n",
       "7  Bangalore/Bengaluru, Hyderabad/Secunderabad, G...         Coforge   \n",
       "8                                Bangalore/Bengaluru         Dpdzero   \n",
       "9                                Bangalore/Bengaluru  First American   \n",
       "\n",
       "  EXPERIENCE REQ  \n",
       "0        6-9 Yrs  \n",
       "1       6-10 Yrs  \n",
       "2        1-5 Yrs  \n",
       "3        1-2 Yrs  \n",
       "4        1-2 Yrs  \n",
       "5        1-2 Yrs  \n",
       "6        1-5 Yrs  \n",
       "7       5-10 Yrs  \n",
       "8        1-3 Yrs  \n",
       "9        1-4 Yrs  "
      ]
     },
     "execution_count": 68,
     "metadata": {},
     "output_type": "execute_result"
    }
   ],
   "source": [
    "print(\"*********ANSWER FOR QUESTION 1***********\")\n",
    "df"
   ]
  },
  {
   "cell_type": "code",
   "execution_count": 54,
   "id": "b53ea37f",
   "metadata": {},
   "outputs": [
    {
     "name": "stdout",
     "output_type": "stream",
     "text": [
      "********QUESTION 02*********\n"
     ]
    }
   ],
   "source": [
    "print(\"********QUESTION 02*********\")"
   ]
  },
  {
   "cell_type": "code",
   "execution_count": 69,
   "id": "178cc869",
   "metadata": {},
   "outputs": [],
   "source": [
    "driver=webdriver.Chrome(r\"C:\\Users\\cws\\Desktop\\chromedriver_win32\\chromedriver.exe\")"
   ]
  },
  {
   "cell_type": "code",
   "execution_count": 70,
   "id": "598bbbf0",
   "metadata": {},
   "outputs": [],
   "source": [
    "driver.get(\"https://www.naukri.com/\")"
   ]
  },
  {
   "cell_type": "code",
   "execution_count": 71,
   "id": "b255e912",
   "metadata": {},
   "outputs": [],
   "source": [
    "designation=driver.find_element(By.CLASS_NAME,\"suggestor-input\")\n",
    "designation.send_keys('Data Scientist')"
   ]
  },
  {
   "cell_type": "code",
   "execution_count": 72,
   "id": "836aff76",
   "metadata": {},
   "outputs": [],
   "source": [
    "location=driver.find_element(By.XPATH,\"/html/body/div[1]/div[7]/div/div/div[5]/div/div/div/div[1]/div/input\")\n",
    "location.send_keys('Bangalore')"
   ]
  },
  {
   "cell_type": "code",
   "execution_count": 73,
   "id": "b2b9ff10",
   "metadata": {},
   "outputs": [],
   "source": [
    "search=driver.find_element(By.CLASS_NAME,\"qsbSubmit\")\n",
    "search.click()"
   ]
  },
  {
   "cell_type": "code",
   "execution_count": 84,
   "id": "3b1d5277",
   "metadata": {},
   "outputs": [],
   "source": [
    "job_title=[]\n",
    "S_job_location=[]\n",
    "company_name=[]\n",
    "experience_required=[]"
   ]
  },
  {
   "cell_type": "code",
   "execution_count": 85,
   "id": "3de45de3",
   "metadata": {},
   "outputs": [],
   "source": [
    "title_tags=driver.find_elements(By.XPATH,'//a[@class=\"title ellipsis\"]')\n",
    "for i in title_tags[0:10]:\n",
    "    title=i.text\n",
    "    job_title.append(title)"
   ]
  },
  {
   "cell_type": "code",
   "execution_count": 86,
   "id": "fb514d39",
   "metadata": {},
   "outputs": [
    {
     "data": {
      "text/plain": [
       "10"
      ]
     },
     "execution_count": 86,
     "metadata": {},
     "output_type": "execute_result"
    }
   ],
   "source": [
    "len(job_title)"
   ]
  },
  {
   "cell_type": "code",
   "execution_count": 89,
   "id": "15bd9b5e",
   "metadata": {},
   "outputs": [],
   "source": [
    "S_job_location=driver.find_elements(By.XPATH,'//span[@class=\"ellipsis fleft locWdth\"]')\n",
    "for i in S_job_location[0:10]:\n",
    "    S_location=i.text\n",
    "    S_job_location.append(S_location)"
   ]
  },
  {
   "cell_type": "code",
   "execution_count": 90,
   "id": "884b7667",
   "metadata": {},
   "outputs": [
    {
     "data": {
      "text/plain": [
       "30"
      ]
     },
     "execution_count": 90,
     "metadata": {},
     "output_type": "execute_result"
    }
   ],
   "source": [
    "len(S_job_location)"
   ]
  },
  {
   "cell_type": "code",
   "execution_count": 91,
   "id": "0736f789",
   "metadata": {},
   "outputs": [],
   "source": [
    "company_name=driver.find_elements(By.XPATH,'//a[@class=\"subTitle ellipsis fleft\"]')\n",
    "for i in company_name[0:10]:\n",
    "    company=i.text\n",
    "    company_name.append(company)"
   ]
  },
  {
   "cell_type": "code",
   "execution_count": 94,
   "id": "56961d72",
   "metadata": {},
   "outputs": [
    {
     "data": {
      "text/plain": [
       "30"
      ]
     },
     "execution_count": 94,
     "metadata": {},
     "output_type": "execute_result"
    }
   ],
   "source": [
    "len(company_name)"
   ]
  },
  {
   "cell_type": "code",
   "execution_count": 93,
   "id": "8cecf838",
   "metadata": {},
   "outputs": [],
   "source": [
    "experience_required=driver.find_elements(By.XPATH,'//span[@class=\"ellipsis fleft expwdth\"]')\n",
    "for i in experience_required[0:10]:\n",
    "    exp=i.text\n",
    "    experience_required.append(exp)"
   ]
  },
  {
   "cell_type": "code",
   "execution_count": 95,
   "id": "e0ffa27b",
   "metadata": {},
   "outputs": [
    {
     "data": {
      "text/plain": [
       "30"
      ]
     },
     "execution_count": 95,
     "metadata": {},
     "output_type": "execute_result"
    }
   ],
   "source": [
    "len(experience_required)"
   ]
  },
  {
   "cell_type": "code",
   "execution_count": 99,
   "id": "57cb6b63",
   "metadata": {},
   "outputs": [],
   "source": [
    "df = pd.DataFrame(list(zip(job_title[:10], job_location[:10], company_name[:10], experience_required[:10])),\n",
    "                  columns=['TITLE', 'LOCATION', 'COMPANY NAME', 'EXPERIENCE REQ'])"
   ]
  },
  {
   "cell_type": "code",
   "execution_count": 100,
   "id": "b4118334",
   "metadata": {},
   "outputs": [
    {
     "name": "stdout",
     "output_type": "stream",
     "text": [
      "*********ANSWER FOR QUESTION 2***********\n"
     ]
    },
    {
     "data": {
      "text/html": [
       "<div>\n",
       "<style scoped>\n",
       "    .dataframe tbody tr th:only-of-type {\n",
       "        vertical-align: middle;\n",
       "    }\n",
       "\n",
       "    .dataframe tbody tr th {\n",
       "        vertical-align: top;\n",
       "    }\n",
       "\n",
       "    .dataframe thead th {\n",
       "        text-align: right;\n",
       "    }\n",
       "</style>\n",
       "<table border=\"1\" class=\"dataframe\">\n",
       "  <thead>\n",
       "    <tr style=\"text-align: right;\">\n",
       "      <th></th>\n",
       "      <th>TITLE</th>\n",
       "      <th>LOCATION</th>\n",
       "      <th>COMPANY NAME</th>\n",
       "      <th>EXPERIENCE REQ</th>\n",
       "    </tr>\n",
       "  </thead>\n",
       "  <tbody>\n",
       "    <tr>\n",
       "      <th>0</th>\n",
       "      <td>Data Science Specialist</td>\n",
       "      <td>Bangalore/Bengaluru, Kolkata, Mumbai, Hyderaba...</td>\n",
       "      <td>&lt;selenium.webdriver.remote.webelement.WebEleme...</td>\n",
       "      <td>&lt;selenium.webdriver.remote.webelement.WebEleme...</td>\n",
       "    </tr>\n",
       "    <tr>\n",
       "      <th>1</th>\n",
       "      <td>Data Scientist_NLP</td>\n",
       "      <td>Bangalore/Bengaluru, Mumbai, Pune, Chennai, Gu...</td>\n",
       "      <td>&lt;selenium.webdriver.remote.webelement.WebEleme...</td>\n",
       "      <td>&lt;selenium.webdriver.remote.webelement.WebEleme...</td>\n",
       "    </tr>\n",
       "    <tr>\n",
       "      <th>2</th>\n",
       "      <td>Machine Learning (AI) Architect</td>\n",
       "      <td>Bangalore/Bengaluru, Kolkata, Mumbai, New Delh...</td>\n",
       "      <td>&lt;selenium.webdriver.remote.webelement.WebEleme...</td>\n",
       "      <td>&lt;selenium.webdriver.remote.webelement.WebEleme...</td>\n",
       "    </tr>\n",
       "    <tr>\n",
       "      <th>3</th>\n",
       "      <td>Data Scientist</td>\n",
       "      <td>Bangalore/Bengaluru</td>\n",
       "      <td>&lt;selenium.webdriver.remote.webelement.WebEleme...</td>\n",
       "      <td>&lt;selenium.webdriver.remote.webelement.WebEleme...</td>\n",
       "    </tr>\n",
       "    <tr>\n",
       "      <th>4</th>\n",
       "      <td>Sr. Data Scientist - Python / ML / DL</td>\n",
       "      <td>Bangalore/Bengaluru, Noida, Mumbai, Chandigarh...</td>\n",
       "      <td>&lt;selenium.webdriver.remote.webelement.WebEleme...</td>\n",
       "      <td>&lt;selenium.webdriver.remote.webelement.WebEleme...</td>\n",
       "    </tr>\n",
       "    <tr>\n",
       "      <th>5</th>\n",
       "      <td>Data Scientist - Engine Algorithm</td>\n",
       "      <td>Bangalore/Bengaluru, Kolkata, Mumbai, Hyderaba...</td>\n",
       "      <td>&lt;selenium.webdriver.remote.webelement.WebEleme...</td>\n",
       "      <td>&lt;selenium.webdriver.remote.webelement.WebEleme...</td>\n",
       "    </tr>\n",
       "    <tr>\n",
       "      <th>6</th>\n",
       "      <td>Data Scientist - Engine Algorithm</td>\n",
       "      <td>Bangalore/Bengaluru, Mumbai, Hyderabad/Secunde...</td>\n",
       "      <td>&lt;selenium.webdriver.remote.webelement.WebEleme...</td>\n",
       "      <td>&lt;selenium.webdriver.remote.webelement.WebEleme...</td>\n",
       "    </tr>\n",
       "    <tr>\n",
       "      <th>7</th>\n",
       "      <td>Data Scientist - Engine Algorithm</td>\n",
       "      <td>Bangalore/Bengaluru, Kolkata, Mumbai, Visakhap...</td>\n",
       "      <td>&lt;selenium.webdriver.remote.webelement.WebEleme...</td>\n",
       "      <td>&lt;selenium.webdriver.remote.webelement.WebEleme...</td>\n",
       "    </tr>\n",
       "    <tr>\n",
       "      <th>8</th>\n",
       "      <td>Data Scientist- Bangalore</td>\n",
       "      <td>Bangalore/Bengaluru</td>\n",
       "      <td>&lt;selenium.webdriver.remote.webelement.WebEleme...</td>\n",
       "      <td>&lt;selenium.webdriver.remote.webelement.WebEleme...</td>\n",
       "    </tr>\n",
       "    <tr>\n",
       "      <th>9</th>\n",
       "      <td>Data Science Analyst - Data Science</td>\n",
       "      <td>Bangalore/Bengaluru</td>\n",
       "      <td>&lt;selenium.webdriver.remote.webelement.WebEleme...</td>\n",
       "      <td>&lt;selenium.webdriver.remote.webelement.WebEleme...</td>\n",
       "    </tr>\n",
       "  </tbody>\n",
       "</table>\n",
       "</div>"
      ],
      "text/plain": [
       "                                   TITLE  \\\n",
       "0                Data Science Specialist   \n",
       "1                     Data Scientist_NLP   \n",
       "2        Machine Learning (AI) Architect   \n",
       "3                         Data Scientist   \n",
       "4  Sr. Data Scientist - Python / ML / DL   \n",
       "5      Data Scientist - Engine Algorithm   \n",
       "6      Data Scientist - Engine Algorithm   \n",
       "7      Data Scientist - Engine Algorithm   \n",
       "8              Data Scientist- Bangalore   \n",
       "9    Data Science Analyst - Data Science   \n",
       "\n",
       "                                            LOCATION  \\\n",
       "0  Bangalore/Bengaluru, Kolkata, Mumbai, Hyderaba...   \n",
       "1  Bangalore/Bengaluru, Mumbai, Pune, Chennai, Gu...   \n",
       "2  Bangalore/Bengaluru, Kolkata, Mumbai, New Delh...   \n",
       "3                                Bangalore/Bengaluru   \n",
       "4  Bangalore/Bengaluru, Noida, Mumbai, Chandigarh...   \n",
       "5  Bangalore/Bengaluru, Kolkata, Mumbai, Hyderaba...   \n",
       "6  Bangalore/Bengaluru, Mumbai, Hyderabad/Secunde...   \n",
       "7  Bangalore/Bengaluru, Kolkata, Mumbai, Visakhap...   \n",
       "8                                Bangalore/Bengaluru   \n",
       "9                                Bangalore/Bengaluru   \n",
       "\n",
       "                                        COMPANY NAME  \\\n",
       "0  <selenium.webdriver.remote.webelement.WebEleme...   \n",
       "1  <selenium.webdriver.remote.webelement.WebEleme...   \n",
       "2  <selenium.webdriver.remote.webelement.WebEleme...   \n",
       "3  <selenium.webdriver.remote.webelement.WebEleme...   \n",
       "4  <selenium.webdriver.remote.webelement.WebEleme...   \n",
       "5  <selenium.webdriver.remote.webelement.WebEleme...   \n",
       "6  <selenium.webdriver.remote.webelement.WebEleme...   \n",
       "7  <selenium.webdriver.remote.webelement.WebEleme...   \n",
       "8  <selenium.webdriver.remote.webelement.WebEleme...   \n",
       "9  <selenium.webdriver.remote.webelement.WebEleme...   \n",
       "\n",
       "                                      EXPERIENCE REQ  \n",
       "0  <selenium.webdriver.remote.webelement.WebEleme...  \n",
       "1  <selenium.webdriver.remote.webelement.WebEleme...  \n",
       "2  <selenium.webdriver.remote.webelement.WebEleme...  \n",
       "3  <selenium.webdriver.remote.webelement.WebEleme...  \n",
       "4  <selenium.webdriver.remote.webelement.WebEleme...  \n",
       "5  <selenium.webdriver.remote.webelement.WebEleme...  \n",
       "6  <selenium.webdriver.remote.webelement.WebEleme...  \n",
       "7  <selenium.webdriver.remote.webelement.WebEleme...  \n",
       "8  <selenium.webdriver.remote.webelement.WebEleme...  \n",
       "9  <selenium.webdriver.remote.webelement.WebEleme...  "
      ]
     },
     "execution_count": 100,
     "metadata": {},
     "output_type": "execute_result"
    }
   ],
   "source": [
    "print(\"*********ANSWER FOR QUESTION 2***********\")\n",
    "df"
   ]
  },
  {
   "cell_type": "code",
   "execution_count": 9,
   "id": "a85fb2a0",
   "metadata": {},
   "outputs": [
    {
     "name": "stdout",
     "output_type": "stream",
     "text": [
      "****Question 3*****\n"
     ]
    }
   ],
   "source": [
    "print('****Question 3*****')"
   ]
  },
  {
   "cell_type": "code",
   "execution_count": 6,
   "id": "dd4bdb88",
   "metadata": {},
   "outputs": [],
   "source": [
    "driver.get(\"https://www.naukri.com/\")"
   ]
  },
  {
   "cell_type": "code",
   "execution_count": 7,
   "id": "cec34508",
   "metadata": {},
   "outputs": [],
   "source": [
    "designation=driver.find_element(By.CLASS_NAME,\"suggestor-input\")\n",
    "designation.send_keys('Data Scientist')"
   ]
  },
  {
   "cell_type": "code",
   "execution_count": 8,
   "id": "387c7abe",
   "metadata": {},
   "outputs": [],
   "source": [
    "search=driver.find_element(By.CLASS_NAME,\"qsbSubmit\")\n",
    "search.click()"
   ]
  },
  {
   "cell_type": "code",
   "execution_count": 10,
   "id": "2dbb2869",
   "metadata": {},
   "outputs": [],
   "source": [
    "location = driver.find_element(By.XPATH,'//i[@class=\"fleft naukicon naukicon-checked\"]')\n",
    "location.click()"
   ]
  },
  {
   "cell_type": "code",
   "execution_count": 11,
   "id": "f936f1d2",
   "metadata": {},
   "outputs": [],
   "source": [
    "salary=driver.find_element(By.XPATH,'//p[@class=\"ellipsis count-text\"]')\n",
    "salary.click()"
   ]
  },
  {
   "cell_type": "code",
   "execution_count": 12,
   "id": "d008d296",
   "metadata": {},
   "outputs": [],
   "source": [
    "job_title=[]\n",
    "company_name=[]\n",
    "experience_required=[]"
   ]
  },
  {
   "cell_type": "code",
   "execution_count": 13,
   "id": "200e9852",
   "metadata": {},
   "outputs": [],
   "source": [
    "title_tags=driver.find_elements(By.XPATH,'//a[@class=\"title ellipsis\"]')\n",
    "for i in title_tags[0:10]:\n",
    "    title=i.text\n",
    "    job_title.append(title)"
   ]
  },
  {
   "cell_type": "code",
   "execution_count": 14,
   "id": "18d04659",
   "metadata": {},
   "outputs": [],
   "source": [
    "company_name=driver.find_elements(By.XPATH,'//div[@class=\"companyInfo subheading\"]')\n",
    "for i in company_name[0:10]:\n",
    "    company=i.text\n",
    "    company_name.append(company)"
   ]
  },
  {
   "cell_type": "code",
   "execution_count": 15,
   "id": "aa3ca07a",
   "metadata": {},
   "outputs": [],
   "source": [
    "df = pd.DataFrame(list(zip(job_title[:10], company_name[:10])),\n",
    "                  columns=['TITLE', 'COMPANY NAME'])"
   ]
  },
  {
   "cell_type": "code",
   "execution_count": 17,
   "id": "22e21a89",
   "metadata": {},
   "outputs": [
    {
     "name": "stdout",
     "output_type": "stream",
     "text": [
      "****Question 4*****\n"
     ]
    }
   ],
   "source": [
    "print('****Question 4*****')"
   ]
  },
  {
   "cell_type": "code",
   "execution_count": 53,
   "id": "d0eb597a",
   "metadata": {},
   "outputs": [],
   "source": [
    "driver=webdriver.Chrome(r\"C:\\Users\\cws\\Desktop\\chromedriver_win32\\chromedriver.exe\")"
   ]
  },
  {
   "cell_type": "code",
   "execution_count": 54,
   "id": "0d49274f",
   "metadata": {},
   "outputs": [],
   "source": [
    "driver.get(\"https://www.flipkart.com/\")"
   ]
  },
  {
   "cell_type": "code",
   "execution_count": 55,
   "id": "43310d86",
   "metadata": {},
   "outputs": [],
   "source": [
    "product_class=driver.find_element(By.CLASS_NAME,\"_3704LK\")\n",
    "product_class.send_keys('sunglasses')"
   ]
  },
  {
   "cell_type": "code",
   "execution_count": 56,
   "id": "0160eaa4",
   "metadata": {},
   "outputs": [],
   "source": [
    "search=driver.find_element(By.CLASS_NAME,\"L0Z3Pu\")\n",
    "search.click()"
   ]
  },
  {
   "cell_type": "code",
   "execution_count": 57,
   "id": "887dd1e1",
   "metadata": {},
   "outputs": [],
   "source": [
    "product_name=[]\n",
    "product_price=[]\n",
    "product_desc=[]"
   ]
  },
  {
   "cell_type": "code",
   "execution_count": 2,
   "id": "b55e1643",
   "metadata": {},
   "outputs": [],
   "source": [
    "from selenium.webdriver.support import expected_conditions as EC"
   ]
  },
  {
   "cell_type": "code",
   "execution_count": 3,
   "id": "ceea2bd7",
   "metadata": {},
   "outputs": [],
   "source": [
    "from selenium.webdriver.support.ui import WebDriverWait"
   ]
  },
  {
   "cell_type": "code",
   "execution_count": 60,
   "id": "500ea2d8",
   "metadata": {},
   "outputs": [],
   "source": [
    "start = 0\n",
    "end = 2\n",
    "\n",
    "for page in range(start, end):\n",
    "    p_n = driver.find_elements(By.XPATH, '//div[@class=\"_2WkVRV\"]')\n",
    "    for i in p_n:\n",
    "        name = i.text\n",
    "        product_name.append(name)\n",
    "        \n",
    "    p_p = driver.find_elements(By.XPATH, '//div[@class=\"_30jeq3\"]')\n",
    "    for i in p_p:\n",
    "        price = i.text\n",
    "        product_price.append(price)\n",
    "        \n",
    "    p_d = driver.find_elements(By.XPATH, '//a[@class=\"IRpwTa\"]')\n",
    "    for i in p_d:\n",
    "        description = i.text\n",
    "        product_desc.append(description)\n",
    "        \n",
    "    if len(product_name) >= 100:\n",
    "        break\n",
    " \n",
    "    df4 = pd.DataFrame(list(zip(product_name, product_price, product_desc)),\n",
    "                  columns=['NAME', 'PRICE', 'Description'])\n",
    "\n",
    "    \n",
    "\n",
    "    "
   ]
  },
  {
   "cell_type": "code",
   "execution_count": 61,
   "id": "6a67788c",
   "metadata": {},
   "outputs": [
    {
     "name": "stdout",
     "output_type": "stream",
     "text": [
      "************Answer for Question 4*************\n"
     ]
    },
    {
     "data": {
      "text/html": [
       "<div>\n",
       "<style scoped>\n",
       "    .dataframe tbody tr th:only-of-type {\n",
       "        vertical-align: middle;\n",
       "    }\n",
       "\n",
       "    .dataframe tbody tr th {\n",
       "        vertical-align: top;\n",
       "    }\n",
       "\n",
       "    .dataframe thead th {\n",
       "        text-align: right;\n",
       "    }\n",
       "</style>\n",
       "<table border=\"1\" class=\"dataframe\">\n",
       "  <thead>\n",
       "    <tr style=\"text-align: right;\">\n",
       "      <th></th>\n",
       "      <th>NAME</th>\n",
       "      <th>PRICE</th>\n",
       "      <th>Description</th>\n",
       "    </tr>\n",
       "  </thead>\n",
       "  <tbody>\n",
       "    <tr>\n",
       "      <th>0</th>\n",
       "      <td>VINCENT CHASE</td>\n",
       "      <td>₹849</td>\n",
       "      <td>by Lenskart Polarized, UV Protection Retro Squ...</td>\n",
       "    </tr>\n",
       "    <tr>\n",
       "      <th>1</th>\n",
       "      <td>VINCENT CHASE</td>\n",
       "      <td>₹789</td>\n",
       "      <td>by Lenskart Polarized, UV Protection Cat-eye S...</td>\n",
       "    </tr>\n",
       "    <tr>\n",
       "      <th>2</th>\n",
       "      <td>Elligator</td>\n",
       "      <td>₹149</td>\n",
       "      <td>UV Protection Wayfarer Sunglasses (53)</td>\n",
       "    </tr>\n",
       "    <tr>\n",
       "      <th>3</th>\n",
       "      <td>Elligator</td>\n",
       "      <td>₹149</td>\n",
       "      <td>UV Protection Cat-eye, Retro Square, Oval, Rou...</td>\n",
       "    </tr>\n",
       "    <tr>\n",
       "      <th>4</th>\n",
       "      <td>SRPM</td>\n",
       "      <td>₹109</td>\n",
       "      <td>UV Protection Round Sunglasses (53)</td>\n",
       "    </tr>\n",
       "    <tr>\n",
       "      <th>...</th>\n",
       "      <td>...</td>\n",
       "      <td>...</td>\n",
       "      <td>...</td>\n",
       "    </tr>\n",
       "    <tr>\n",
       "      <th>73</th>\n",
       "      <td>PIRASO</td>\n",
       "      <td>₹274</td>\n",
       "      <td>by Lenskart Polarized, UV Protection Retro Squ...</td>\n",
       "    </tr>\n",
       "    <tr>\n",
       "      <th>74</th>\n",
       "      <td>Fastrack</td>\n",
       "      <td>₹579</td>\n",
       "      <td>UV Protection Wayfarer Sunglasses (58)</td>\n",
       "    </tr>\n",
       "    <tr>\n",
       "      <th>75</th>\n",
       "      <td>VINCENT CHASE</td>\n",
       "      <td>₹849</td>\n",
       "      <td>Gradient, UV Protection Wayfarer Sunglasses (F...</td>\n",
       "    </tr>\n",
       "    <tr>\n",
       "      <th>76</th>\n",
       "      <td>Fastrack</td>\n",
       "      <td>₹689</td>\n",
       "      <td>UV Protection Sports Sunglasses (65)</td>\n",
       "    </tr>\n",
       "    <tr>\n",
       "      <th>77</th>\n",
       "      <td>Fastrack</td>\n",
       "      <td>₹539</td>\n",
       "      <td>Polarized, UV Protection Rectangular Sunglasse...</td>\n",
       "    </tr>\n",
       "  </tbody>\n",
       "</table>\n",
       "<p>78 rows × 3 columns</p>\n",
       "</div>"
      ],
      "text/plain": [
       "             NAME PRICE                                        Description\n",
       "0   VINCENT CHASE  ₹849  by Lenskart Polarized, UV Protection Retro Squ...\n",
       "1   VINCENT CHASE  ₹789  by Lenskart Polarized, UV Protection Cat-eye S...\n",
       "2       Elligator  ₹149             UV Protection Wayfarer Sunglasses (53)\n",
       "3       Elligator  ₹149  UV Protection Cat-eye, Retro Square, Oval, Rou...\n",
       "4            SRPM  ₹109                UV Protection Round Sunglasses (53)\n",
       "..            ...   ...                                                ...\n",
       "73         PIRASO  ₹274  by Lenskart Polarized, UV Protection Retro Squ...\n",
       "74       Fastrack  ₹579             UV Protection Wayfarer Sunglasses (58)\n",
       "75  VINCENT CHASE  ₹849  Gradient, UV Protection Wayfarer Sunglasses (F...\n",
       "76       Fastrack  ₹689               UV Protection Sports Sunglasses (65)\n",
       "77       Fastrack  ₹539  Polarized, UV Protection Rectangular Sunglasse...\n",
       "\n",
       "[78 rows x 3 columns]"
      ]
     },
     "execution_count": 61,
     "metadata": {},
     "output_type": "execute_result"
    }
   ],
   "source": [
    "print(\"************Answer for Question 4*************\")\n",
    "df4"
   ]
  },
  {
   "cell_type": "code",
   "execution_count": 62,
   "id": "39333b78",
   "metadata": {},
   "outputs": [
    {
     "name": "stdout",
     "output_type": "stream",
     "text": [
      "*******QUESTION NO 5*********\n"
     ]
    }
   ],
   "source": [
    "print(\"*******QUESTION NO 5*********\")"
   ]
  },
  {
   "cell_type": "code",
   "execution_count": 3,
   "id": "3001d807",
   "metadata": {},
   "outputs": [],
   "source": [
    "driver=webdriver.Chrome(r\"C:\\Users\\cws\\Desktop\\chromedriver_win32\\chromedriver.exe\")"
   ]
  },
  {
   "cell_type": "code",
   "execution_count": 4,
   "id": "921987f7",
   "metadata": {},
   "outputs": [],
   "source": [
    "driver.get(\"https://www.flipkart.com/apple-iphone-11-black-64-gb/product-reviews/itm4e5041ba101fd?pid=MOBFWQ6BXGJCEYNY&lid=LSTMOBFWQ6BXGJCEYNYZXSHRJ&market\")"
   ]
  },
  {
   "cell_type": "code",
   "execution_count": 5,
   "id": "2fb2c9e5",
   "metadata": {},
   "outputs": [],
   "source": [
    "Rating=[]\n",
    "review_summary=[]\n",
    "full_review=[]"
   ]
  },
  {
   "cell_type": "code",
   "execution_count": 6,
   "id": "d800ff5a",
   "metadata": {},
   "outputs": [],
   "source": [
    "start = 0\n",
    "end = 9\n",
    "\n",
    "for page in range(start, end):\n",
    "    I_R = driver.find_elements(By.XPATH, '//div[@class=\"_3LWZlK _1BLPMq\"]')\n",
    "    for i in I_R:\n",
    "        Iphnrate = i.text\n",
    "        Rating.append(Iphnrate)\n",
    "        \n",
    "    r_s = driver.find_elements(By.XPATH, '//p[@class=\"_2-N8zT\"]')\n",
    "    for i in r_s:\n",
    "        RSIphn = i.text\n",
    "        review_summary.append(RSIphn)\n",
    "        \n",
    "    f_r = driver.find_elements(By.XPATH, '//div[@class=\"t-ZTKy\"]')\n",
    "    for i in f_r:\n",
    "        FRIphn = i.text\n",
    "        full_review.append(FRIphn)\n",
    "        \n",
    "    if len(Rating) >= 100:\n",
    "        break\n",
    " \n",
    "    df5 = pd.DataFrame(list(zip(Rating, review_summary, full_review)),\n",
    "                  columns=['RATING', 'REVIEW SUMMARY', 'FULL REVIEW'])"
   ]
  },
  {
   "cell_type": "code",
   "execution_count": 72,
   "id": "48daf3f7",
   "metadata": {
    "scrolled": true
   },
   "outputs": [
    {
     "name": "stdout",
     "output_type": "stream",
     "text": [
      "*****ANSWER OF QUESTION 5*******\n",
      "******REVIEW FOR IPHONE 11*******\n"
     ]
    },
    {
     "data": {
      "text/html": [
       "<div>\n",
       "<style scoped>\n",
       "    .dataframe tbody tr th:only-of-type {\n",
       "        vertical-align: middle;\n",
       "    }\n",
       "\n",
       "    .dataframe tbody tr th {\n",
       "        vertical-align: top;\n",
       "    }\n",
       "\n",
       "    .dataframe thead th {\n",
       "        text-align: right;\n",
       "    }\n",
       "</style>\n",
       "<table border=\"1\" class=\"dataframe\">\n",
       "  <thead>\n",
       "    <tr style=\"text-align: right;\">\n",
       "      <th></th>\n",
       "      <th>RATING</th>\n",
       "      <th>REVIEW SUMMARY</th>\n",
       "      <th>FULL REVIEW</th>\n",
       "    </tr>\n",
       "  </thead>\n",
       "  <tbody>\n",
       "    <tr>\n",
       "      <th>0</th>\n",
       "      <td>5</td>\n",
       "      <td>Simply awesome</td>\n",
       "      <td>Really satisfied with the Product I received.....</td>\n",
       "    </tr>\n",
       "    <tr>\n",
       "      <th>1</th>\n",
       "      <td>5</td>\n",
       "      <td>Perfect product!</td>\n",
       "      <td>Amazing phone with great cameras and better ba...</td>\n",
       "    </tr>\n",
       "    <tr>\n",
       "      <th>2</th>\n",
       "      <td>5</td>\n",
       "      <td>Best in the market!</td>\n",
       "      <td>Great iPhone very snappy experience as apple k...</td>\n",
       "    </tr>\n",
       "    <tr>\n",
       "      <th>3</th>\n",
       "      <td>4</td>\n",
       "      <td>Value-for-money</td>\n",
       "      <td>I'm Really happy with the product\\nDelivery wa...</td>\n",
       "    </tr>\n",
       "    <tr>\n",
       "      <th>4</th>\n",
       "      <td>5</td>\n",
       "      <td>Highly recommended</td>\n",
       "      <td>It's my first time to use iOS phone and I am l...</td>\n",
       "    </tr>\n",
       "    <tr>\n",
       "      <th>...</th>\n",
       "      <td>...</td>\n",
       "      <td>...</td>\n",
       "      <td>...</td>\n",
       "    </tr>\n",
       "    <tr>\n",
       "      <th>85</th>\n",
       "      <td>5</td>\n",
       "      <td>Worth every penny</td>\n",
       "      <td>Previously I was using one plus 3t it was a gr...</td>\n",
       "    </tr>\n",
       "    <tr>\n",
       "      <th>86</th>\n",
       "      <td>5</td>\n",
       "      <td>Perfect product!</td>\n",
       "      <td>Value for money\\n5 star rating\\nExcellent came...</td>\n",
       "    </tr>\n",
       "    <tr>\n",
       "      <th>87</th>\n",
       "      <td>4</td>\n",
       "      <td>Pretty good</td>\n",
       "      <td>I was using Iphone 6s and also Oneplus 6t. Bot...</td>\n",
       "    </tr>\n",
       "    <tr>\n",
       "      <th>88</th>\n",
       "      <td>5</td>\n",
       "      <td>Highly recommended</td>\n",
       "      <td>What a camera .....just awesome ..you can feel...</td>\n",
       "    </tr>\n",
       "    <tr>\n",
       "      <th>89</th>\n",
       "      <td>5</td>\n",
       "      <td>Great product</td>\n",
       "      <td>Amazing Powerful and Durable Gadget.\\n\\nI’m am...</td>\n",
       "    </tr>\n",
       "  </tbody>\n",
       "</table>\n",
       "<p>90 rows × 3 columns</p>\n",
       "</div>"
      ],
      "text/plain": [
       "   RATING       REVIEW SUMMARY  \\\n",
       "0       5       Simply awesome   \n",
       "1       5     Perfect product!   \n",
       "2       5  Best in the market!   \n",
       "3       4      Value-for-money   \n",
       "4       5   Highly recommended   \n",
       "..    ...                  ...   \n",
       "85      5    Worth every penny   \n",
       "86      5     Perfect product!   \n",
       "87      4          Pretty good   \n",
       "88      5   Highly recommended   \n",
       "89      5        Great product   \n",
       "\n",
       "                                          FULL REVIEW  \n",
       "0   Really satisfied with the Product I received.....  \n",
       "1   Amazing phone with great cameras and better ba...  \n",
       "2   Great iPhone very snappy experience as apple k...  \n",
       "3   I'm Really happy with the product\\nDelivery wa...  \n",
       "4   It's my first time to use iOS phone and I am l...  \n",
       "..                                                ...  \n",
       "85  Previously I was using one plus 3t it was a gr...  \n",
       "86  Value for money\\n5 star rating\\nExcellent came...  \n",
       "87  I was using Iphone 6s and also Oneplus 6t. Bot...  \n",
       "88  What a camera .....just awesome ..you can feel...  \n",
       "89  Amazing Powerful and Durable Gadget.\\n\\nI’m am...  \n",
       "\n",
       "[90 rows x 3 columns]"
      ]
     },
     "execution_count": 72,
     "metadata": {},
     "output_type": "execute_result"
    }
   ],
   "source": [
    "print(\"*****ANSWER OF QUESTION 5*******\")\n",
    "print(\"******REVIEW FOR IPHONE 11*******\")\n",
    "df5\n"
   ]
  },
  {
   "cell_type": "code",
   "execution_count": 7,
   "id": "91dc103b",
   "metadata": {},
   "outputs": [],
   "source": [
    "df5.to_excel('output.xlsx', index=False)"
   ]
  },
  {
   "cell_type": "code",
   "execution_count": 73,
   "id": "daa10b5d",
   "metadata": {},
   "outputs": [
    {
     "name": "stdout",
     "output_type": "stream",
     "text": [
      "**************QUESTION 6**********\n"
     ]
    }
   ],
   "source": [
    "print(\"**************QUESTION 6**********\")"
   ]
  },
  {
   "cell_type": "code",
   "execution_count": 22,
   "id": "f9dd3579",
   "metadata": {},
   "outputs": [],
   "source": [
    "driver=webdriver.Chrome(r\"C:\\Users\\cws\\Desktop\\chromedriver_win32\\chromedriver.exe\")"
   ]
  },
  {
   "cell_type": "code",
   "execution_count": 23,
   "id": "8a0579b6",
   "metadata": {},
   "outputs": [],
   "source": [
    "driver.get(\"https://www.flipkart.com/\")"
   ]
  },
  {
   "cell_type": "code",
   "execution_count": 24,
   "id": "9c715d9c",
   "metadata": {},
   "outputs": [],
   "source": [
    "product_class=driver.find_element(By.CLASS_NAME,\"_3704LK\")\n",
    "product_class.send_keys('sneakers')"
   ]
  },
  {
   "cell_type": "code",
   "execution_count": 25,
   "id": "ba0eced5",
   "metadata": {},
   "outputs": [],
   "source": [
    "search=driver.find_element(By.CLASS_NAME,\"L0Z3Pu\")\n",
    "search.click()"
   ]
  },
  {
   "cell_type": "code",
   "execution_count": 26,
   "id": "10dd2489",
   "metadata": {},
   "outputs": [
    {
     "name": "stdout",
     "output_type": "stream",
     "text": [
      "searched sneakers as required\n"
     ]
    }
   ],
   "source": [
    "print(\"searched sneakers as required\")"
   ]
  },
  {
   "cell_type": "code",
   "execution_count": 27,
   "id": "64fb22de",
   "metadata": {},
   "outputs": [],
   "source": [
    "brand=[]\n",
    "price=[]\n",
    "product_description=[]"
   ]
  },
  {
   "cell_type": "code",
   "execution_count": 28,
   "id": "c6f23183",
   "metadata": {},
   "outputs": [],
   "source": [
    "start = 0\n",
    "end = 4\n",
    "\n",
    "for page in range(start, end):\n",
    "    br = driver.find_elements(By.XPATH, '//div[@class=\"_2WkVRV\"]')\n",
    "    for i in br:\n",
    "        f_name = i.text\n",
    "        brand.append(f_name)\n",
    "        \n",
    "    fp_p = driver.find_elements(By.XPATH, '//div[@class=\"_30jeq3\"]')\n",
    "    for i in fp_p:\n",
    "        f_price = i.text\n",
    "        price.append(f_price)\n",
    "        \n",
    "    fp_d = driver.find_elements(By.XPATH, '//a[@class=\"IRpwTa\"]')\n",
    "    for i in fp_d:\n",
    "        f_description = i.text\n",
    "        product_description.append(f_description)\n",
    "        \n",
    "    if len(brand) >= 100:\n",
    "        break\n",
    " \n",
    "    df6 = pd.DataFrame(list(zip(brand, price, product_description)),\n",
    "                  columns=['BRAND', 'PRICE', 'Description'])"
   ]
  },
  {
   "cell_type": "code",
   "execution_count": 29,
   "id": "edbf61b1",
   "metadata": {},
   "outputs": [
    {
     "name": "stdout",
     "output_type": "stream",
     "text": [
      "formed lists and now appending the required data into them\n"
     ]
    }
   ],
   "source": [
    "print(\"formed lists and now appending the required data into them\")"
   ]
  },
  {
   "cell_type": "code",
   "execution_count": 13,
   "id": "d3d7222c",
   "metadata": {},
   "outputs": [
    {
     "name": "stdout",
     "output_type": "stream",
     "text": [
      "*****ANSWER OF QUESTION 6******\n",
      "****LIST OF TOP 100 SNEAKERS************\n"
     ]
    },
    {
     "data": {
      "text/html": [
       "<div>\n",
       "<style scoped>\n",
       "    .dataframe tbody tr th:only-of-type {\n",
       "        vertical-align: middle;\n",
       "    }\n",
       "\n",
       "    .dataframe tbody tr th {\n",
       "        vertical-align: top;\n",
       "    }\n",
       "\n",
       "    .dataframe thead th {\n",
       "        text-align: right;\n",
       "    }\n",
       "</style>\n",
       "<table border=\"1\" class=\"dataframe\">\n",
       "  <thead>\n",
       "    <tr style=\"text-align: right;\">\n",
       "      <th></th>\n",
       "      <th>BRAND</th>\n",
       "      <th>PRICE</th>\n",
       "      <th>Description</th>\n",
       "    </tr>\n",
       "  </thead>\n",
       "  <tbody>\n",
       "    <tr>\n",
       "      <th>0</th>\n",
       "      <td>RapidBox</td>\n",
       "      <td>₹579</td>\n",
       "      <td>Sneakers For Men</td>\n",
       "    </tr>\n",
       "    <tr>\n",
       "      <th>1</th>\n",
       "      <td>K- FOOTLANCE</td>\n",
       "      <td>₹399</td>\n",
       "      <td>Sneakers For Men</td>\n",
       "    </tr>\n",
       "    <tr>\n",
       "      <th>2</th>\n",
       "      <td>Layasa</td>\n",
       "      <td>₹449</td>\n",
       "      <td>Casual Sneakers White Shoes For Girls And Snea...</td>\n",
       "    </tr>\n",
       "    <tr>\n",
       "      <th>3</th>\n",
       "      <td>aadi</td>\n",
       "      <td>₹299</td>\n",
       "      <td>Synthetic| Lightweight| Premiun| Comfort| Summ...</td>\n",
       "    </tr>\n",
       "    <tr>\n",
       "      <th>4</th>\n",
       "      <td>BIRDE</td>\n",
       "      <td>₹499</td>\n",
       "      <td>Combo Pack Of 2 Casual Shoes Sneakers For Men</td>\n",
       "    </tr>\n",
       "    <tr>\n",
       "      <th>...</th>\n",
       "      <td>...</td>\n",
       "      <td>...</td>\n",
       "      <td>...</td>\n",
       "    </tr>\n",
       "    <tr>\n",
       "      <th>75</th>\n",
       "      <td>Layasa</td>\n",
       "      <td>₹399</td>\n",
       "      <td>Stylish Casual Sports Shoe Sneakers For Women</td>\n",
       "    </tr>\n",
       "    <tr>\n",
       "      <th>76</th>\n",
       "      <td>Furo</td>\n",
       "      <td>₹1,550</td>\n",
       "      <td>Sneakers For Men</td>\n",
       "    </tr>\n",
       "    <tr>\n",
       "      <th>77</th>\n",
       "      <td>PUMA</td>\n",
       "      <td>₹4,999</td>\n",
       "      <td>RS-Z Reinvention Sneakers For Men</td>\n",
       "    </tr>\n",
       "    <tr>\n",
       "      <th>78</th>\n",
       "      <td>asian</td>\n",
       "      <td>₹774</td>\n",
       "      <td>Thunder-01 White Canvas, Sneakers For Men</td>\n",
       "    </tr>\n",
       "    <tr>\n",
       "      <th>79</th>\n",
       "      <td>Shozie</td>\n",
       "      <td>₹445</td>\n",
       "      <td>Stylish Sneakers Shoes for Women And Girls Sne...</td>\n",
       "    </tr>\n",
       "  </tbody>\n",
       "</table>\n",
       "<p>80 rows × 3 columns</p>\n",
       "</div>"
      ],
      "text/plain": [
       "           BRAND   PRICE                                        Description\n",
       "0       RapidBox    ₹579                                   Sneakers For Men\n",
       "1   K- FOOTLANCE    ₹399                                   Sneakers For Men\n",
       "2         Layasa    ₹449  Casual Sneakers White Shoes For Girls And Snea...\n",
       "3           aadi    ₹299  Synthetic| Lightweight| Premiun| Comfort| Summ...\n",
       "4          BIRDE    ₹499      Combo Pack Of 2 Casual Shoes Sneakers For Men\n",
       "..           ...     ...                                                ...\n",
       "75        Layasa    ₹399      Stylish Casual Sports Shoe Sneakers For Women\n",
       "76          Furo  ₹1,550                                   Sneakers For Men\n",
       "77          PUMA  ₹4,999                  RS-Z Reinvention Sneakers For Men\n",
       "78         asian    ₹774          Thunder-01 White Canvas, Sneakers For Men\n",
       "79        Shozie    ₹445  Stylish Sneakers Shoes for Women And Girls Sne...\n",
       "\n",
       "[80 rows x 3 columns]"
      ]
     },
     "execution_count": 13,
     "metadata": {},
     "output_type": "execute_result"
    }
   ],
   "source": [
    "print(\"*****ANSWER OF QUESTION 6******\")\n",
    "print(\"****LIST OF TOP 100 SNEAKERS************\")\n",
    "df6"
   ]
  },
  {
   "cell_type": "code",
   "execution_count": 31,
   "id": "aa11afc6",
   "metadata": {},
   "outputs": [],
   "source": [
    "df6.to_excel('sneakers1.xlsx', index=False)"
   ]
  },
  {
   "cell_type": "code",
   "execution_count": 32,
   "id": "8b75a424",
   "metadata": {},
   "outputs": [
    {
     "name": "stdout",
     "output_type": "stream",
     "text": [
      "**************QUESTION 07*********\n"
     ]
    }
   ],
   "source": [
    "print(\"**************QUESTION 07*********\")"
   ]
  },
  {
   "cell_type": "code",
   "execution_count": 33,
   "id": "45fc5e13",
   "metadata": {},
   "outputs": [],
   "source": [
    "driver=webdriver.Chrome(r\"C:\\Users\\cws\\Desktop\\chromedriver_win32\\chromedriver.exe\")"
   ]
  },
  {
   "cell_type": "code",
   "execution_count": 34,
   "id": "3a3d6d7b",
   "metadata": {},
   "outputs": [],
   "source": [
    "driver.get(\"https://www.amazon.in/\")"
   ]
  },
  {
   "cell_type": "code",
   "execution_count": 41,
   "id": "fc81f711",
   "metadata": {},
   "outputs": [],
   "source": [
    "product_class = driver.find_element(By.XPATH, '/html/body/div[1]/header/div/div[1]/div[2]')\n",
    "product_class.click()"
   ]
  },
  {
   "cell_type": "code",
   "execution_count": 42,
   "id": "082f702b",
   "metadata": {},
   "outputs": [],
   "source": [
    "product_class1=driver.find_element(By.XPATH, '/html/body/div[1]/header/div/div[1]/div[2]/div/form/div[2]/div[1]/input')\n",
    "product_class1.send_keys('Laptop')"
   ]
  },
  {
   "cell_type": "code",
   "execution_count": 45,
   "id": "481f2383",
   "metadata": {},
   "outputs": [],
   "source": [
    "search=driver.find_element(By.ID, 'nav-search-submit-button')\n",
    "search.click()"
   ]
  },
  {
   "cell_type": "code",
   "execution_count": 47,
   "id": "94c51ab1",
   "metadata": {},
   "outputs": [],
   "source": [
    "selection=driver.find_element(By.XPATH, '/html/body/div[1]/div[2]/div[1]/div[2]/div/div[3]/span/div[1]/div/div/div[6]/ul[7]/span[12]/li/span/a/div')\n",
    "selection.click()"
   ]
  },
  {
   "cell_type": "code",
   "execution_count": 60,
   "id": "25a1622b",
   "metadata": {},
   "outputs": [
    {
     "name": "stdout",
     "output_type": "stream",
     "text": [
      "**********searched all the required parameters\n",
      "now will form lists and append requied data into them\n"
     ]
    }
   ],
   "source": [
    "print(\"**********searched all the required parameters\")\n",
    "print(\"now will form lists and append requied data into them\")"
   ]
  },
  {
   "cell_type": "code",
   "execution_count": 49,
   "id": "c3d61c5b",
   "metadata": {},
   "outputs": [],
   "source": [
    "title=[]\n",
    "ratings=[]\n",
    "price=[]"
   ]
  },
  {
   "cell_type": "code",
   "execution_count": 56,
   "id": "99a329c2",
   "metadata": {},
   "outputs": [],
   "source": [
    "t_l = driver.find_elements(By.XPATH, '//span[@class=\"a-size-medium a-color-base a-text-normal\"]')\n",
    "for i in t_l:\n",
    "    t_name = i.text\n",
    "    title.append(t_name)\n",
    "\n",
    "l_r = driver.find_elements(By.XPATH, '//i[@class=\"a-icon a-icon-star-small a-star-small-4-5 aok-align-bottom\"]')\n",
    "for i in l_r:\n",
    "    l_ratings = i.text\n",
    "    ratings.append(l_ratings)\n",
    "\n",
    "l_p = driver.find_elements(By.XPATH, '//span[@class=\"a-price-whole\"]')\n",
    "for i in l_p:\n",
    "    l_price = i.text\n",
    "    price.append(l_price)\n",
    "\n",
    "\n",
    "df7 = pd.DataFrame(list(zip(title, ratings, price)),\n",
    "          columns=['TITLE', 'RATINGS', 'PRICE'])"
   ]
  },
  {
   "cell_type": "code",
   "execution_count": 58,
   "id": "f74debd5",
   "metadata": {},
   "outputs": [],
   "source": [
    "df7 = df7.head(10)"
   ]
  },
  {
   "cell_type": "code",
   "execution_count": 61,
   "id": "96a97b6b",
   "metadata": {},
   "outputs": [
    {
     "name": "stdout",
     "output_type": "stream",
     "text": [
      "******ANSWER OF QUESTION 7********\n",
      "*****TOP 10 Laptops******\n"
     ]
    },
    {
     "data": {
      "text/html": [
       "<div>\n",
       "<style scoped>\n",
       "    .dataframe tbody tr th:only-of-type {\n",
       "        vertical-align: middle;\n",
       "    }\n",
       "\n",
       "    .dataframe tbody tr th {\n",
       "        vertical-align: top;\n",
       "    }\n",
       "\n",
       "    .dataframe thead th {\n",
       "        text-align: right;\n",
       "    }\n",
       "</style>\n",
       "<table border=\"1\" class=\"dataframe\">\n",
       "  <thead>\n",
       "    <tr style=\"text-align: right;\">\n",
       "      <th></th>\n",
       "      <th>TITLE</th>\n",
       "      <th>RATINGS</th>\n",
       "      <th>PRICE</th>\n",
       "    </tr>\n",
       "  </thead>\n",
       "  <tbody>\n",
       "    <tr>\n",
       "      <th>0</th>\n",
       "      <td>ASUS TUF Gaming F15 (2022), 15.6\"(39.62 cms) F...</td>\n",
       "      <td></td>\n",
       "      <td>94,989</td>\n",
       "    </tr>\n",
       "    <tr>\n",
       "      <th>1</th>\n",
       "      <td>Lenovo Legion 5 Pro Intel Core i7-12700H 16\" (...</td>\n",
       "      <td></td>\n",
       "      <td>2,18,108</td>\n",
       "    </tr>\n",
       "    <tr>\n",
       "      <th>2</th>\n",
       "      <td>Lenovo ThinkPad E14 Intel Core i7 12th Gen 14\"...</td>\n",
       "      <td></td>\n",
       "      <td>98,990</td>\n",
       "    </tr>\n",
       "    <tr>\n",
       "      <th>3</th>\n",
       "      <td>HP Envy x360 12th Gen Intel Core i7-13.3 inch(...</td>\n",
       "      <td></td>\n",
       "      <td>1,02,990</td>\n",
       "    </tr>\n",
       "    <tr>\n",
       "      <th>4</th>\n",
       "      <td>Samsung Galaxy Book2 (NP750) Intel 12th Gen co...</td>\n",
       "      <td></td>\n",
       "      <td>79,990</td>\n",
       "    </tr>\n",
       "    <tr>\n",
       "      <th>5</th>\n",
       "      <td>LG Gram16 Intel EVO-[12th Gen Core i7/Win11/16...</td>\n",
       "      <td></td>\n",
       "      <td>99,990</td>\n",
       "    </tr>\n",
       "    <tr>\n",
       "      <th>6</th>\n",
       "      <td>HP Victus Gaming Latest 12th Gen Intel Core i7...</td>\n",
       "      <td></td>\n",
       "      <td>79,990</td>\n",
       "    </tr>\n",
       "    <tr>\n",
       "      <th>7</th>\n",
       "      <td>Acer Predator Helios Neo 16 Gaming Laptop 13th...</td>\n",
       "      <td></td>\n",
       "      <td>1,29,990</td>\n",
       "    </tr>\n",
       "    <tr>\n",
       "      <th>8</th>\n",
       "      <td>HP Envy x360 for Creators 12th Gen Intel Core ...</td>\n",
       "      <td></td>\n",
       "      <td>97,990</td>\n",
       "    </tr>\n",
       "    <tr>\n",
       "      <th>9</th>\n",
       "      <td>MSI Modern 14, Intel 13th Gen. i7-1355U, 36CM ...</td>\n",
       "      <td></td>\n",
       "      <td>74,990</td>\n",
       "    </tr>\n",
       "  </tbody>\n",
       "</table>\n",
       "</div>"
      ],
      "text/plain": [
       "                                               TITLE RATINGS     PRICE\n",
       "0  ASUS TUF Gaming F15 (2022), 15.6\"(39.62 cms) F...            94,989\n",
       "1  Lenovo Legion 5 Pro Intel Core i7-12700H 16\" (...          2,18,108\n",
       "2  Lenovo ThinkPad E14 Intel Core i7 12th Gen 14\"...            98,990\n",
       "3  HP Envy x360 12th Gen Intel Core i7-13.3 inch(...          1,02,990\n",
       "4  Samsung Galaxy Book2 (NP750) Intel 12th Gen co...            79,990\n",
       "5  LG Gram16 Intel EVO-[12th Gen Core i7/Win11/16...            99,990\n",
       "6  HP Victus Gaming Latest 12th Gen Intel Core i7...            79,990\n",
       "7  Acer Predator Helios Neo 16 Gaming Laptop 13th...          1,29,990\n",
       "8  HP Envy x360 for Creators 12th Gen Intel Core ...            97,990\n",
       "9  MSI Modern 14, Intel 13th Gen. i7-1355U, 36CM ...            74,990"
      ]
     },
     "execution_count": 61,
     "metadata": {},
     "output_type": "execute_result"
    }
   ],
   "source": [
    "print(\"******ANSWER OF QUESTION 7********\")\n",
    "print(\"*****TOP 10 Laptops******\")\n",
    "df7"
   ]
  },
  {
   "cell_type": "code",
   "execution_count": 62,
   "id": "72e4ee2b",
   "metadata": {},
   "outputs": [
    {
     "name": "stdout",
     "output_type": "stream",
     "text": [
      "********QUESTION 08*******\n"
     ]
    }
   ],
   "source": [
    "print('********QUESTION 08*******')"
   ]
  },
  {
   "cell_type": "code",
   "execution_count": 3,
   "id": "2f2e2c24",
   "metadata": {},
   "outputs": [],
   "source": [
    "driver=webdriver.Chrome(r\"C:\\Users\\cws\\Desktop\\chromedriver_win32\\chromedriver.exe\")"
   ]
  },
  {
   "cell_type": "code",
   "execution_count": 4,
   "id": "1ead248a",
   "metadata": {},
   "outputs": [],
   "source": [
    "driver.get(\"https://www.azquotes.com/\")"
   ]
  },
  {
   "cell_type": "code",
   "execution_count": 71,
   "id": "420a3c91",
   "metadata": {},
   "outputs": [],
   "source": [
    "top1000=driver.find_element(By.XPATH, '/html/body/div[1]/div[1]/div[1]/div/div[3]/a[1]')\n",
    "top1000.click()"
   ]
  },
  {
   "cell_type": "code",
   "execution_count": 6,
   "id": "caf40282",
   "metadata": {},
   "outputs": [],
   "source": [
    "topquotes=driver.find_element(By.XPATH, '/html/body/div[1]/div[1]/div[1]/div/div[3]/ul/li[5]/a')\n",
    "topquotes.click()"
   ]
  },
  {
   "cell_type": "code",
   "execution_count": 7,
   "id": "f9eb321b",
   "metadata": {},
   "outputs": [],
   "source": [
    "quote=[]\n",
    "author=[]\n",
    "type_quote=[]\n"
   ]
  },
  {
   "cell_type": "code",
   "execution_count": 15,
   "id": "13cd76e0",
   "metadata": {},
   "outputs": [],
   "source": [
    "start = 1\n",
    "end = 101\n",
    "\n",
    "for page in range(start, end):\n",
    "    url = f'http://quotes.toscrape.com/page/{page}/'\n",
    "    driver.get(url)\n",
    "    \n",
    "    Q_Q = driver.find_elements(By.XPATH, '//div[@class=\"quote\"]//span[@class=\"text\"]')\n",
    "    for i in Q_Q:\n",
    "        QUO = i.text\n",
    "        quote.append(QUO)\n",
    "        \n",
    "    a_q = driver.find_elements(By.XPATH, '//div[@class=\"quote\"]//span/small[@class=\"author\"]')\n",
    "    for i in a_q:\n",
    "        QAUTHOR = i.text\n",
    "        author.append(QAUTHOR)\n",
    "        \n",
    "    t_q = driver.find_elements(By.XPATH, '//div[@class=\"quote\"]//div[@class=\"tags\"]//a[@class=\"tag\"]')\n",
    "    for i in t_q:\n",
    "        ty_quote = i.text\n",
    "        type_quote.append(ty_quote)\n",
    "\n",
    "df8 = pd.DataFrame(list(zip(quote, author, type_quote)),\n",
    "                  columns=['QUOTE', 'AUTHOR', 'TYPE'])"
   ]
  },
  {
   "cell_type": "code",
   "execution_count": 16,
   "id": "84e98082",
   "metadata": {},
   "outputs": [
    {
     "data": {
      "text/html": [
       "<div>\n",
       "<style scoped>\n",
       "    .dataframe tbody tr th:only-of-type {\n",
       "        vertical-align: middle;\n",
       "    }\n",
       "\n",
       "    .dataframe tbody tr th {\n",
       "        vertical-align: top;\n",
       "    }\n",
       "\n",
       "    .dataframe thead th {\n",
       "        text-align: right;\n",
       "    }\n",
       "</style>\n",
       "<table border=\"1\" class=\"dataframe\">\n",
       "  <thead>\n",
       "    <tr style=\"text-align: right;\">\n",
       "      <th></th>\n",
       "      <th>QUOTE</th>\n",
       "      <th>AUTHOR</th>\n",
       "      <th>TYPE</th>\n",
       "    </tr>\n",
       "  </thead>\n",
       "  <tbody>\n",
       "    <tr>\n",
       "      <th>0</th>\n",
       "      <td>“The world as we have created it is a process ...</td>\n",
       "      <td>Albert Einstein</td>\n",
       "      <td>change</td>\n",
       "    </tr>\n",
       "    <tr>\n",
       "      <th>1</th>\n",
       "      <td>“It is our choices, Harry, that show what we t...</td>\n",
       "      <td>J.K. Rowling</td>\n",
       "      <td>deep-thoughts</td>\n",
       "    </tr>\n",
       "    <tr>\n",
       "      <th>2</th>\n",
       "      <td>“There are only two ways to live your life. On...</td>\n",
       "      <td>Albert Einstein</td>\n",
       "      <td>thinking</td>\n",
       "    </tr>\n",
       "    <tr>\n",
       "      <th>3</th>\n",
       "      <td>“The person, be it gentleman or lady, who has ...</td>\n",
       "      <td>Jane Austen</td>\n",
       "      <td>world</td>\n",
       "    </tr>\n",
       "    <tr>\n",
       "      <th>4</th>\n",
       "      <td>“Imperfection is beauty, madness is genius and...</td>\n",
       "      <td>Marilyn Monroe</td>\n",
       "      <td>abilities</td>\n",
       "    </tr>\n",
       "    <tr>\n",
       "      <th>...</th>\n",
       "      <td>...</td>\n",
       "      <td>...</td>\n",
       "      <td>...</td>\n",
       "    </tr>\n",
       "    <tr>\n",
       "      <th>295</th>\n",
       "      <td>“You never really understand a person until yo...</td>\n",
       "      <td>Harper Lee</td>\n",
       "      <td>fate</td>\n",
       "    </tr>\n",
       "    <tr>\n",
       "      <th>296</th>\n",
       "      <td>“You have to write the book that wants to be w...</td>\n",
       "      <td>Madeleine L'Engle</td>\n",
       "      <td>life</td>\n",
       "    </tr>\n",
       "    <tr>\n",
       "      <th>297</th>\n",
       "      <td>“Never tell the truth to people who are not wo...</td>\n",
       "      <td>Mark Twain</td>\n",
       "      <td>misattributed-john-lennon</td>\n",
       "    </tr>\n",
       "    <tr>\n",
       "      <th>298</th>\n",
       "      <td>“A person's a person, no matter how small.”</td>\n",
       "      <td>Dr. Seuss</td>\n",
       "      <td>planning</td>\n",
       "    </tr>\n",
       "    <tr>\n",
       "      <th>299</th>\n",
       "      <td>“... a mind needs books as a sword needs a whe...</td>\n",
       "      <td>George R.R. Martin</td>\n",
       "      <td>plans</td>\n",
       "    </tr>\n",
       "  </tbody>\n",
       "</table>\n",
       "<p>300 rows × 3 columns</p>\n",
       "</div>"
      ],
      "text/plain": [
       "                                                 QUOTE              AUTHOR  \\\n",
       "0    “The world as we have created it is a process ...     Albert Einstein   \n",
       "1    “It is our choices, Harry, that show what we t...        J.K. Rowling   \n",
       "2    “There are only two ways to live your life. On...     Albert Einstein   \n",
       "3    “The person, be it gentleman or lady, who has ...         Jane Austen   \n",
       "4    “Imperfection is beauty, madness is genius and...      Marilyn Monroe   \n",
       "..                                                 ...                 ...   \n",
       "295  “You never really understand a person until yo...          Harper Lee   \n",
       "296  “You have to write the book that wants to be w...   Madeleine L'Engle   \n",
       "297  “Never tell the truth to people who are not wo...          Mark Twain   \n",
       "298        “A person's a person, no matter how small.”           Dr. Seuss   \n",
       "299  “... a mind needs books as a sword needs a whe...  George R.R. Martin   \n",
       "\n",
       "                          TYPE  \n",
       "0                       change  \n",
       "1                deep-thoughts  \n",
       "2                     thinking  \n",
       "3                        world  \n",
       "4                    abilities  \n",
       "..                         ...  \n",
       "295                       fate  \n",
       "296                       life  \n",
       "297  misattributed-john-lennon  \n",
       "298                   planning  \n",
       "299                      plans  \n",
       "\n",
       "[300 rows x 3 columns]"
      ]
     },
     "execution_count": 16,
     "metadata": {},
     "output_type": "execute_result"
    }
   ],
   "source": [
    "df8"
   ]
  },
  {
   "cell_type": "code",
   "execution_count": 12,
   "id": "bba78d12",
   "metadata": {},
   "outputs": [
    {
     "name": "stdout",
     "output_type": "stream",
     "text": [
      "******QUESTION 09*******\n"
     ]
    }
   ],
   "source": [
    "print(\"******QUESTION 09*******\")"
   ]
  },
  {
   "cell_type": "code",
   "execution_count": 40,
   "id": "14ce060b",
   "metadata": {},
   "outputs": [],
   "source": [
    "driver=webdriver.Chrome(r\"C:\\Users\\cws\\Desktop\\chromedriver_win32\\chromedriver.exe\")"
   ]
  },
  {
   "cell_type": "code",
   "execution_count": 41,
   "id": "f8b547cc",
   "metadata": {},
   "outputs": [],
   "source": [
    "driver.get(\"https://www.jagranjosh.com/\")"
   ]
  },
  {
   "cell_type": "code",
   "execution_count": 42,
   "id": "a929e55c",
   "metadata": {},
   "outputs": [],
   "source": [
    "gkoption=driver.find_element(By.XPATH, '/html/body/div/div[1]/div/div[1]/div/div[5]/div/div[1]/header/div[3]/ul/li[3]/a')\n",
    "gkoption.click()"
   ]
  },
  {
   "cell_type": "code",
   "execution_count": 43,
   "id": "e45ba869",
   "metadata": {},
   "outputs": [],
   "source": [
    "listofPM=driver.find_element(By.XPATH, '/html/body/div[1]/div/div/div[2]/div/div[10]/div/div/ul/li[2]/a')\n",
    "listofPM.click()"
   ]
  },
  {
   "cell_type": "code",
   "execution_count": 46,
   "id": "aa2fae23",
   "metadata": {},
   "outputs": [
    {
     "name": "stdout",
     "output_type": "stream",
     "text": [
      "                PM NAME  BIRTH-DEATH                    TERM OF OFFICE  \\\n",
      "0     Jawahar Lal Nehru  (1889–1964)     15 August 1947 to 27 May 1964   \n",
      "1         Indira Gandhi  (1898-1998)       27 May 1964 to 9 June 1964,   \n",
      "2         Indira Gandhi  (1904–1966)    9 June 1964 to 11 January 1966   \n",
      "3       Chandra Shekhar  (1898-1998)  24 January 1966 to 24 March 1977   \n",
      "4  Atal Bihari Vajpayee  (1917–1984)   24 March 1977 to  28 July 1979    \n",
      "5        Manmohan Singh  (1896–1995)   28 July 1979 to 14 January 1980   \n",
      "\n",
      "                                              REMARK  \n",
      "0  The first prime minister of India and the long...  \n",
      "1                           First acting PM of India  \n",
      "2  He has given the slogan of 'Jai Jawan Jai Kisa...  \n",
      "3                                                  -  \n",
      "4               First female Prime Minister of India  \n",
      "5  Oldest to become PM (81 years old) and first t...  \n"
     ]
    }
   ],
   "source": [
    "N_PM = driver.find_elements(By.XPATH, '/html/body/div[1]/div[2]/div/div[2]/div/div[1]/div/div/div/div[4]/span/div[4]/table/tbody/tr/td[2]/p/strong/a')\n",
    "for i in N_PM:\n",
    "    PM = i.text\n",
    "    Name_PM.append(PM)\n",
    "        \n",
    "b_d = driver.find_elements(By.XPATH, '/html/body/div[1]/div[2]/div/div[2]/div/div[1]/div/div/div/div[4]/span/div[4]/table/tbody/tr/td[3]/p')\n",
    "for i in b_d:\n",
    "    Bo_dead = i.text\n",
    "    Born_Dead.append(Bo_dead)\n",
    "        \n",
    "t_o_o = driver.find_elements(By.XPATH, '/html/body/div[1]/div[2]/div/div[2]/div/div[1]/div/div/div/div[4]/span/div[4]/table/tbody/tr/td[4]/p[1]/span')\n",
    "for i in t_o_o:\n",
    "    terms = i.text\n",
    "    term_of_office.append(terms)\n",
    "        \n",
    "r_r = driver.find_elements(By.XPATH, '/html/body/div[1]/div[2]/div/div[2]/div/div[1]/div/div/div/div[4]/span/div[4]/table/tbody/tr/td[5]/p')\n",
    "for i in r_r:\n",
    "    Re = i.text\n",
    "    Remark.append(Re)\n",
    "\n",
    "df9 = pd.DataFrame(list(zip(Name_PM, Born_Dead, term_of_office, Remark)),\n",
    "                  columns=['PM NAME', 'BIRTH-DEATH', 'TERM OF OFFICE', 'REMARK']) \n",
    "\n",
    "print(df9)"
   ]
  },
  {
   "cell_type": "code",
   "execution_count": 50,
   "id": "fec71f22",
   "metadata": {},
   "outputs": [
    {
     "name": "stdout",
     "output_type": "stream",
     "text": [
      "****Question 9 done, all data extracted as needed****** \n"
     ]
    }
   ],
   "source": [
    "print(\"****Question 9 done, all data extracted as needed****** \")"
   ]
  },
  {
   "cell_type": "code",
   "execution_count": 49,
   "id": "12002167",
   "metadata": {},
   "outputs": [
    {
     "name": "stdout",
     "output_type": "stream",
     "text": [
      "*****QUESTION 10*******\n"
     ]
    }
   ],
   "source": [
    "print(\"*****QUESTION 10*******\")"
   ]
  },
  {
   "cell_type": "code",
   "execution_count": 51,
   "id": "08fdded4",
   "metadata": {},
   "outputs": [],
   "source": [
    "driver=webdriver.Chrome(r\"C:\\Users\\cws\\Desktop\\chromedriver_win32\\chromedriver.exe\")"
   ]
  },
  {
   "cell_type": "code",
   "execution_count": 52,
   "id": "bb842fac",
   "metadata": {},
   "outputs": [],
   "source": [
    "driver.get(\"https://www.motor1.com/\")"
   ]
  },
  {
   "cell_type": "code",
   "execution_count": 53,
   "id": "2f6d0bb1",
   "metadata": {},
   "outputs": [
    {
     "name": "stdout",
     "output_type": "stream",
     "text": [
      "*********This cannot be done because there is no 50 most expensive cars in the world option in the left menu button\n"
     ]
    }
   ],
   "source": [
    "print(\"*********This cannot be done because there is no 50 most expensive cars in the world option in the left menu button\")"
   ]
  },
  {
   "cell_type": "code",
   "execution_count": null,
   "id": "329d3036",
   "metadata": {},
   "outputs": [],
   "source": []
  }
 ],
 "metadata": {
  "kernelspec": {
   "display_name": "Python 3 (ipykernel)",
   "language": "python",
   "name": "python3"
  },
  "language_info": {
   "codemirror_mode": {
    "name": "ipython",
    "version": 3
   },
   "file_extension": ".py",
   "mimetype": "text/x-python",
   "name": "python",
   "nbconvert_exporter": "python",
   "pygments_lexer": "ipython3",
   "version": "3.9.12"
  }
 },
 "nbformat": 4,
 "nbformat_minor": 5
}
